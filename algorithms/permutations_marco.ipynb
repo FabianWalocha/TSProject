{
 "cells": [
  {
   "cell_type": "markdown",
   "metadata": {},
   "source": [
    "# Solution space reduction\n",
    "\n",
    "## 1. Library import"
   ]
  },
  {
   "cell_type": "code",
   "execution_count": null,
   "metadata": {
    "collapsed": true
   },
   "outputs": [],
   "source": [
    "import numpy as np"
   ]
  },
  {
   "cell_type": "markdown",
   "metadata": {},
   "source": [
    "## 2. Permutations generator\n",
    "\n",
    "Generates all permuations of a list of elements"
   ]
  },
  {
   "cell_type": "code",
   "execution_count": 2,
   "metadata": {
    "collapsed": false
   },
   "outputs": [
    {
     "name": "stdout",
     "output_type": "stream",
     "text": [
      "[[1, 2, 3], [1, 3, 2], [2, 1, 3], [2, 3, 1], [3, 1, 2], [3, 2, 1]]\n"
     ]
    }
   ],
   "source": [
    "# Version 1: memory efficient, since it uses generators but no backtracking available\n",
    "\n",
    "def permutations_v1(perm,s):\n",
    "    \n",
    "    if len(s) == 0:\n",
    "        yield perm\n",
    "    \n",
    "    for k in s:\n",
    "        L = s.copy()\n",
    "        L.remove(k)\n",
    "        for p in permutations_v1([*perm,k], L):\n",
    "            yield p\n",
    "\n",
    "# Number of vertices\n",
    "n = 3\n",
    "list_to_shuffle = list(range(1,n+1))\n",
    "\n",
    "# Obtaining the permutations\n",
    "pp = list(permutations_v1([], list_to_shuffle))    \n",
    "print(pp)    "
   ]
  },
  {
   "cell_type": "code",
   "execution_count": 3,
   "metadata": {
    "collapsed": false
   },
   "outputs": [
    {
     "name": "stdout",
     "output_type": "stream",
     "text": [
      "[[1, 2, 3]]\n",
      "[[1, 2, 3], [1, 3, 2]]\n",
      "[[1, 2, 3], [1, 3, 2], [2, 1, 3]]\n",
      "[[1, 2, 3], [1, 3, 2], [2, 1, 3], [2, 3, 1]]\n",
      "[[1, 2, 3], [1, 3, 2], [2, 1, 3], [2, 3, 1], [3, 1, 2]]\n",
      "[[1, 2, 3], [1, 3, 2], [2, 1, 3], [2, 3, 1], [3, 1, 2], [3, 2, 1]]\n"
     ]
    }
   ],
   "source": [
    "# Version 2: allows backtracking\n",
    "\n",
    "def permutations_v2(perm,s,perm_list=[]):\n",
    "    \n",
    "    if len(s) == 0:\n",
    "        perm_list.append(perm)\n",
    "        print(perm_list) # for backtracking\n",
    "        return perm\n",
    "    \n",
    "    for k in s: \n",
    "        L = s.copy()\n",
    "        L.remove(k)\n",
    "        permutations_v2([*perm,k], L)\n",
    "    return perm_list\n",
    "           \n",
    "# Number of vertices\n",
    "n = 3\n",
    "list_to_shuffle = list(range(1,n+1))\n",
    "\n",
    "# Obtaining the permutations\n",
    "pp = permutations_v2([], list_to_shuffle)\n",
    "# print(pp)        "
   ]
  },
  {
   "cell_type": "markdown",
   "metadata": {},
   "source": [
    "## 3. Unique permutations generator\n",
    "\n",
    "Slight modification of permutations_v2. Before appending a new permutation:\n",
    "1. We verify that it not repeated by considering only paths that begin with \"1\".\n",
    "2. We check that the pattern cannot be reproduced with other path.\n",
    "3. There should not be a backwards version of the path."
   ]
  },
  {
   "cell_type": "code",
   "execution_count": null,
   "metadata": {
    "collapsed": false
   },
   "outputs": [],
   "source": [
    "# 2,3 Helper function to determine if a path has an index shift\n",
    "def is_shifted(candidate,perm_list):\n",
    "    \n",
    "    for perm in perm_list:\n",
    "        perm_str_double = \"\".join(str(x) for x in perm)+\"\".join(str(x) for x in perm)\n",
    "        perm_str_double_inv = perm_str_double[::-1]\n",
    "        cand_str = \"\".join(str(x) for x in candidate)\n",
    "        if cand_str in perm_str_double or cand_str in perm_str_double_inv:\n",
    "            return True\n",
    "        \n",
    "    return False\n",
    "    \n",
    "def permutations_v3(perm,s,n,perm_list=[]):\n",
    "    \n",
    "    if len(s) == 0 and not is_shifted(perm, perm_list):\n",
    "        perm_list.append(perm)\n",
    "#         print(perm_list) # for backtracking\n",
    "        return perm\n",
    "    \n",
    "    for k in s: \n",
    "        # [1]\n",
    "        if k > 1 and len(s)==n:\n",
    "            return perm_list\n",
    "        \n",
    "        L = s.copy()\n",
    "        L.remove(k)\n",
    "        permutations_v3([*perm,k], L,n)\n",
    "    return perm_list\n",
    "           \n",
    "# Number of vertices\n",
    "n =9\n",
    "list_to_shuffle = list(range(1,n+1))\n",
    "\n",
    "# Obtaining the permutations\n",
    "pp = permutations_v3([], list_to_shuffle,n)\n",
    "print('n =',n)\n",
    "print('Number of permutations:',len(pp))\n",
    "# print('Permutations:',pp)      \n"
   ]
  },
  {
   "cell_type": "code",
   "execution_count": null,
   "metadata": {
    "collapsed": true
   },
   "outputs": [],
   "source": []
  }
 ],
 "metadata": {
  "anaconda-cloud": {},
  "kernelspec": {
   "display_name": "Python [Anaconda3]",
   "language": "python",
   "name": "Python [Anaconda3]"
  },
  "language_info": {
   "codemirror_mode": {
    "name": "ipython",
    "version": 3
   },
   "file_extension": ".py",
   "mimetype": "text/x-python",
   "name": "python",
   "nbconvert_exporter": "python",
   "pygments_lexer": "ipython3",
   "version": "3.5.2"
  }
 },
 "nbformat": 4,
 "nbformat_minor": 0
}
