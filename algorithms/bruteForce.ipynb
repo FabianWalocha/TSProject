{
 "cells": [
  {
   "cell_type": "code",
   "execution_count": 262,
   "metadata": {},
   "outputs": [],
   "source": [
    "import numpy as np\n",
    "import math as mt\n",
    "import random as rd\n",
    "import matplotlib.pyplot as plt"
   ]
  },
  {
   "cell_type": "code",
   "execution_count": 263,
   "metadata": {},
   "outputs": [
    {
     "data": {
      "text/plain": [
       "[[inf, 3, 6, 5], [7, inf, 5, 6], [2, 2, inf, 1], [3, 3, 3, inf]]"
      ]
     },
     "execution_count": 263,
     "metadata": {},
     "output_type": "execute_result"
    }
   ],
   "source": [
    "adj_matrix = [[np.inf,rd.randint(1,10),rd.randint(1,10),rd.randint(1,10)],\n",
    "              [rd.randint(1,10),np.inf,rd.randint(1,10),rd.randint(1,10)],\n",
    "              [rd.randint(1,10),rd.randint(1,10),np.inf,rd.randint(1,10)],\n",
    "              [rd.randint(1,10),rd.randint(1,10),rd.randint(1,10),np.inf]]\n",
    "adj_matrix"
   ]
  },
  {
   "cell_type": "code",
   "execution_count": 264,
   "metadata": {},
   "outputs": [],
   "source": [
    "# inspiration: https://en.wikipedia.org/wiki/Factorial_number_system#Permutations\n",
    "def permute(nNodes):\n",
    "    return([getPermutation(nNodes, calculateFactoradic(idx, nNodes)) for idx in range(mt.factorial(nNodes))])\n",
    "    \n",
    "# displays num in the factorial number system\n",
    "def calculateFactoradic(num, nNodes):\n",
    "    factoradic = []\n",
    "    for idx in np.arange(nNodes)[::-1]:\n",
    "        hFac = mt.factorial(idx)\n",
    "        factoradic.append(int(num/hFac))\n",
    "        num = np.mod(num,hFac)\n",
    "    return factoradic\n",
    "\n",
    "def getPermutation(nNodes, factoradic):\n",
    "    nodeList = list(range(nNodes))\n",
    "    perm = []\n",
    "    for idx in factoradic:\n",
    "        perm.append(nodeList[idx])\n",
    "        del nodeList[idx]\n",
    "    return perm"
   ]
  },
  {
   "cell_type": "code",
   "execution_count": 269,
   "metadata": {},
   "outputs": [
    {
     "data": {
      "text/plain": [
       "[[0, 1, 2, 3],\n",
       " [0, 1, 3, 2],\n",
       " [0, 2, 1, 3],\n",
       " [0, 2, 3, 1],\n",
       " [0, 3, 1, 2],\n",
       " [0, 3, 2, 1],\n",
       " [1, 0, 2, 3],\n",
       " [1, 0, 3, 2],\n",
       " [1, 2, 0, 3],\n",
       " [1, 2, 3, 0],\n",
       " [1, 3, 0, 2],\n",
       " [1, 3, 2, 0],\n",
       " [2, 0, 1, 3],\n",
       " [2, 0, 3, 1],\n",
       " [2, 1, 0, 3],\n",
       " [2, 1, 3, 0],\n",
       " [2, 3, 0, 1],\n",
       " [2, 3, 1, 0],\n",
       " [3, 0, 1, 2],\n",
       " [3, 0, 2, 1],\n",
       " [3, 1, 0, 2],\n",
       " [3, 1, 2, 0],\n",
       " [3, 2, 0, 1],\n",
       " [3, 2, 1, 0]]"
      ]
     },
     "execution_count": 269,
     "metadata": {},
     "output_type": "execute_result"
    }
   ],
   "source": [
    "perm"
   ]
  },
  {
   "cell_type": "code",
   "execution_count": 273,
   "metadata": {},
   "outputs": [
    {
     "name": "stdout",
     "output_type": "stream",
     "text": [
      "9\n",
      "11\n",
      "13\n",
      "15\n",
      "16\n",
      "17\n",
      "18\n",
      "19\n",
      "20\n",
      "21\n",
      "22\n",
      "23\n"
     ]
    }
   ],
   "source": [
    "perm = permute(4)\n",
    "for idx, p in enumerate(perm):\n",
    "    # If the last index is smaller than the first, this means its a repetition of a path already traversed\n",
    "    if p[0]>p[-1]:\n",
    "        print(idx)"
   ]
  }
 ],
 "metadata": {
  "kernelspec": {
   "display_name": "Python 3",
   "language": "python",
   "name": "python3"
  },
  "language_info": {
   "codemirror_mode": {
    "name": "ipython",
    "version": 3
   },
   "file_extension": ".py",
   "mimetype": "text/x-python",
   "name": "python",
   "nbconvert_exporter": "python",
   "pygments_lexer": "ipython3",
   "version": "3.6.5"
  }
 },
 "nbformat": 4,
 "nbformat_minor": 2
}
