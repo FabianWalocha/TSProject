{
 "cells": [
  {
   "cell_type": "code",
   "execution_count": 1,
   "metadata": {},
   "outputs": [],
   "source": [
    "import numpy as np\n",
    "import math as mt\n",
    "import random as rd\n",
    "import matplotlib.pyplot as plt"
   ]
  },
  {
   "cell_type": "code",
   "execution_count": 2,
   "metadata": {},
   "outputs": [
    {
     "data": {
      "text/plain": [
       "[[inf, 2, 10, 2], [8, inf, 9, 8], [7, 7, inf, 8], [5, 9, 8, inf]]"
      ]
     },
     "execution_count": 2,
     "metadata": {},
     "output_type": "execute_result"
    }
   ],
   "source": [
    "adj_matrix = [[np.inf,rd.randint(1,10),rd.randint(1,10),rd.randint(1,10)],\n",
    "              [rd.randint(1,10),np.inf,rd.randint(1,10),rd.randint(1,10)],\n",
    "              [rd.randint(1,10),rd.randint(1,10),np.inf,rd.randint(1,10)],\n",
    "              [rd.randint(1,10),rd.randint(1,10),rd.randint(1,10),np.inf]]\n",
    "adj_matrix"
   ]
  },
  {
   "cell_type": "code",
   "execution_count": 11,
   "metadata": {},
   "outputs": [],
   "source": [
    "# inspiration: https://en.wikipedia.org/wiki/Factorial_number_system#Permutations\n",
    "def permute(nNodes):\n",
    "    return([getPermutation(nNodes, calculateFactoradic(idx, nNodes)) for idx in range(mt.factorial(nNodes))])\n",
    "    \n",
    "# displays num in the factorial number system\n",
    "def calculateFactoradic(num, nNodes):\n",
    "    factoradic = []\n",
    "    for idx in np.arange(nNodes)[::-1]:\n",
    "        hFac = mt.factorial(idx)\n",
    "        factoradic.append(int(num/hFac))\n",
    "        num = np.mod(num,hFac)\n",
    "    return factoradic\n",
    "\n",
    "def getPermutation(nNodes, factoradic):\n",
    "    #this accounts for \n",
    "    #if factoradic[0] >= factoradic.count(0):\n",
    "    #    return []\n",
    "    #else:\n",
    "    nodeList = list(range(nNodes))\n",
    "    perm = []\n",
    "    for idx in factoradic:\n",
    "        perm.append(nodeList[idx])\n",
    "        del nodeList[idx]\n",
    "    return perm"
   ]
  },
  {
   "cell_type": "code",
   "execution_count": 20,
   "metadata": {},
   "outputs": [
    {
     "data": {
      "text/plain": [
       "[[0, 1, 2], [0, 2, 1], [1, 0, 2], [1, 2, 0], [2, 0, 1], [2, 1, 0]]"
      ]
     },
     "execution_count": 20,
     "metadata": {},
     "output_type": "execute_result"
    }
   ],
   "source": [
    "permute(3)"
   ]
  },
  {
   "cell_type": "code",
   "execution_count": 19,
   "metadata": {},
   "outputs": [
    {
     "name": "stdout",
     "output_type": "stream",
     "text": [
      "index        9\n",
      "permutation  [1, 2, 3, 0]\n",
      "factoradic   [1, 1, 1, 0]\n",
      "index        11\n",
      "permutation  [1, 3, 2, 0]\n",
      "factoradic   [1, 2, 1, 0]\n",
      "index        13\n",
      "permutation  [2, 0, 3, 1]\n",
      "factoradic   [2, 0, 1, 0]\n",
      "index        15\n",
      "permutation  [2, 1, 3, 0]\n",
      "factoradic   [2, 1, 1, 0]\n",
      "index        16\n",
      "permutation  [2, 3, 0, 1]\n",
      "factoradic   [2, 2, 0, 0]\n",
      "index        17\n",
      "permutation  [2, 3, 1, 0]\n",
      "factoradic   [2, 2, 1, 0]\n",
      "index        18\n",
      "permutation  [3, 0, 1, 2]\n",
      "factoradic   [3, 0, 0, 0]\n",
      "index        19\n",
      "permutation  [3, 0, 2, 1]\n",
      "factoradic   [3, 0, 1, 0]\n",
      "index        20\n",
      "permutation  [3, 1, 0, 2]\n",
      "factoradic   [3, 1, 0, 0]\n",
      "index        21\n",
      "permutation  [3, 1, 2, 0]\n",
      "factoradic   [3, 1, 1, 0]\n",
      "index        22\n",
      "permutation  [3, 2, 0, 1]\n",
      "factoradic   [3, 2, 0, 0]\n",
      "index        23\n",
      "permutation  [3, 2, 1, 0]\n",
      "factoradic   [3, 2, 1, 0]\n"
     ]
    }
   ],
   "source": [
    "perm = permute(4)\n",
    "for idx, p in enumerate(perm):\n",
    "    # If the last index is smaller than the first, this means its a redundand path\n",
    "    if p[0]>p[-1]:\n",
    "        print(\"index       \", idx)\n",
    "        print(\"permutation \", p)\n",
    "        print(\"factoradic  \", calculateFactoradic(idx,4))"
   ]
  }
 ],
 "metadata": {
  "kernelspec": {
   "display_name": "Python 3",
   "language": "python",
   "name": "python3"
  },
  "language_info": {
   "codemirror_mode": {
    "name": "ipython",
    "version": 3
   },
   "file_extension": ".py",
   "mimetype": "text/x-python",
   "name": "python",
   "nbconvert_exporter": "python",
   "pygments_lexer": "ipython3",
   "version": "3.6.5"
  }
 },
 "nbformat": 4,
 "nbformat_minor": 2
}
