{
 "cells": [
  {
   "cell_type": "markdown",
   "metadata": {},
   "source": [
    "# Randomized Approach TSP"
   ]
  },
  {
   "cell_type": "code",
   "execution_count": 254,
   "metadata": {
    "collapsed": true
   },
   "outputs": [],
   "source": [
    "import time\n",
    "import math\n",
    "import itertools\n",
    "import random\n",
    "import numpy as np\n",
    "\n",
    "def distance(x1,y1,x2,y2):\n",
    "    return math.sqrt((x1-y1)**2+(x2-y2)**2)\n",
    "\n",
    "def total_distance_tour(tour):\n",
    "    global d\n",
    "    d = 0\n",
    "    # print(\"Cities and coordinates=\",cities)\n",
    "    # print(\"Randomly selected city tour=\",tour)\n",
    "    for i in range(1,len(tour)):\n",
    "        x1=cities[tour[i-1]][0]                     \n",
    "        x2=cities[tour[i-1]][1]\n",
    "        y1=cities[tour[i]][0]\n",
    "        y2=cities[tour[i]][1]\n",
    "        d = d + distance(x1,y1,x2,y2)\n",
    "    x1=cities[tour[len(tour)-1]][0]\n",
    "    y1=cities[tour[len(tour)-1]][1]\n",
    "    x2=cities[tour[0]][0]\n",
    "    y2=cities[tour[0]][1]\n",
    "    d = d + distance(x1,y1,x2,y2)\n",
    "    # print(\"Total travel distance is =\",d)"
   ]
  },
  {
   "cell_type": "code",
   "execution_count": 255,
   "metadata": {},
   "outputs": [
    {
     "name": "stdout",
     "output_type": "stream",
     "text": [
      "[[11, 8], [16, 95], [95, 21], [92, 96], [86, 14], [67, 80], [29, 51], [93, 79]]\n"
     ]
    }
   ],
   "source": [
    "n = 8\n",
    "cities = [random.sample(range(100),2) for x in range(n)]     # creating cities with coordinates\n",
    "print(cities)"
   ]
  },
  {
   "cell_type": "code",
   "execution_count": 256,
   "metadata": {
    "collapsed": true
   },
   "outputs": [],
   "source": [
    "tour = random.sample(range(n),n)"
   ]
  },
  {
   "cell_type": "code",
   "execution_count": 257,
   "metadata": {},
   "outputs": [
    {
     "name": "stdout",
     "output_type": "stream",
     "text": [
      "Total distance is  428.3276791769717\n",
      "The route is [7, 2, 4, 3, 1, 0, 6, 5]\n",
      "0.0  seconds execution time of RANDOM APPROACH code\n"
     ]
    }
   ],
   "source": [
    "start_time = time.time()\n",
    "\n",
    "total_distance_tour(tour)\n",
    "print(\"Total distance is \",d)\n",
    "print(\"The route is\",tour)\n",
    "\n",
    "end_time = time.time()\n",
    "print(end_time-start_time,\" seconds execution time of RANDOM APPROACH code\")"
   ]
  },
  {
   "cell_type": "markdown",
   "metadata": {},
   "source": [
    "# Brute Force Approach TSP"
   ]
  },
  {
   "cell_type": "code",
   "execution_count": 258,
   "metadata": {},
   "outputs": [
    {
     "data": {
      "text/plain": [
       "[[11, 8], [16, 95], [95, 21], [92, 96], [86, 14], [67, 80], [29, 51], [93, 79]]"
      ]
     },
     "execution_count": 258,
     "metadata": {},
     "output_type": "execute_result"
    }
   ],
   "source": [
    "cities       # Same cities"
   ]
  },
  {
   "cell_type": "code",
   "execution_count": 259,
   "metadata": {},
   "outputs": [
    {
     "name": "stdout",
     "output_type": "stream",
     "text": [
      "Number of all possible tours in 8 city is 40320\n",
      "One possible tour: (7, 2, 0, 6, 4, 1, 5, 3)\n"
     ]
    }
   ],
   "source": [
    "all_possible_tour = list(itertools.permutations(tour))   # Simple permutation operation\n",
    "print(\"Number of all possible tours in 8 city is\",len(all_possible_tour))                            \n",
    "print(\"One possible tour:\",all_possible_tour[435])          "
   ]
  },
  {
   "cell_type": "code",
   "execution_count": 260,
   "metadata": {},
   "outputs": [
    {
     "name": "stdout",
     "output_type": "stream",
     "text": [
      "0.782534122467041  seconds execution time of BRUTE FORCE code\n"
     ]
    }
   ],
   "source": [
    "start_time = time.time()\n",
    "\n",
    "all_possible_tours_distance = []                 # We Will append all tours' distance to empty list \n",
    "for per in all_possible_tour:\n",
    "    total_distance_tour(per)\n",
    "    all_possible_tours_distance.append(d)\n",
    "    \n",
    "end_time = time.time()\n",
    "print(end_time-start_time,\" seconds execution time of BRUTE FORCE code\")"
   ]
  },
  {
   "cell_type": "code",
   "execution_count": 261,
   "metadata": {},
   "outputs": [
    {
     "name": "stdout",
     "output_type": "stream",
     "text": [
      "Worst route = (5, 0, 7, 6, 3, 4, 1, 2)\n",
      "Longest distance = 719.612129451438\n",
      "---------------------------------------------------------\n",
      "Best route = (3, 7, 2, 4, 5, 1, 6, 0)\n",
      "Shortest distance= 305.8018949769291\n"
     ]
    }
   ],
   "source": [
    "max_distance_index = np.argmax(all_possible_tours_distance)   # The which element has the maximum distance of tour ?\n",
    "print(\"Worst route =\",all_possible_tour[max_distance_index])\n",
    "print(\"Longest distance =\",all_possible_tours_distance[max_distance_index])        \n",
    "print(\"---------------------------------------------------------\")\n",
    "\n",
    "min_distance_index = np.argmin(all_possible_tours_distance)  # The which element has the minimum distance of tour ?\n",
    "print(\"Best route =\",all_possible_tour[min_distance_index])               \n",
    "print(\"Shortest distance=\",all_possible_tours_distance[min_distance_index])     "
   ]
  }
 ],
 "metadata": {
  "kernelspec": {
   "display_name": "Python 3",
   "language": "python",
   "name": "python3"
  },
  "language_info": {
   "codemirror_mode": {
    "name": "ipython",
    "version": 3
   },
   "file_extension": ".py",
   "mimetype": "text/x-python",
   "name": "python",
   "nbconvert_exporter": "python",
   "pygments_lexer": "ipython3",
   "version": "3.6.2"
  }
 },
 "nbformat": 4,
 "nbformat_minor": 2
}
