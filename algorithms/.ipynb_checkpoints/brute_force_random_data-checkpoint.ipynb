{
 "cells": [
  {
   "cell_type": "code",
   "execution_count": 333,
   "metadata": {},
   "outputs": [],
   "source": [
    "import pandas as pd\n",
    "import numpy as np\n",
    "import matplotlib.pyplot as plt\n",
    "import random, math, copy\n",
    "from faker import Faker\n",
    "from sympy.utilities.iterables import multiset_permutations\n",
    "from operator import itemgetter\n",
    "\n",
    "\n",
    "#Styles for plot\n",
    "%matplotlib inline\n",
    "plt.style.use('seaborn-notebook')\n",
    "\n",
    "#constants to generate data     \n",
    "DOTS_N  = 7\n",
    "DIST_RANGE = 8\n",
    "fr_fr_faker = Faker('fr_FR')  # set French facker\n",
    "\n",
    "#Generator\n",
    "dots_pure = [random.sample(range(DIST_RANGE),2) for x in range(DOTS_N)]\n",
    "listofcitynames = [fr_fr_faker.city() for x in range(DOTS_N)]\n",
    "\n",
    "#Build distance matrix and Data Frame (for test, are not used anywhere for now)\n",
    "array_dots = np.array(dots_pure)\n",
    "M=[[math.sqrt(sum([(array_dots[i][d]-array_dots[j][d])**2 for d in[0,1]]))for j in range(DOTS_N)]for i in range(DOTS_N)]\n",
    "df = pd.DataFrame(np.matrix(M), columns=listofcitynames, index=listofcitynames)\n",
    "#print(df)"
   ]
  },
  {
   "cell_type": "code",
   "execution_count": 334,
   "metadata": {},
   "outputs": [
    {
     "data": {
      "image/png": "[encoded data removed]",
      "text/plain": [
       "<matplotlib.figure.Figure at 0x1156de8d0>"
      ]
     },
     "metadata": {},
     "output_type": "display_data"
    }
   ],
   "source": [
    "#Plot dots with labels\n",
    "plt.plot([dots_pure[i][0]for i in range(DOTS_N)], [dots_pure[i][1]for i in range(DOTS_N)],'c8')\n",
    "for i in range(DOTS_N):\n",
    "    plt.annotate(\n",
    "        listofcitynames[i],\n",
    "        xy=(dots_pure[i][0], dots_pure[i][1]))\n",
    "plt.show()  "
   ]
  },
  {
   "cell_type": "code",
   "execution_count": 335,
   "metadata": {},
   "outputs": [
    {
     "name": "stdout",
     "output_type": "stream",
     "text": [
      "Number of possible permutations =  5040\n",
      "Min Distance =  20.93134355147113\n",
      "Min Path =  ['Bonnet', 'CollinVille', 'Saint Rémy', 'Sainte Diane', 'Tanguy-sur-Colin', 'Bertrand', 'Gilles']\n"
     ]
    }
   ],
   "source": [
    "#Combine city names and dots\n",
    "dots =[[listofcitynames[i],dots_pure[i]] for i in range(DOTS_N)]\n",
    "\n",
    "#Generate all possible unique permutations\n",
    "print(\"Number of possible permutations = \", math.factorial(DOTS_N))\n",
    "possibleWays=list(multiset_permutations(dots))\n",
    "\n",
    "#Calculate distances, combine appropriate pathes\n",
    "ways_distance = [sum([math.sqrt(sum([(possibleWays[j][i+1][1][d]-possibleWays[j][i][1][d])**2 for d in[0,1]]))for i in range(DOTS_N-1)]) + sum([math.sqrt(sum([(possibleWays[j][DOTS_N-1][1][d]-possibleWays[j][0][1][d])**2 for d in[0,1]]))]) for j in range(len(possibleWays)-1)]              \n",
    "ways_path = [[possibleWays[j][i][0] for i in range(DOTS_N)]for j in range(len(possibleWays)-1)]\n",
    "output =[[ways_distance[i],ways_path[i]] for i in range(len(possibleWays)-1)]\n",
    "\n",
    "#Get minimum distance and path\n",
    "min_output = sorted(output, key=itemgetter(0))[0]\n",
    "print('Min Distance = ', min_output[0])\n",
    "print('Min Path = ', min_output[1])\n",
    "#print('Middle distance = ', sorted(output, key=itemgetter(0))[5038])\n",
    "#print(sorted(output, key=itemgetter(0)))\n"
   ]
  }
 ],
 "metadata": {
  "kernelspec": {
   "display_name": "Python 3",
   "language": "python",
   "name": "python3"
  }
 },
 "nbformat": 4,
 "nbformat_minor": 2
}
