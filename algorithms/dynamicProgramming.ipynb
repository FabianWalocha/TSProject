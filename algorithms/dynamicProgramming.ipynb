{
 "cells": [
  {
   "cell_type": "markdown",
   "metadata": {},
   "source": [
    "## 1. Library Import"
   ]
  },
  {
   "cell_type": "code",
   "execution_count": 26,
   "metadata": {
    "collapsed": true
   },
   "outputs": [],
   "source": [
    "import numpy as np\n",
    "import time\n",
    "import itertools\n",
    "\n",
    "__author__ = \"Marco Odehnal\"\n",
    "__copyright__ = \"Copyright 2018\"\n",
    "__status__ = \"Prototype\""
   ]
  },
  {
   "cell_type": "markdown",
   "metadata": {},
   "source": [
    "## 2. Problem formulation"
   ]
  },
  {
   "cell_type": "code",
   "execution_count": 183,
   "metadata": {
    "collapsed": false
   },
   "outputs": [],
   "source": [
    "# The cities for the problem, taken from att48\n",
    "cities = np.matrix([[1, 6734, 1453],\n",
    "                    [2, 2233, 10],\n",
    "                    [3, 5530, 1424],\n",
    "                    [4, 401, 841],\n",
    "                    [5, 3082, 1644],\n",
    "                    [6, 7608, 4458],\n",
    "                    [7, 7573, 3716],\n",
    "                   [8, 123, 8526],\n",
    "                   [9, 4356, 376],\n",
    "                   [10, 7456, 236],\n",
    "                    [11, 67534, 14553],\n",
    "                    [2, 22353, 150],\n",
    "                    [3, 55530, 14524],\n",
    "                    [4, 45501, 841],\n",
    "                    [5, 350852, 16544],\n",
    "                    [6, 76508, 4458],\n",
    "                    [7, 75573, 35716],\n",
    "                   [8, 1253, 85526],\n",
    "                   [9, 43556, 5376],\n",
    "                   [10, 57456, 2536]                   ])\n",
    "\n",
    "# The number of verteces \n",
    "n = np.size(cities,0)\n",
    "\n",
    "# Adjacency matrix\n",
    "# NOT OPTIMAL GENERATION, JUST FOR TESTING\n",
    "M = np.matrix([[np.linalg.norm(cities[i,1:3]-cities[j,1:3]) for j in range(n)] for i in range(n)])"
   ]
  },
  {
   "cell_type": "markdown",
   "metadata": {},
   "source": [
    "## 3. Divide and conquer"
   ]
  },
  {
   "cell_type": "code",
   "execution_count": 231,
   "metadata": {
    "collapsed": false
   },
   "outputs": [
    {
     "name": "stdout",
     "output_type": "stream",
     "text": [
      "Time: 0.0\n",
      "Minimum_cost: 10.0\n",
      "Best path: [1, 2, 4, 3, 1]\n"
     ]
    }
   ],
   "source": [
    "M = np.matrix([[np.inf,2,3,5],\n",
    "             [2,np.inf,6,1],\n",
    "             [3,6,np.inf,4],\n",
    "             [5,1,4,np.inf]])\n",
    "\n",
    "L = list(range(2,4+1))\n",
    "\n",
    "\n",
    "def DP(i,rem_nodes):\n",
    "    \n",
    "    # If there are no more nodes to traverse, it means we reached the end of the path, so we go back to the initial vertex\n",
    "    if len(rem_nodes) == 0:\n",
    "        # Calculates the distance between the node and the starting point\n",
    "        cost = M[i -1,0]\n",
    "        return cost, [1,i]\n",
    "    \n",
    "    else:\n",
    "        \n",
    "        # Initialize minimum cost\n",
    "        min_cost = np.inf\n",
    "        \n",
    "        # fix an element \"k\" and select the optimal solutions of the subproblems without k\n",
    "        for k in rem_nodes:\n",
    "            \n",
    "            # Recursive call to the subproblems\n",
    "            sub_cost,sub_node=DP(k,[x for x in rem_nodes if x!= k])\n",
    "            \n",
    "            # Storing the optimal solutions in temporary variables\n",
    "            if sub_cost < min_cost:\n",
    "                index_opt = k\n",
    "                opt_nodes = sub_node\n",
    "                min_cost = sub_cost           \n",
    "        \n",
    "        # Update de cost\n",
    "        cost = M[i -1,index_opt -1] + min_cost  \n",
    "        \n",
    "        # Return the optimal cost and the path that allowed us to find it\n",
    "        return cost,  opt_nodes + [i]\n",
    "\n",
    "t1 = time.time()     \n",
    "    \n",
    "cost, path = DP(1,L)\n",
    "\n",
    "t2= time.time()\n",
    "\n",
    "print('Time:', t2-t1)    \n",
    "print('Minimum_cost:',cost)\n",
    "print('Best path:',path)    "
   ]
  },
  {
   "cell_type": "markdown",
   "metadata": {
    "collapsed": false
   },
   "source": [
    "## 4. Dynamic Proramming"
   ]
  },
  {
   "cell_type": "code",
   "execution_count": 185,
   "metadata": {
    "collapsed": false
   },
   "outputs": [
    {
     "name": "stdout",
     "output_type": "stream",
     "text": [
      "Time: 0.03702592849731445\n",
      "Minimum_cost: 28358.3769423\n",
      "Best path: [1, 3, 9, 5, 8, 2, 7, 10, 6, 4]\n"
     ]
    }
   ],
   "source": [
    "# M = np.matrix([[np.inf,2,3,5],\n",
    "#              [2,np.inf,6,1],\n",
    "#              [3,6,np.inf,4],\n",
    "#              [5,1,4,np.inf]])\n",
    "\n",
    "# print(M)\n",
    "L = list(range(2,10+1))\n",
    "\n",
    "all_S = []\n",
    "for i in range(1,len(L)+1):\n",
    "    all_S = all_S + list(itertools.combinations(L, i))\n",
    "\n",
    "# print(all_S)    \n",
    "\n",
    "# start algorithm\n",
    "cost_memo = {}\n",
    "path_memo = {}\n",
    "\n",
    "t1 = time.time()\n",
    "\n",
    "#We compute the edges from the leaves to the starting point\n",
    "for k in all_S[0:len(L)]:\n",
    "   cost_memo[k] = M[k[0]-1,0]\n",
    "   path_memo[k] = [k[0]]\n",
    "    \n",
    "# We traverse through all the list of subsets\n",
    "for k in all_S[len(L):]:\n",
    "    \n",
    "    # Initialize minimal cost\n",
    "    min_cost = np.inf \n",
    "    \n",
    "    # We traverse through the elements of the permutation\n",
    "    for i in range(0,len(k)): # This index removes the element corresponding to the node that we will visit\n",
    "        for j in range(0,len(k)): # This index corresponds to the current node, i != j\n",
    "                                  # E.G. [k={2,3,4}, i=3, j=2] ==> [2 -> 3, with j in k-{3}] \n",
    "            if i==j: continue\n",
    "            \n",
    "            # We remove \"i\" from the subset, but tuples are immutable\n",
    "            s = list(k)\n",
    "            s.remove(k[i])\n",
    "            s = tuple(s)\n",
    "            \n",
    "            # The new cost is the sum of the cost of traveling to i + accumulated cost\n",
    "            cost = M[k[i]-1,k[j]-1] + cost_memo[s]\n",
    "            \n",
    "            # We look for minimum cost and its path\n",
    "            if cost < min_cost:\n",
    "                min_cost = cost\n",
    "                min_path = path_memo[s] + [k[i]]\n",
    "                \n",
    "    # We save in our memos the cost and its associated path\n",
    "    cost_memo[k] = min_cost    \n",
    "    path_memo[k] = min_path\n",
    "\n",
    "# We add the set corresponding to (1,2,...,n) to our calculations\n",
    "full_set = tuple(range(1,len(L)+2))\n",
    "path_memo[full_set] = [1] + min_path\n",
    "cost_memo[full_set] = min_cost + M[0,min_path[-1]-1]\n",
    "    \n",
    "t2= time.time()\n",
    "print('Time:', t2-t1)    \n",
    "print('Minimum_cost:',cost_memo[full_set])\n",
    "print('Best path:',path_memo[full_set])\n",
    "    "
   ]
  },
  {
   "cell_type": "code",
   "execution_count": 145,
   "metadata": {
    "collapsed": false
   },
   "outputs": [
    {
     "name": "stdout",
     "output_type": "stream",
     "text": [
      "[4, 5, 6, 3, 2]\n"
     ]
    }
   ],
   "source": [
    "print(path_memo[(2,3,4,5,6)])"
   ]
  }
 ],
 "metadata": {
  "anaconda-cloud": {},
  "kernelspec": {
   "display_name": "Python [Anaconda3]",
   "language": "python",
   "name": "Python [Anaconda3]"
  },
  "language_info": {
   "codemirror_mode": {
    "name": "ipython",
    "version": 3
   },
   "file_extension": ".py",
   "mimetype": "text/x-python",
   "name": "python",
   "nbconvert_exporter": "python",
   "pygments_lexer": "ipython3",
   "version": "3.5.2"
  }
 },
 "nbformat": 4,
 "nbformat_minor": 0
}
