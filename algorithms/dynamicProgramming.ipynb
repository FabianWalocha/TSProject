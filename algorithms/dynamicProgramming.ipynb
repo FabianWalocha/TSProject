{
 "cells": [
  {
   "cell_type": "markdown",
   "metadata": {},
   "source": [
    "## 1. Library Import"
   ]
  },
  {
   "cell_type": "code",
   "execution_count": 5,
   "metadata": {
    "collapsed": true
   },
   "outputs": [],
   "source": [
    "import numpy as np\n",
    "import time\n",
    "import itertools\n",
    "\n",
    "__author__ = \"Marco Odehnal\"\n",
    "__copyright__ = \"Copyright 2018\"\n",
    "__status__ = \"Prototype\""
   ]
  },
  {
   "cell_type": "markdown",
   "metadata": {},
   "source": [
    "## 2. Problem formulation"
   ]
  },
  {
   "cell_type": "code",
   "execution_count": 6,
   "metadata": {
    "collapsed": false
   },
   "outputs": [],
   "source": [
    "# The cities for the problem, taken from att48\n",
    "cities = np.matrix([[1, 6734, 1453],\n",
    "                    [2, 2233, 10],\n",
    "                    [3, 5530, 1424],\n",
    "                    [4, 401, 841],\n",
    "                    [5, 3082, 1644],\n",
    "                    [6, 7608, 4458],\n",
    "                    [7, 7573, 3716],\n",
    "                   [8, 123, 8526],\n",
    "                   [9, 4356, 376],\n",
    "                   [10, 7456, 236],\n",
    "                    [11, 67534, 14553],\n",
    "                    [2, 22353, 150],\n",
    "                    [3, 55530, 14524],\n",
    "                    [4, 45501, 841],\n",
    "                    [5, 350852, 16544],\n",
    "                    [6, 76508, 4458],\n",
    "                    [7, 75573, 35716],\n",
    "                   [8, 1253, 85526],\n",
    "                   [9, 43556, 5376],\n",
    "                   [10, 57456, 2536]                   ])\n",
    "\n",
    "# The number of verteces \n",
    "n = np.size(cities,0)\n",
    "\n",
    "# Adjacency matrix\n",
    "# NOT OPTIMAL GENERATION, JUST FOR TESTING\n",
    "M = np.matrix([[np.linalg.norm(cities[i,1:3]-cities[j,1:3]) for j in range(n)] for i in range(n)])"
   ]
  },
  {
   "cell_type": "markdown",
   "metadata": {},
   "source": [
    "## 3. Divide and conquer"
   ]
  },
  {
   "cell_type": "code",
   "execution_count": 5,
   "metadata": {
    "collapsed": false
   },
   "outputs": [
    {
     "name": "stdout",
     "output_type": "stream",
     "text": [
      "Time: 0.004015445709228516\n",
      "Minimum_cost: 186.0\n",
      "Best path: [1, 2, 7, 6, 4, 5, 3, 1]\n"
     ]
    }
   ],
   "source": [
    "M = np.matrix([[np.inf,2,3,5],\n",
    "             [2,np.inf,6,1],\n",
    "             [3,6,np.inf,4],\n",
    "             [5,1,4,np.inf]])\n",
    "\n",
    "M = np.matrix([[np.inf, 3, 93, 13, 33, 9, 57],\n",
    "               [4, np.inf, 77, 42, 21, 16, 34],\n",
    "               [45, 17, np.inf, 36, 16, 28, 25],\n",
    "               [39, 90, 80, np.inf, 56, 7, 91],\n",
    "               [28, 46, 88, 33, np.inf, 25, 57],\n",
    "               [3, 88, 18, 46, 92, np.inf, 7],\n",
    "               [44, 26, 33, 27, 84, 39, np.inf]])\n",
    "\n",
    "n = np.size(M,1)\n",
    "\n",
    "L = list(range(2,n+1))\n",
    "\n",
    "\n",
    "def DnC(i,rem_nodes):\n",
    "    \n",
    "    # If there are no more nodes to traverse, it means we reached the end of the path, so we go back to the initial vertex\n",
    "    if len(rem_nodes) == 0:\n",
    "        # Calculates the distance between the node and the starting point\n",
    "        cost = M[i -1,0]\n",
    "        return cost, [1,i]\n",
    "    \n",
    "    else:\n",
    "        \n",
    "        # Initialize minimum cost\n",
    "        min_cost = np.inf\n",
    "        \n",
    "        # fix an element \"k\" and select the optimal solutions of the subproblems without k\n",
    "        for k in rem_nodes:\n",
    "            \n",
    "            # Recursive call to the subproblems\n",
    "            sub_cost,sub_node=DnC(k,[x for x in rem_nodes if x!= k])\n",
    "            \n",
    "            # Storing the optimal solutions in temporary variables\n",
    "            if sub_cost < min_cost:\n",
    "                index_opt = k\n",
    "                opt_nodes = sub_node\n",
    "                min_cost = sub_cost           \n",
    "        \n",
    "        # Update de cost\n",
    "        cost = M[i -1,index_opt -1] + min_cost  \n",
    "        \n",
    "        # Return the optimal cost and the path that allowed us to find it\n",
    "        return cost,  opt_nodes + [i]\n",
    "\n",
    "t1 = time.time()     \n",
    "    \n",
    "cost, path = DP(1,L)\n",
    "\n",
    "t2= time.time()\n",
    "\n",
    "print('Time:', t2-t1)    \n",
    "print('Minimum_cost:',cost)\n",
    "print('Best path:',path)    "
   ]
  },
  {
   "cell_type": "markdown",
   "metadata": {
    "collapsed": false
   },
   "source": [
    "## 4. Dynamic Proramming"
   ]
  },
  {
   "cell_type": "code",
   "execution_count": 2,
   "metadata": {
    "collapsed": false
   },
   "outputs": [
    {
     "name": "stdout",
     "output_type": "stream",
     "text": [
      "Time: 0.002001047134399414\n",
      "Minimum_cost: 178.0\n",
      "Best path: [1, 2, 7, 6, 5, 4, 3]\n",
      "{(3, 4, 6): [6, 4, 3], (2, 3, 5): [5, 3, 2], (4, 7): [4, 7], (3, 5, 6, 7): [6, 5, 3, 7], (3, 4, 7): [4, 7, 3], (2, 3, 6): [6, 2, 3], (2, 3, 7): [2, 7, 3], (2, 3, 4, 6, 7): [2, 7, 6, 4, 3], (3, 4, 5, 6, 7): [6, 4, 7, 5, 3], (3, 7): [7, 3], (2, 5): [5, 2], (2, 3, 4, 5): [4, 5, 3, 2], (2, 4, 5, 6, 7): [2, 7, 6, 5, 4], (2, 3, 4, 6): [6, 4, 2, 3], (2, 6, 7): [2, 7, 6], (5, 6, 7): [6, 7, 5], (6, 7): [6, 7], (3,): [3], (2, 5, 6, 7): [2, 7, 6, 5], (2, 3, 5, 6): [6, 5, 3, 2], (5, 6): [6, 5], (5,): [5], (2, 3, 4, 5, 6): [6, 5, 4, 3, 2], (2, 3, 5, 7): [5, 2, 7, 3], (2, 4, 5): [4, 5, 2], (7,): [7], (3, 6, 7): [6, 3, 7], (4, 5, 6, 7): [6, 4, 7, 5], (2, 3, 4, 5, 6, 7): [2, 7, 6, 5, 4, 3], (2, 4, 5, 6): [6, 5, 4, 2], (3, 5, 6): [6, 5, 3], (2, 6): [6, 2], (2, 4, 7): [4, 7, 2], (3, 6): [6, 3], (1, 2, 3, 4, 5, 6, 7): [1, 2, 7, 6, 5, 4, 3], (4, 5): [4, 5], (2, 3, 4, 7): [4, 7, 2, 3], (2, 4, 6): [6, 4, 2], (3, 4, 5, 7): [4, 7, 5, 3], (3, 4, 5, 6): [6, 5, 4, 3], (2, 3, 5, 6, 7): [2, 7, 6, 5, 3], (2, 3, 6, 7): [2, 7, 6, 3], (2, 3): [2, 3], (2, 5, 6): [6, 5, 2], (3, 4): [4, 3], (4, 5, 6): [6, 5, 4], (2, 5, 7): [5, 2, 7], (3, 5): [5, 3], (2, 7): [2, 7], (4, 5, 7): [4, 7, 5], (4, 6): [6, 4], (2, 4, 5, 7): [4, 5, 2, 7], (2,): [2], (2, 3, 4, 5, 7): [4, 5, 2, 7, 3], (5, 7): [7, 5], (2, 4, 6, 7): [2, 7, 6, 4], (3, 5, 7): [5, 3, 7], (4,): [4], (6,): [6], (3, 4, 5): [4, 5, 3], (2, 3, 4): [4, 2, 3], (3, 4, 6, 7): [6, 4, 7, 3], (4, 6, 7): [6, 4, 7], (2, 4): [4, 2]}\n"
     ]
    }
   ],
   "source": [
    "M = np.matrix([[np.inf,2,3,5],\n",
    "             [2,np.inf,6,1],\n",
    "             [3,6,np.inf,4],\n",
    "             [5,1,4,np.inf]])\n",
    "\n",
    "M = np.matrix([[np.inf,10,25,40,60,20],\n",
    "         [10,np.inf,2000,80,70,100],\n",
    "         [25,2000,np.inf,45,85,90],\n",
    "         [40,80,45,np.inf,60,80],\n",
    "         [60,70,85,60,np.inf,70],\n",
    "         [20,100,90,80,70,np.inf]])\n",
    "\n",
    "M = np.matrix([[np.inf, 3, 93, 13, 33, 9, 57],\n",
    "               [4, np.inf, 77, 42, 21, 16, 34],\n",
    "               [45, 17, np.inf, 36, 16, 28, 25],\n",
    "               [39, 90, 80, np.inf, 56, 7, 91],\n",
    "               [28, 46, 88, 33, np.inf, 25, 57],\n",
    "               [3, 88, 18, 46, 92, np.inf, 7],\n",
    "               [44, 26, 33, 27, 84, 39, np.inf]])\n",
    "\n",
    "n = np.size(M,1)\n",
    "\n",
    "# print(M)\n",
    "L = list(range(2,n+1))\n",
    "\n",
    "all_S = []\n",
    "for i in range(1,len(L)+1):\n",
    "    all_S = all_S + list(itertools.combinations(L, i))\n",
    "\n",
    "# print(all_S)    \n",
    "    \n",
    "# print(all_S)    \n",
    "\n",
    "# start algorithm\n",
    "cost_memo = {}\n",
    "path_memo = {}\n",
    "\n",
    "t1 = time.time()\n",
    "\n",
    "#We compute the edges from the leaves to the starting point\n",
    "for k in all_S[0:len(L)]:\n",
    "   cost_memo[k] = M[k[0]-1,0]\n",
    "   path_memo[k] = [k[0]]\n",
    "    \n",
    "# print(cost_memo)\n",
    "# print(path_memo)\n",
    "    \n",
    "# We traverse through all the list of subsets\n",
    "for k in all_S[len(L):]:\n",
    "    \n",
    "    # Initialize minimal cost\n",
    "    min_cost = np.inf \n",
    "    \n",
    "    # We traverse through the elements of the permutation\n",
    "    for i in range(0,len(k)): # This index removes the element corresponding to the node that we will visit\n",
    "        for j in range(0,len(k)): # This index corresponds to the current node, i != j\n",
    "                                  # E.G. [k={2,3,4}, i=3, j=2] ==> [2 -> 3, with j in k-{3}] \n",
    "            if i==j: continue\n",
    "            \n",
    "            # We remove \"i\" from the subset, but tuples are immutable\n",
    "            s = list(k)\n",
    "            s.remove(k[i])\n",
    "            s = tuple(s)\n",
    "            \n",
    "            # The new cost is the sum of the cost of traveling to i + accumulated cost\n",
    "            cost = M[k[i]-1,k[j]-1] + cost_memo[s]\n",
    "            \n",
    "            # We look for minimum cost and its path\n",
    "            if cost < min_cost:\n",
    "                min_cost = cost\n",
    "                min_path = path_memo[s] + [k[i]]\n",
    "                \n",
    "    # We save in our memos the cost and its associated path\n",
    "    cost_memo[k] = min_cost    \n",
    "    path_memo[k] = min_path\n",
    "\n",
    "# We add the set corresponding to (1,2,...,n) to our calculations\n",
    "full_set = tuple(range(1,len(L)+2))\n",
    "path_memo[full_set] = [1] + min_path\n",
    "cost_memo[full_set] = min_cost + M[0,min_path[-1]-1]\n",
    "    \n",
    "t2= time.time()\n",
    "print('Time:', t2-t1)    \n",
    "print('Minimum_cost:',cost_memo[full_set])\n",
    "print('Best path:',path_memo[full_set])\n",
    "print(path_memo)"
   ]
  },
  {
   "cell_type": "code",
   "execution_count": 21,
   "metadata": {
    "collapsed": false
   },
   "outputs": [],
   "source": [
    "def DivideAndConquer(graph, timed = False):\n",
    "    \n",
    "#     adj_mat = graph.weighted_adjacency_matrix\n",
    "    adj_mat = graph\n",
    "    adj_mat = np.matrix(adj_mat)\n",
    "    \n",
    "    n = np.size(adj_mat,1)\n",
    "\n",
    "    for i in range(0,n):\n",
    "        adj_mat[i,i] = np.inf\n",
    "\n",
    "    L = list(range(2,n+1))\n",
    "    \n",
    "    t1 = time.time()\n",
    "    \n",
    "    cost, path, duration = DnC(1,L,timed, t1)\n",
    "    \n",
    "    return cost, path, duration\n",
    "\n",
    "def DnC(i,rem_nodes, timed, t1):\n",
    "    \n",
    "    # If there are no more nodes to traverse, it means we reached the end of the path, so we go back to the initial vertex\n",
    "    if len(rem_nodes) == 0:\n",
    "        # Calculates the distance between the node and the starting point\n",
    "        cost = M[i -1,0]\n",
    "        return cost, [1,i], time.time()-t1\n",
    "    \n",
    "    else:\n",
    "        \n",
    "        # Initialize minimum cost\n",
    "        min_cost = np.inf\n",
    "        \n",
    "        # fix an element \"k\" and select the optimal solutions of the subproblems without k\n",
    "        for k in rem_nodes:\n",
    "            \n",
    "            # Recursive call to the subproblems\n",
    "            sub_cost,sub_node, duration =DnC(k,[x for x in rem_nodes if x!= k], timed, t1)\n",
    "            \n",
    "            # YOU CAN CHANGE THE MAXIMUM TIME HERE\n",
    "            if timed:\n",
    "                if time.time()-t1 > 600:\n",
    "                    return sub_cost,sub_node, time.time() - t1            \n",
    "            \n",
    "            # Storing the optimal solutions in temporary variables\n",
    "            if sub_cost < min_cost:\n",
    "                index_opt = k\n",
    "                opt_nodes = sub_node\n",
    "                min_cost = sub_cost           \n",
    "        \n",
    "        # Update de cost\n",
    "        cost = M[i -1,index_opt -1] + min_cost  \n",
    "        \n",
    "        # Return the optimal cost and the path that allowed us to find it\n",
    "        return cost,  opt_nodes + [i], time.time() - t1"
   ]
  },
  {
   "cell_type": "code",
   "execution_count": 22,
   "metadata": {
    "collapsed": false
   },
   "outputs": [
    {
     "ename": "KeyboardInterrupt",
     "evalue": "",
     "output_type": "error",
     "traceback": [
      "\u001b[1;31m---------------------------------------------------------------------------\u001b[0m",
      "\u001b[1;31mKeyboardInterrupt\u001b[0m                         Traceback (most recent call last)",
      "\u001b[1;32m<ipython-input-22-cb1beeaf20a1>\u001b[0m in \u001b[0;36m<module>\u001b[1;34m()\u001b[0m\n\u001b[1;32m----> 1\u001b[1;33m \u001b[0mprint\u001b[0m\u001b[1;33m(\u001b[0m\u001b[0mDivideAndConquer\u001b[0m\u001b[1;33m(\u001b[0m\u001b[0mM\u001b[0m\u001b[1;33m,\u001b[0m \u001b[0mtimed\u001b[0m \u001b[1;33m=\u001b[0m \u001b[1;32mFalse\u001b[0m\u001b[1;33m)\u001b[0m\u001b[1;33m)\u001b[0m\u001b[1;33m\u001b[0m\u001b[0m\n\u001b[0m",
      "\u001b[1;32m<ipython-input-21-c71fd5c92b6b>\u001b[0m in \u001b[0;36mDivideAndConquer\u001b[1;34m(graph, timed)\u001b[0m\n\u001b[0;32m     19\u001b[0m     \u001b[0mt1\u001b[0m \u001b[1;33m=\u001b[0m \u001b[0mtime\u001b[0m\u001b[1;33m.\u001b[0m\u001b[0mtime\u001b[0m\u001b[1;33m(\u001b[0m\u001b[1;33m)\u001b[0m\u001b[1;33m\u001b[0m\u001b[0m\n\u001b[0;32m     20\u001b[0m \u001b[1;33m\u001b[0m\u001b[0m\n\u001b[1;32m---> 21\u001b[1;33m     \u001b[0mcost\u001b[0m\u001b[1;33m,\u001b[0m \u001b[0mpath\u001b[0m\u001b[1;33m,\u001b[0m \u001b[0mduration\u001b[0m \u001b[1;33m=\u001b[0m \u001b[0mDnC\u001b[0m\u001b[1;33m(\u001b[0m\u001b[1;36m1\u001b[0m\u001b[1;33m,\u001b[0m\u001b[0mL\u001b[0m\u001b[1;33m,\u001b[0m\u001b[0mtimed\u001b[0m\u001b[1;33m,\u001b[0m \u001b[0mt1\u001b[0m\u001b[1;33m)\u001b[0m\u001b[1;33m\u001b[0m\u001b[0m\n\u001b[0m\u001b[0;32m     22\u001b[0m \u001b[1;33m\u001b[0m\u001b[0m\n\u001b[0;32m     23\u001b[0m     \u001b[1;32mreturn\u001b[0m \u001b[0mcost\u001b[0m\u001b[1;33m,\u001b[0m \u001b[0mpath\u001b[0m\u001b[1;33m,\u001b[0m \u001b[0mduration\u001b[0m\u001b[1;33m\u001b[0m\u001b[0m\n",
      "\u001b[1;32m<ipython-input-21-c71fd5c92b6b>\u001b[0m in \u001b[0;36mDnC\u001b[1;34m(i, rem_nodes, timed, t1)\u001b[0m\n\u001b[0;32m     40\u001b[0m \u001b[1;33m\u001b[0m\u001b[0m\n\u001b[0;32m     41\u001b[0m             \u001b[1;31m# Recursive call to the subproblems\u001b[0m\u001b[1;33m\u001b[0m\u001b[1;33m\u001b[0m\u001b[0m\n\u001b[1;32m---> 42\u001b[1;33m             \u001b[0msub_cost\u001b[0m\u001b[1;33m,\u001b[0m\u001b[0msub_node\u001b[0m\u001b[1;33m,\u001b[0m \u001b[0mduration\u001b[0m \u001b[1;33m=\u001b[0m\u001b[0mDnC\u001b[0m\u001b[1;33m(\u001b[0m\u001b[0mk\u001b[0m\u001b[1;33m,\u001b[0m\u001b[1;33m[\u001b[0m\u001b[0mx\u001b[0m \u001b[1;32mfor\u001b[0m \u001b[0mx\u001b[0m \u001b[1;32min\u001b[0m \u001b[0mrem_nodes\u001b[0m \u001b[1;32mif\u001b[0m \u001b[0mx\u001b[0m\u001b[1;33m!=\u001b[0m \u001b[0mk\u001b[0m\u001b[1;33m]\u001b[0m\u001b[1;33m,\u001b[0m \u001b[0mtimed\u001b[0m\u001b[1;33m,\u001b[0m \u001b[0mt1\u001b[0m\u001b[1;33m)\u001b[0m\u001b[1;33m\u001b[0m\u001b[0m\n\u001b[0m\u001b[0;32m     43\u001b[0m \u001b[1;33m\u001b[0m\u001b[0m\n\u001b[0;32m     44\u001b[0m             \u001b[1;31m# YOU CAN CHANGE THE MAXIMUM TIME HERE\u001b[0m\u001b[1;33m\u001b[0m\u001b[1;33m\u001b[0m\u001b[0m\n",
      "\u001b[1;32m<ipython-input-21-c71fd5c92b6b>\u001b[0m in \u001b[0;36mDnC\u001b[1;34m(i, rem_nodes, timed, t1)\u001b[0m\n\u001b[0;32m     40\u001b[0m \u001b[1;33m\u001b[0m\u001b[0m\n\u001b[0;32m     41\u001b[0m             \u001b[1;31m# Recursive call to the subproblems\u001b[0m\u001b[1;33m\u001b[0m\u001b[1;33m\u001b[0m\u001b[0m\n\u001b[1;32m---> 42\u001b[1;33m             \u001b[0msub_cost\u001b[0m\u001b[1;33m,\u001b[0m\u001b[0msub_node\u001b[0m\u001b[1;33m,\u001b[0m \u001b[0mduration\u001b[0m \u001b[1;33m=\u001b[0m\u001b[0mDnC\u001b[0m\u001b[1;33m(\u001b[0m\u001b[0mk\u001b[0m\u001b[1;33m,\u001b[0m\u001b[1;33m[\u001b[0m\u001b[0mx\u001b[0m \u001b[1;32mfor\u001b[0m \u001b[0mx\u001b[0m \u001b[1;32min\u001b[0m \u001b[0mrem_nodes\u001b[0m \u001b[1;32mif\u001b[0m \u001b[0mx\u001b[0m\u001b[1;33m!=\u001b[0m \u001b[0mk\u001b[0m\u001b[1;33m]\u001b[0m\u001b[1;33m,\u001b[0m \u001b[0mtimed\u001b[0m\u001b[1;33m,\u001b[0m \u001b[0mt1\u001b[0m\u001b[1;33m)\u001b[0m\u001b[1;33m\u001b[0m\u001b[0m\n\u001b[0m\u001b[0;32m     43\u001b[0m \u001b[1;33m\u001b[0m\u001b[0m\n\u001b[0;32m     44\u001b[0m             \u001b[1;31m# YOU CAN CHANGE THE MAXIMUM TIME HERE\u001b[0m\u001b[1;33m\u001b[0m\u001b[1;33m\u001b[0m\u001b[0m\n",
      "\u001b[1;32m<ipython-input-21-c71fd5c92b6b>\u001b[0m in \u001b[0;36mDnC\u001b[1;34m(i, rem_nodes, timed, t1)\u001b[0m\n\u001b[0;32m     40\u001b[0m \u001b[1;33m\u001b[0m\u001b[0m\n\u001b[0;32m     41\u001b[0m             \u001b[1;31m# Recursive call to the subproblems\u001b[0m\u001b[1;33m\u001b[0m\u001b[1;33m\u001b[0m\u001b[0m\n\u001b[1;32m---> 42\u001b[1;33m             \u001b[0msub_cost\u001b[0m\u001b[1;33m,\u001b[0m\u001b[0msub_node\u001b[0m\u001b[1;33m,\u001b[0m \u001b[0mduration\u001b[0m \u001b[1;33m=\u001b[0m\u001b[0mDnC\u001b[0m\u001b[1;33m(\u001b[0m\u001b[0mk\u001b[0m\u001b[1;33m,\u001b[0m\u001b[1;33m[\u001b[0m\u001b[0mx\u001b[0m \u001b[1;32mfor\u001b[0m \u001b[0mx\u001b[0m \u001b[1;32min\u001b[0m \u001b[0mrem_nodes\u001b[0m \u001b[1;32mif\u001b[0m \u001b[0mx\u001b[0m\u001b[1;33m!=\u001b[0m \u001b[0mk\u001b[0m\u001b[1;33m]\u001b[0m\u001b[1;33m,\u001b[0m \u001b[0mtimed\u001b[0m\u001b[1;33m,\u001b[0m \u001b[0mt1\u001b[0m\u001b[1;33m)\u001b[0m\u001b[1;33m\u001b[0m\u001b[0m\n\u001b[0m\u001b[0;32m     43\u001b[0m \u001b[1;33m\u001b[0m\u001b[0m\n\u001b[0;32m     44\u001b[0m             \u001b[1;31m# YOU CAN CHANGE THE MAXIMUM TIME HERE\u001b[0m\u001b[1;33m\u001b[0m\u001b[1;33m\u001b[0m\u001b[0m\n",
      "\u001b[1;32m<ipython-input-21-c71fd5c92b6b>\u001b[0m in \u001b[0;36mDnC\u001b[1;34m(i, rem_nodes, timed, t1)\u001b[0m\n\u001b[0;32m     40\u001b[0m \u001b[1;33m\u001b[0m\u001b[0m\n\u001b[0;32m     41\u001b[0m             \u001b[1;31m# Recursive call to the subproblems\u001b[0m\u001b[1;33m\u001b[0m\u001b[1;33m\u001b[0m\u001b[0m\n\u001b[1;32m---> 42\u001b[1;33m             \u001b[0msub_cost\u001b[0m\u001b[1;33m,\u001b[0m\u001b[0msub_node\u001b[0m\u001b[1;33m,\u001b[0m \u001b[0mduration\u001b[0m \u001b[1;33m=\u001b[0m\u001b[0mDnC\u001b[0m\u001b[1;33m(\u001b[0m\u001b[0mk\u001b[0m\u001b[1;33m,\u001b[0m\u001b[1;33m[\u001b[0m\u001b[0mx\u001b[0m \u001b[1;32mfor\u001b[0m \u001b[0mx\u001b[0m \u001b[1;32min\u001b[0m \u001b[0mrem_nodes\u001b[0m \u001b[1;32mif\u001b[0m \u001b[0mx\u001b[0m\u001b[1;33m!=\u001b[0m \u001b[0mk\u001b[0m\u001b[1;33m]\u001b[0m\u001b[1;33m,\u001b[0m \u001b[0mtimed\u001b[0m\u001b[1;33m,\u001b[0m \u001b[0mt1\u001b[0m\u001b[1;33m)\u001b[0m\u001b[1;33m\u001b[0m\u001b[0m\n\u001b[0m\u001b[0;32m     43\u001b[0m \u001b[1;33m\u001b[0m\u001b[0m\n\u001b[0;32m     44\u001b[0m             \u001b[1;31m# YOU CAN CHANGE THE MAXIMUM TIME HERE\u001b[0m\u001b[1;33m\u001b[0m\u001b[1;33m\u001b[0m\u001b[0m\n",
      "\u001b[1;32m<ipython-input-21-c71fd5c92b6b>\u001b[0m in \u001b[0;36mDnC\u001b[1;34m(i, rem_nodes, timed, t1)\u001b[0m\n\u001b[0;32m     40\u001b[0m \u001b[1;33m\u001b[0m\u001b[0m\n\u001b[0;32m     41\u001b[0m             \u001b[1;31m# Recursive call to the subproblems\u001b[0m\u001b[1;33m\u001b[0m\u001b[1;33m\u001b[0m\u001b[0m\n\u001b[1;32m---> 42\u001b[1;33m             \u001b[0msub_cost\u001b[0m\u001b[1;33m,\u001b[0m\u001b[0msub_node\u001b[0m\u001b[1;33m,\u001b[0m \u001b[0mduration\u001b[0m \u001b[1;33m=\u001b[0m\u001b[0mDnC\u001b[0m\u001b[1;33m(\u001b[0m\u001b[0mk\u001b[0m\u001b[1;33m,\u001b[0m\u001b[1;33m[\u001b[0m\u001b[0mx\u001b[0m \u001b[1;32mfor\u001b[0m \u001b[0mx\u001b[0m \u001b[1;32min\u001b[0m \u001b[0mrem_nodes\u001b[0m \u001b[1;32mif\u001b[0m \u001b[0mx\u001b[0m\u001b[1;33m!=\u001b[0m \u001b[0mk\u001b[0m\u001b[1;33m]\u001b[0m\u001b[1;33m,\u001b[0m \u001b[0mtimed\u001b[0m\u001b[1;33m,\u001b[0m \u001b[0mt1\u001b[0m\u001b[1;33m)\u001b[0m\u001b[1;33m\u001b[0m\u001b[0m\n\u001b[0m\u001b[0;32m     43\u001b[0m \u001b[1;33m\u001b[0m\u001b[0m\n\u001b[0;32m     44\u001b[0m             \u001b[1;31m# YOU CAN CHANGE THE MAXIMUM TIME HERE\u001b[0m\u001b[1;33m\u001b[0m\u001b[1;33m\u001b[0m\u001b[0m\n",
      "\u001b[1;32m<ipython-input-21-c71fd5c92b6b>\u001b[0m in \u001b[0;36mDnC\u001b[1;34m(i, rem_nodes, timed, t1)\u001b[0m\n\u001b[0;32m     40\u001b[0m \u001b[1;33m\u001b[0m\u001b[0m\n\u001b[0;32m     41\u001b[0m             \u001b[1;31m# Recursive call to the subproblems\u001b[0m\u001b[1;33m\u001b[0m\u001b[1;33m\u001b[0m\u001b[0m\n\u001b[1;32m---> 42\u001b[1;33m             \u001b[0msub_cost\u001b[0m\u001b[1;33m,\u001b[0m\u001b[0msub_node\u001b[0m\u001b[1;33m,\u001b[0m \u001b[0mduration\u001b[0m \u001b[1;33m=\u001b[0m\u001b[0mDnC\u001b[0m\u001b[1;33m(\u001b[0m\u001b[0mk\u001b[0m\u001b[1;33m,\u001b[0m\u001b[1;33m[\u001b[0m\u001b[0mx\u001b[0m \u001b[1;32mfor\u001b[0m \u001b[0mx\u001b[0m \u001b[1;32min\u001b[0m \u001b[0mrem_nodes\u001b[0m \u001b[1;32mif\u001b[0m \u001b[0mx\u001b[0m\u001b[1;33m!=\u001b[0m \u001b[0mk\u001b[0m\u001b[1;33m]\u001b[0m\u001b[1;33m,\u001b[0m \u001b[0mtimed\u001b[0m\u001b[1;33m,\u001b[0m \u001b[0mt1\u001b[0m\u001b[1;33m)\u001b[0m\u001b[1;33m\u001b[0m\u001b[0m\n\u001b[0m\u001b[0;32m     43\u001b[0m \u001b[1;33m\u001b[0m\u001b[0m\n\u001b[0;32m     44\u001b[0m             \u001b[1;31m# YOU CAN CHANGE THE MAXIMUM TIME HERE\u001b[0m\u001b[1;33m\u001b[0m\u001b[1;33m\u001b[0m\u001b[0m\n",
      "\u001b[1;32m<ipython-input-21-c71fd5c92b6b>\u001b[0m in \u001b[0;36mDnC\u001b[1;34m(i, rem_nodes, timed, t1)\u001b[0m\n\u001b[0;32m     40\u001b[0m \u001b[1;33m\u001b[0m\u001b[0m\n\u001b[0;32m     41\u001b[0m             \u001b[1;31m# Recursive call to the subproblems\u001b[0m\u001b[1;33m\u001b[0m\u001b[1;33m\u001b[0m\u001b[0m\n\u001b[1;32m---> 42\u001b[1;33m             \u001b[0msub_cost\u001b[0m\u001b[1;33m,\u001b[0m\u001b[0msub_node\u001b[0m\u001b[1;33m,\u001b[0m \u001b[0mduration\u001b[0m \u001b[1;33m=\u001b[0m\u001b[0mDnC\u001b[0m\u001b[1;33m(\u001b[0m\u001b[0mk\u001b[0m\u001b[1;33m,\u001b[0m\u001b[1;33m[\u001b[0m\u001b[0mx\u001b[0m \u001b[1;32mfor\u001b[0m \u001b[0mx\u001b[0m \u001b[1;32min\u001b[0m \u001b[0mrem_nodes\u001b[0m \u001b[1;32mif\u001b[0m \u001b[0mx\u001b[0m\u001b[1;33m!=\u001b[0m \u001b[0mk\u001b[0m\u001b[1;33m]\u001b[0m\u001b[1;33m,\u001b[0m \u001b[0mtimed\u001b[0m\u001b[1;33m,\u001b[0m \u001b[0mt1\u001b[0m\u001b[1;33m)\u001b[0m\u001b[1;33m\u001b[0m\u001b[0m\n\u001b[0m\u001b[0;32m     43\u001b[0m \u001b[1;33m\u001b[0m\u001b[0m\n\u001b[0;32m     44\u001b[0m             \u001b[1;31m# YOU CAN CHANGE THE MAXIMUM TIME HERE\u001b[0m\u001b[1;33m\u001b[0m\u001b[1;33m\u001b[0m\u001b[0m\n",
      "\u001b[1;32m<ipython-input-21-c71fd5c92b6b>\u001b[0m in \u001b[0;36mDnC\u001b[1;34m(i, rem_nodes, timed, t1)\u001b[0m\n\u001b[0;32m     40\u001b[0m \u001b[1;33m\u001b[0m\u001b[0m\n\u001b[0;32m     41\u001b[0m             \u001b[1;31m# Recursive call to the subproblems\u001b[0m\u001b[1;33m\u001b[0m\u001b[1;33m\u001b[0m\u001b[0m\n\u001b[1;32m---> 42\u001b[1;33m             \u001b[0msub_cost\u001b[0m\u001b[1;33m,\u001b[0m\u001b[0msub_node\u001b[0m\u001b[1;33m,\u001b[0m \u001b[0mduration\u001b[0m \u001b[1;33m=\u001b[0m\u001b[0mDnC\u001b[0m\u001b[1;33m(\u001b[0m\u001b[0mk\u001b[0m\u001b[1;33m,\u001b[0m\u001b[1;33m[\u001b[0m\u001b[0mx\u001b[0m \u001b[1;32mfor\u001b[0m \u001b[0mx\u001b[0m \u001b[1;32min\u001b[0m \u001b[0mrem_nodes\u001b[0m \u001b[1;32mif\u001b[0m \u001b[0mx\u001b[0m\u001b[1;33m!=\u001b[0m \u001b[0mk\u001b[0m\u001b[1;33m]\u001b[0m\u001b[1;33m,\u001b[0m \u001b[0mtimed\u001b[0m\u001b[1;33m,\u001b[0m \u001b[0mt1\u001b[0m\u001b[1;33m)\u001b[0m\u001b[1;33m\u001b[0m\u001b[0m\n\u001b[0m\u001b[0;32m     43\u001b[0m \u001b[1;33m\u001b[0m\u001b[0m\n\u001b[0;32m     44\u001b[0m             \u001b[1;31m# YOU CAN CHANGE THE MAXIMUM TIME HERE\u001b[0m\u001b[1;33m\u001b[0m\u001b[1;33m\u001b[0m\u001b[0m\n",
      "\u001b[1;32m<ipython-input-21-c71fd5c92b6b>\u001b[0m in \u001b[0;36mDnC\u001b[1;34m(i, rem_nodes, timed, t1)\u001b[0m\n\u001b[0;32m     40\u001b[0m \u001b[1;33m\u001b[0m\u001b[0m\n\u001b[0;32m     41\u001b[0m             \u001b[1;31m# Recursive call to the subproblems\u001b[0m\u001b[1;33m\u001b[0m\u001b[1;33m\u001b[0m\u001b[0m\n\u001b[1;32m---> 42\u001b[1;33m             \u001b[0msub_cost\u001b[0m\u001b[1;33m,\u001b[0m\u001b[0msub_node\u001b[0m\u001b[1;33m,\u001b[0m \u001b[0mduration\u001b[0m \u001b[1;33m=\u001b[0m\u001b[0mDnC\u001b[0m\u001b[1;33m(\u001b[0m\u001b[0mk\u001b[0m\u001b[1;33m,\u001b[0m\u001b[1;33m[\u001b[0m\u001b[0mx\u001b[0m \u001b[1;32mfor\u001b[0m \u001b[0mx\u001b[0m \u001b[1;32min\u001b[0m \u001b[0mrem_nodes\u001b[0m \u001b[1;32mif\u001b[0m \u001b[0mx\u001b[0m\u001b[1;33m!=\u001b[0m \u001b[0mk\u001b[0m\u001b[1;33m]\u001b[0m\u001b[1;33m,\u001b[0m \u001b[0mtimed\u001b[0m\u001b[1;33m,\u001b[0m \u001b[0mt1\u001b[0m\u001b[1;33m)\u001b[0m\u001b[1;33m\u001b[0m\u001b[0m\n\u001b[0m\u001b[0;32m     43\u001b[0m \u001b[1;33m\u001b[0m\u001b[0m\n\u001b[0;32m     44\u001b[0m             \u001b[1;31m# YOU CAN CHANGE THE MAXIMUM TIME HERE\u001b[0m\u001b[1;33m\u001b[0m\u001b[1;33m\u001b[0m\u001b[0m\n",
      "\u001b[1;32m<ipython-input-21-c71fd5c92b6b>\u001b[0m in \u001b[0;36mDnC\u001b[1;34m(i, rem_nodes, timed, t1)\u001b[0m\n\u001b[0;32m     40\u001b[0m \u001b[1;33m\u001b[0m\u001b[0m\n\u001b[0;32m     41\u001b[0m             \u001b[1;31m# Recursive call to the subproblems\u001b[0m\u001b[1;33m\u001b[0m\u001b[1;33m\u001b[0m\u001b[0m\n\u001b[1;32m---> 42\u001b[1;33m             \u001b[0msub_cost\u001b[0m\u001b[1;33m,\u001b[0m\u001b[0msub_node\u001b[0m\u001b[1;33m,\u001b[0m \u001b[0mduration\u001b[0m \u001b[1;33m=\u001b[0m\u001b[0mDnC\u001b[0m\u001b[1;33m(\u001b[0m\u001b[0mk\u001b[0m\u001b[1;33m,\u001b[0m\u001b[1;33m[\u001b[0m\u001b[0mx\u001b[0m \u001b[1;32mfor\u001b[0m \u001b[0mx\u001b[0m \u001b[1;32min\u001b[0m \u001b[0mrem_nodes\u001b[0m \u001b[1;32mif\u001b[0m \u001b[0mx\u001b[0m\u001b[1;33m!=\u001b[0m \u001b[0mk\u001b[0m\u001b[1;33m]\u001b[0m\u001b[1;33m,\u001b[0m \u001b[0mtimed\u001b[0m\u001b[1;33m,\u001b[0m \u001b[0mt1\u001b[0m\u001b[1;33m)\u001b[0m\u001b[1;33m\u001b[0m\u001b[0m\n\u001b[0m\u001b[0;32m     43\u001b[0m \u001b[1;33m\u001b[0m\u001b[0m\n\u001b[0;32m     44\u001b[0m             \u001b[1;31m# YOU CAN CHANGE THE MAXIMUM TIME HERE\u001b[0m\u001b[1;33m\u001b[0m\u001b[1;33m\u001b[0m\u001b[0m\n",
      "\u001b[1;32m<ipython-input-21-c71fd5c92b6b>\u001b[0m in \u001b[0;36mDnC\u001b[1;34m(i, rem_nodes, timed, t1)\u001b[0m\n\u001b[0;32m     40\u001b[0m \u001b[1;33m\u001b[0m\u001b[0m\n\u001b[0;32m     41\u001b[0m             \u001b[1;31m# Recursive call to the subproblems\u001b[0m\u001b[1;33m\u001b[0m\u001b[1;33m\u001b[0m\u001b[0m\n\u001b[1;32m---> 42\u001b[1;33m             \u001b[0msub_cost\u001b[0m\u001b[1;33m,\u001b[0m\u001b[0msub_node\u001b[0m\u001b[1;33m,\u001b[0m \u001b[0mduration\u001b[0m \u001b[1;33m=\u001b[0m\u001b[0mDnC\u001b[0m\u001b[1;33m(\u001b[0m\u001b[0mk\u001b[0m\u001b[1;33m,\u001b[0m\u001b[1;33m[\u001b[0m\u001b[0mx\u001b[0m \u001b[1;32mfor\u001b[0m \u001b[0mx\u001b[0m \u001b[1;32min\u001b[0m \u001b[0mrem_nodes\u001b[0m \u001b[1;32mif\u001b[0m \u001b[0mx\u001b[0m\u001b[1;33m!=\u001b[0m \u001b[0mk\u001b[0m\u001b[1;33m]\u001b[0m\u001b[1;33m,\u001b[0m \u001b[0mtimed\u001b[0m\u001b[1;33m,\u001b[0m \u001b[0mt1\u001b[0m\u001b[1;33m)\u001b[0m\u001b[1;33m\u001b[0m\u001b[0m\n\u001b[0m\u001b[0;32m     43\u001b[0m \u001b[1;33m\u001b[0m\u001b[0m\n\u001b[0;32m     44\u001b[0m             \u001b[1;31m# YOU CAN CHANGE THE MAXIMUM TIME HERE\u001b[0m\u001b[1;33m\u001b[0m\u001b[1;33m\u001b[0m\u001b[0m\n",
      "\u001b[1;32m<ipython-input-21-c71fd5c92b6b>\u001b[0m in \u001b[0;36mDnC\u001b[1;34m(i, rem_nodes, timed, t1)\u001b[0m\n\u001b[0;32m     40\u001b[0m \u001b[1;33m\u001b[0m\u001b[0m\n\u001b[0;32m     41\u001b[0m             \u001b[1;31m# Recursive call to the subproblems\u001b[0m\u001b[1;33m\u001b[0m\u001b[1;33m\u001b[0m\u001b[0m\n\u001b[1;32m---> 42\u001b[1;33m             \u001b[0msub_cost\u001b[0m\u001b[1;33m,\u001b[0m\u001b[0msub_node\u001b[0m\u001b[1;33m,\u001b[0m \u001b[0mduration\u001b[0m \u001b[1;33m=\u001b[0m\u001b[0mDnC\u001b[0m\u001b[1;33m(\u001b[0m\u001b[0mk\u001b[0m\u001b[1;33m,\u001b[0m\u001b[1;33m[\u001b[0m\u001b[0mx\u001b[0m \u001b[1;32mfor\u001b[0m \u001b[0mx\u001b[0m \u001b[1;32min\u001b[0m \u001b[0mrem_nodes\u001b[0m \u001b[1;32mif\u001b[0m \u001b[0mx\u001b[0m\u001b[1;33m!=\u001b[0m \u001b[0mk\u001b[0m\u001b[1;33m]\u001b[0m\u001b[1;33m,\u001b[0m \u001b[0mtimed\u001b[0m\u001b[1;33m,\u001b[0m \u001b[0mt1\u001b[0m\u001b[1;33m)\u001b[0m\u001b[1;33m\u001b[0m\u001b[0m\n\u001b[0m\u001b[0;32m     43\u001b[0m \u001b[1;33m\u001b[0m\u001b[0m\n\u001b[0;32m     44\u001b[0m             \u001b[1;31m# YOU CAN CHANGE THE MAXIMUM TIME HERE\u001b[0m\u001b[1;33m\u001b[0m\u001b[1;33m\u001b[0m\u001b[0m\n",
      "\u001b[1;32m<ipython-input-21-c71fd5c92b6b>\u001b[0m in \u001b[0;36mDnC\u001b[1;34m(i, rem_nodes, timed, t1)\u001b[0m\n\u001b[0;32m     40\u001b[0m \u001b[1;33m\u001b[0m\u001b[0m\n\u001b[0;32m     41\u001b[0m             \u001b[1;31m# Recursive call to the subproblems\u001b[0m\u001b[1;33m\u001b[0m\u001b[1;33m\u001b[0m\u001b[0m\n\u001b[1;32m---> 42\u001b[1;33m             \u001b[0msub_cost\u001b[0m\u001b[1;33m,\u001b[0m\u001b[0msub_node\u001b[0m\u001b[1;33m,\u001b[0m \u001b[0mduration\u001b[0m \u001b[1;33m=\u001b[0m\u001b[0mDnC\u001b[0m\u001b[1;33m(\u001b[0m\u001b[0mk\u001b[0m\u001b[1;33m,\u001b[0m\u001b[1;33m[\u001b[0m\u001b[0mx\u001b[0m \u001b[1;32mfor\u001b[0m \u001b[0mx\u001b[0m \u001b[1;32min\u001b[0m \u001b[0mrem_nodes\u001b[0m \u001b[1;32mif\u001b[0m \u001b[0mx\u001b[0m\u001b[1;33m!=\u001b[0m \u001b[0mk\u001b[0m\u001b[1;33m]\u001b[0m\u001b[1;33m,\u001b[0m \u001b[0mtimed\u001b[0m\u001b[1;33m,\u001b[0m \u001b[0mt1\u001b[0m\u001b[1;33m)\u001b[0m\u001b[1;33m\u001b[0m\u001b[0m\n\u001b[0m\u001b[0;32m     43\u001b[0m \u001b[1;33m\u001b[0m\u001b[0m\n\u001b[0;32m     44\u001b[0m             \u001b[1;31m# YOU CAN CHANGE THE MAXIMUM TIME HERE\u001b[0m\u001b[1;33m\u001b[0m\u001b[1;33m\u001b[0m\u001b[0m\n",
      "\u001b[1;32m<ipython-input-21-c71fd5c92b6b>\u001b[0m in \u001b[0;36mDnC\u001b[1;34m(i, rem_nodes, timed, t1)\u001b[0m\n\u001b[0;32m     40\u001b[0m \u001b[1;33m\u001b[0m\u001b[0m\n\u001b[0;32m     41\u001b[0m             \u001b[1;31m# Recursive call to the subproblems\u001b[0m\u001b[1;33m\u001b[0m\u001b[1;33m\u001b[0m\u001b[0m\n\u001b[1;32m---> 42\u001b[1;33m             \u001b[0msub_cost\u001b[0m\u001b[1;33m,\u001b[0m\u001b[0msub_node\u001b[0m\u001b[1;33m,\u001b[0m \u001b[0mduration\u001b[0m \u001b[1;33m=\u001b[0m\u001b[0mDnC\u001b[0m\u001b[1;33m(\u001b[0m\u001b[0mk\u001b[0m\u001b[1;33m,\u001b[0m\u001b[1;33m[\u001b[0m\u001b[0mx\u001b[0m \u001b[1;32mfor\u001b[0m \u001b[0mx\u001b[0m \u001b[1;32min\u001b[0m \u001b[0mrem_nodes\u001b[0m \u001b[1;32mif\u001b[0m \u001b[0mx\u001b[0m\u001b[1;33m!=\u001b[0m \u001b[0mk\u001b[0m\u001b[1;33m]\u001b[0m\u001b[1;33m,\u001b[0m \u001b[0mtimed\u001b[0m\u001b[1;33m,\u001b[0m \u001b[0mt1\u001b[0m\u001b[1;33m)\u001b[0m\u001b[1;33m\u001b[0m\u001b[0m\n\u001b[0m\u001b[0;32m     43\u001b[0m \u001b[1;33m\u001b[0m\u001b[0m\n\u001b[0;32m     44\u001b[0m             \u001b[1;31m# YOU CAN CHANGE THE MAXIMUM TIME HERE\u001b[0m\u001b[1;33m\u001b[0m\u001b[1;33m\u001b[0m\u001b[0m\n",
      "\u001b[1;32m<ipython-input-21-c71fd5c92b6b>\u001b[0m in \u001b[0;36mDnC\u001b[1;34m(i, rem_nodes, timed, t1)\u001b[0m\n\u001b[0;32m     40\u001b[0m \u001b[1;33m\u001b[0m\u001b[0m\n\u001b[0;32m     41\u001b[0m             \u001b[1;31m# Recursive call to the subproblems\u001b[0m\u001b[1;33m\u001b[0m\u001b[1;33m\u001b[0m\u001b[0m\n\u001b[1;32m---> 42\u001b[1;33m             \u001b[0msub_cost\u001b[0m\u001b[1;33m,\u001b[0m\u001b[0msub_node\u001b[0m\u001b[1;33m,\u001b[0m \u001b[0mduration\u001b[0m \u001b[1;33m=\u001b[0m\u001b[0mDnC\u001b[0m\u001b[1;33m(\u001b[0m\u001b[0mk\u001b[0m\u001b[1;33m,\u001b[0m\u001b[1;33m[\u001b[0m\u001b[0mx\u001b[0m \u001b[1;32mfor\u001b[0m \u001b[0mx\u001b[0m \u001b[1;32min\u001b[0m \u001b[0mrem_nodes\u001b[0m \u001b[1;32mif\u001b[0m \u001b[0mx\u001b[0m\u001b[1;33m!=\u001b[0m \u001b[0mk\u001b[0m\u001b[1;33m]\u001b[0m\u001b[1;33m,\u001b[0m \u001b[0mtimed\u001b[0m\u001b[1;33m,\u001b[0m \u001b[0mt1\u001b[0m\u001b[1;33m)\u001b[0m\u001b[1;33m\u001b[0m\u001b[0m\n\u001b[0m\u001b[0;32m     43\u001b[0m \u001b[1;33m\u001b[0m\u001b[0m\n\u001b[0;32m     44\u001b[0m             \u001b[1;31m# YOU CAN CHANGE THE MAXIMUM TIME HERE\u001b[0m\u001b[1;33m\u001b[0m\u001b[1;33m\u001b[0m\u001b[0m\n",
      "\u001b[1;32m<ipython-input-21-c71fd5c92b6b>\u001b[0m in \u001b[0;36mDnC\u001b[1;34m(i, rem_nodes, timed, t1)\u001b[0m\n\u001b[0;32m     40\u001b[0m \u001b[1;33m\u001b[0m\u001b[0m\n\u001b[0;32m     41\u001b[0m             \u001b[1;31m# Recursive call to the subproblems\u001b[0m\u001b[1;33m\u001b[0m\u001b[1;33m\u001b[0m\u001b[0m\n\u001b[1;32m---> 42\u001b[1;33m             \u001b[0msub_cost\u001b[0m\u001b[1;33m,\u001b[0m\u001b[0msub_node\u001b[0m\u001b[1;33m,\u001b[0m \u001b[0mduration\u001b[0m \u001b[1;33m=\u001b[0m\u001b[0mDnC\u001b[0m\u001b[1;33m(\u001b[0m\u001b[0mk\u001b[0m\u001b[1;33m,\u001b[0m\u001b[1;33m[\u001b[0m\u001b[0mx\u001b[0m \u001b[1;32mfor\u001b[0m \u001b[0mx\u001b[0m \u001b[1;32min\u001b[0m \u001b[0mrem_nodes\u001b[0m \u001b[1;32mif\u001b[0m \u001b[0mx\u001b[0m\u001b[1;33m!=\u001b[0m \u001b[0mk\u001b[0m\u001b[1;33m]\u001b[0m\u001b[1;33m,\u001b[0m \u001b[0mtimed\u001b[0m\u001b[1;33m,\u001b[0m \u001b[0mt1\u001b[0m\u001b[1;33m)\u001b[0m\u001b[1;33m\u001b[0m\u001b[0m\n\u001b[0m\u001b[0;32m     43\u001b[0m \u001b[1;33m\u001b[0m\u001b[0m\n\u001b[0;32m     44\u001b[0m             \u001b[1;31m# YOU CAN CHANGE THE MAXIMUM TIME HERE\u001b[0m\u001b[1;33m\u001b[0m\u001b[1;33m\u001b[0m\u001b[0m\n",
      "\u001b[1;32m<ipython-input-21-c71fd5c92b6b>\u001b[0m in \u001b[0;36mDnC\u001b[1;34m(i, rem_nodes, timed, t1)\u001b[0m\n\u001b[0;32m     40\u001b[0m \u001b[1;33m\u001b[0m\u001b[0m\n\u001b[0;32m     41\u001b[0m             \u001b[1;31m# Recursive call to the subproblems\u001b[0m\u001b[1;33m\u001b[0m\u001b[1;33m\u001b[0m\u001b[0m\n\u001b[1;32m---> 42\u001b[1;33m             \u001b[0msub_cost\u001b[0m\u001b[1;33m,\u001b[0m\u001b[0msub_node\u001b[0m\u001b[1;33m,\u001b[0m \u001b[0mduration\u001b[0m \u001b[1;33m=\u001b[0m\u001b[0mDnC\u001b[0m\u001b[1;33m(\u001b[0m\u001b[0mk\u001b[0m\u001b[1;33m,\u001b[0m\u001b[1;33m[\u001b[0m\u001b[0mx\u001b[0m \u001b[1;32mfor\u001b[0m \u001b[0mx\u001b[0m \u001b[1;32min\u001b[0m \u001b[0mrem_nodes\u001b[0m \u001b[1;32mif\u001b[0m \u001b[0mx\u001b[0m\u001b[1;33m!=\u001b[0m \u001b[0mk\u001b[0m\u001b[1;33m]\u001b[0m\u001b[1;33m,\u001b[0m \u001b[0mtimed\u001b[0m\u001b[1;33m,\u001b[0m \u001b[0mt1\u001b[0m\u001b[1;33m)\u001b[0m\u001b[1;33m\u001b[0m\u001b[0m\n\u001b[0m\u001b[0;32m     43\u001b[0m \u001b[1;33m\u001b[0m\u001b[0m\n\u001b[0;32m     44\u001b[0m             \u001b[1;31m# YOU CAN CHANGE THE MAXIMUM TIME HERE\u001b[0m\u001b[1;33m\u001b[0m\u001b[1;33m\u001b[0m\u001b[0m\n",
      "\u001b[1;32m<ipython-input-21-c71fd5c92b6b>\u001b[0m in \u001b[0;36mDnC\u001b[1;34m(i, rem_nodes, timed, t1)\u001b[0m\n\u001b[0;32m     51\u001b[0m                 \u001b[0mindex_opt\u001b[0m \u001b[1;33m=\u001b[0m \u001b[0mk\u001b[0m\u001b[1;33m\u001b[0m\u001b[0m\n\u001b[0;32m     52\u001b[0m                 \u001b[0mopt_nodes\u001b[0m \u001b[1;33m=\u001b[0m \u001b[0msub_node\u001b[0m\u001b[1;33m\u001b[0m\u001b[0m\n\u001b[1;32m---> 53\u001b[1;33m                 \u001b[0mmin_cost\u001b[0m \u001b[1;33m=\u001b[0m \u001b[0msub_cost\u001b[0m\u001b[1;33m\u001b[0m\u001b[0m\n\u001b[0m\u001b[0;32m     54\u001b[0m \u001b[1;33m\u001b[0m\u001b[0m\n\u001b[0;32m     55\u001b[0m         \u001b[1;31m# Update de cost\u001b[0m\u001b[1;33m\u001b[0m\u001b[1;33m\u001b[0m\u001b[0m\n",
      "\u001b[1;31mKeyboardInterrupt\u001b[0m: "
     ]
    }
   ],
   "source": [
    "print(DivideAndConquer(M, timed = False))"
   ]
  },
  {
   "cell_type": "code",
   "execution_count": 25,
   "metadata": {
    "collapsed": true
   },
   "outputs": [],
   "source": [
    "def DynamicProgramming(graph, timed = False):\n",
    "    \n",
    "#     adj_mat = graph.weighted_adjacency_matrix\n",
    "    adj_mat = graph\n",
    "    adj_mat = np.matrix(adj_mat)\n",
    "    \n",
    "    n = np.size(adj_mat,1)\n",
    "\n",
    "    L = list(range(2,n+1))\n",
    "\n",
    "    all_S = []\n",
    "    for i in range(1,len(L)+1):\n",
    "        all_S = all_S + list(itertools.combinations(L, i))\n",
    "    \n",
    "    \n",
    "    for i in range(0,n):\n",
    "        adj_mat[i,i] = np.inf    \n",
    "    \n",
    "    # start algorithm\n",
    "    cost_memo = {}\n",
    "    path_memo = {}\n",
    "    \n",
    "    #We compute the edges from the leaves to the starting point\n",
    "    for k in all_S[0:len(L)]:\n",
    "       cost_memo[k] = M[k[0]-1,0]\n",
    "       path_memo[k] = [k[0]]\n",
    "\n",
    "    t1 = time.time()\n",
    "    \n",
    "    # We traverse through all the list of subsets\n",
    "    for k in all_S[len(L):]:\n",
    "\n",
    "        # Initialize minimal cost\n",
    "        min_cost = np.inf \n",
    "\n",
    "        # We traverse through the elements of the permutation\n",
    "        for i in range(0,len(k)): # This index removes the element corresponding to the node that we will visit\n",
    "            for j in range(0,len(k)): # This index corresponds to the current node, i != j\n",
    "                                      # E.G. [k={2,3,4}, i=3, j=2] ==> [2 -> 3, with j in k-{3}] \n",
    "                    \n",
    "                # YOU CAN CHANGE THE MAXIMUM TIME HERE\n",
    "                if timed:\n",
    "                    if time.time()-t1 > 6:\n",
    "                        return cost,path_memo[s], time.time() - t1                   \n",
    "                    \n",
    "                if i==j: continue\n",
    "\n",
    "                # We remove \"i\" from the subset, but tuples are immutable\n",
    "                s = list(k)\n",
    "                s.remove(k[i])\n",
    "                s = tuple(s)\n",
    "\n",
    "                # The new cost is the sum of the cost of traveling to i + accumulated cost\n",
    "                cost = M[k[i]-1,k[j]-1] + cost_memo[s]\n",
    "\n",
    "                # We look for minimum cost and its path\n",
    "                if cost < min_cost:\n",
    "                    min_cost = cost\n",
    "                    min_path = path_memo[s] + [k[i]]\n",
    "\n",
    "        # We save in our memos the cost and its associated path\n",
    "        cost_memo[k] = min_cost    \n",
    "        path_memo[k] = min_path\n",
    "\n",
    "    # We add the set corresponding to (1,2,...,n) to our calculations\n",
    "    full_set = tuple(range(1,len(L)+2))\n",
    "    path_memo[full_set] = [1] + min_path\n",
    "    cost_memo[full_set] = min_cost + M[0,min_path[-1]-1]\n",
    "    \n",
    "    return cost_memo[full_set], path_memo[full_set], time.time() - t1"
   ]
  },
  {
   "cell_type": "code",
   "execution_count": 26,
   "metadata": {
    "collapsed": false
   },
   "outputs": [
    {
     "name": "stdout",
     "output_type": "stream",
     "text": [
      "(123167.01009175228, [10, 14, 16, 17, 9, 8], 6.000256299972534)\n"
     ]
    }
   ],
   "source": [
    "print(DynamicProgramming(M, timed = True))"
   ]
  },
  {
   "cell_type": "code",
   "execution_count": null,
   "metadata": {
    "collapsed": true
   },
   "outputs": [],
   "source": []
  }
 ],
 "metadata": {
  "anaconda-cloud": {},
  "kernelspec": {
   "display_name": "Python [Anaconda3]",
   "language": "python",
   "name": "Python [Anaconda3]"
  },
  "language_info": {
   "codemirror_mode": {
    "name": "ipython",
    "version": 3
   },
   "file_extension": ".py",
   "mimetype": "text/x-python",
   "name": "python",
   "nbconvert_exporter": "python",
   "pygments_lexer": "ipython3",
   "version": "3.5.2"
  }
 },
 "nbformat": 4,
 "nbformat_minor": 0
}
