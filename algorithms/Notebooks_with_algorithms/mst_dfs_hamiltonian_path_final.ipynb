{
 "cells": [
  {
   "cell_type": "code",
   "execution_count": 199,
   "metadata": {
    "collapsed": true
   },
   "outputs": [],
   "source": [
    "import networkx as nx\n",
    "#import matplotlib.pyplot as plt\n",
    "import time\n",
    "import sys\n",
    "import numpy as np\n",
    "from scipy.spatial import distance_matrix\n",
    "import pandas as pd"
   ]
  },
  {
   "cell_type": "code",
   "execution_count": 200,
   "metadata": {
    "collapsed": true
   },
   "outputs": [],
   "source": [
    "# filename = input(\"Write file name as this type (eil51_json_array.txt): \")\n",
    "with open('eil51_json_array.txt', 'r') as myfile:\n",
    "    data_json = myfile.read().replace('\\n', '')\n",
    "data_json = eval(data_json)\n",
    "data_json = np.array(data_json)\n",
    "\n",
    "global distance_data\n",
    "distance_data = distance_matrix(data_json, data_json)\n",
    "distance_data = distance_data.tolist()"
   ]
  },
  {
   "cell_type": "code",
   "execution_count": 201,
   "metadata": {
    "scrolled": true
   },
   "outputs": [
    {
     "name": "stdout",
     "output_type": "stream",
     "text": [
      "Edge \tWeight\n"
     ]
    }
   ],
   "source": [
    "class Graph():\n",
    "    global parent_list\n",
    "    global root_list\n",
    "    global weight_list\n",
    "    \n",
    "    parent_list = []\n",
    "    root_list = []\n",
    "    weight_list = []\n",
    "    def __init__(self, vertices): \n",
    "        self.V = vertices \n",
    "        self.graph = [[0 for column in range(vertices)] for row in range(vertices)] \n",
    "    def printMST(self, parent): \n",
    "        print (\"Edge \\tWeight\")\n",
    "        for i in range(1,self.V): \n",
    "            # print (parent[i],\"-\",i,\"\\t\",self.graph[i][ parent[i] ] )\n",
    "            parent_list.append(parent[i])\n",
    "            root_list.append(i)\n",
    "            weight_list.append(self.graph[i][ parent[i] ])\n",
    "    def minKey(self, key, mstSet): \n",
    "        min = sys.maxsize\n",
    "  \n",
    "        for v in range(self.V): \n",
    "            if key[v] < min and mstSet[v] == False: \n",
    "                min = key[v] \n",
    "                min_index = v \n",
    "        return min_index \n",
    "    def primMST(self): \n",
    "        key = [sys.maxsize] * self.V \n",
    "        parent = [None] * self.V \n",
    "        key[0] = 0 \n",
    "        mstSet = [False] * self.V \n",
    "        parent[0] = -1\n",
    "        for cout in range(self.V): \n",
    "            u = self.minKey(key, mstSet) \n",
    "            mstSet[u] = True\n",
    "            for v in range(self.V): \n",
    "                if self.graph[u][v] > 0 and mstSet[v] == False and key[v] > self.graph[u][v]: \n",
    "                        key[v] = self.graph[u][v] \n",
    "                        parent[v] = u \n",
    "\n",
    "        self.printMST(parent) \n",
    "  \n",
    "g = Graph(len(distance_data)) \n",
    "g.graph = distance_data\n",
    "  \n",
    "g.primMST()\n",
    "  \n",
    "# Contributed by Divyanshu Mehta "
   ]
  },
  {
   "cell_type": "code",
   "execution_count": 202,
   "metadata": {
    "scrolled": true
   },
   "outputs": [],
   "source": [
    "dictionary = {'Parent':parent_list,\n",
    "              'Root':root_list,\n",
    "              'weight':weight_list}\n",
    "df = pd.DataFrame(dictionary)"
   ]
  },
  {
   "cell_type": "code",
   "execution_count": 203,
   "metadata": {
    "scrolled": true
   },
   "outputs": [
    {
     "name": "stdout",
     "output_type": "stream",
     "text": [
      "Following is DFS from (starting from vertex 5)\n",
      "5\n",
      "47\n",
      "7\n",
      "25\n",
      "30\n",
      "27\n",
      "2\n",
      "19\n",
      "34\n",
      "35\n",
      "22\n",
      "6\n",
      "42\n",
      "23\n",
      "26\n",
      "50\n",
      "45\n",
      "11\n",
      "46\n",
      "3\n",
      "16\n",
      "36\n",
      "14\n",
      "43\n",
      "41\n",
      "18\n",
      "39\n",
      "40\n",
      "12\n",
      "44\n",
      "32\n",
      "17\n",
      "13\n",
      "24\n",
      "0\n",
      "21\n",
      "31\n",
      "10\n",
      "37\n",
      "4\n",
      "8\n",
      "48\n",
      "9\n",
      "38\n",
      "49\n",
      "15\n",
      "1\n",
      "20\n",
      "28\n",
      "33\n",
      "29\n"
     ]
    }
   ],
   "source": [
    "from collections import defaultdict \n",
    "class Graph: \n",
    "    global opt_route\n",
    "    opt_route = []\n",
    "\n",
    "    def __init__(self): \n",
    "        self.graph = defaultdict(list) \n",
    "    def addEdge(self,u,v): \n",
    "        self.graph[u].append(v) \n",
    "    def DFSUtil(self,v,visited): \n",
    "        visited[v]= True\n",
    "        print (v)\n",
    "        opt_route.append(v)\n",
    "        for i in self.graph[v]: \n",
    "            if visited[i] == False: \n",
    "                self.DFSUtil(i, visited)  \n",
    "    def DFS(self,v): \n",
    "\n",
    "        visited = [False]*(len(self.graph)) \n",
    " \n",
    "        self.DFSUtil(v,visited) \n",
    "\n",
    "g = Graph() \n",
    "for number in range(len(df)):\n",
    "    g.addEdge(df['Parent'][number],df['Root'][number])\n",
    "for number in range(len(df)):\n",
    "    g.addEdge(df['Root'][number],df['Parent'][number])\n",
    "  \n",
    "print (\"Following is DFS from (starting from vertex 5)\")\n",
    "g.DFS(5)       \n"
   ]
  },
  {
   "cell_type": "code",
   "execution_count": 228,
   "metadata": {
    "scrolled": true
   },
   "outputs": [],
   "source": [
    "total_distance = 0\n",
    "for i in range(len(opt_route)):\n",
    "    try:\n",
    "        city_1 = opt_route[i]\n",
    "        city_2 = opt_route[i+1]\n",
    "        total_distance = total_distance + int(distance_data[city_1][city_2])+1\n",
    "    except:\n",
    "        city_1 = opt_route[i]\n",
    "        city_2 = opt_route[0]\n",
    "        total_distance = total_distance + int(distance_data[city_1][city_2])+1"
   ]
  },
  {
   "cell_type": "code",
   "execution_count": 229,
   "metadata": {},
   "outputs": [
    {
     "name": "stdout",
     "output_type": "stream",
     "text": [
      "645\n"
     ]
    }
   ],
   "source": [
    "print(total_distance)"
   ]
  }
 ],
 "metadata": {
  "kernelspec": {
   "display_name": "Python 3",
   "language": "python",
   "name": "python3"
  },
  "language_info": {
   "codemirror_mode": {
    "name": "ipython",
    "version": 3
   },
   "file_extension": ".py",
   "mimetype": "text/x-python",
   "name": "python",
   "nbconvert_exporter": "python",
   "pygments_lexer": "ipython3",
   "version": "3.6.2"
  }
 },
 "nbformat": 4,
 "nbformat_minor": 2
}
