{
 "cells": [
  {
   "cell_type": "markdown",
   "metadata": {},
   "source": [
    "# Non - Exhaustive algorithm: Genetic algorithm\n",
    "\n",
    "## Author: Kristina Kulivnyk\n",
    "\n",
    "This notebook features the implementation of Genetic algorithm."
   ]
  },
  {
   "cell_type": "code",
   "execution_count": null,
   "metadata": {},
   "outputs": [],
   "source": [
    "from sklearn.metrics.pairwise import euclidean_distances\n",
    "from scipy.spatial import distance_matrix\n",
    "\n",
    "import sys\n",
    "sys.path.insert(0, '../..')\n",
    "\n",
    "import random\n",
    "import time\n",
    "import numpy as np\n",
    "import pandas as pd\n",
    "import seaborn as sns\n",
    "import matplotlib.pyplot as plt\n",
    "import graph_class as gc\n",
    "\n",
    "%matplotlib inline"
   ]
  },
  {
   "cell_type": "markdown",
   "metadata": {},
   "source": [
    "GA highly depends on parameters selection. <br>\n",
    "There are several main types of parameters that need to be assigned: <br>\n",
    "1. Population -> number of individuals in population\n",
    "2. Generation -> number of generations (basically how many times we run GA)\n",
    "3. Mutation rate -> percentage of the population that will mutate\n",
    "4. Tournament -> number of individuals from population that will tale part in pouranment breeding\n",
    "5. SelectionTypeParent -> type of selection method for parents. 1 - roulette selection, 2 - tournament selection.\n",
    "6. SelectionTypePool -> type of selection method for matting pool. 1 - roulette selection, 2 - tournament selection.\n",
    "7. Elitism -> if TRUE, than we save best obtained \"genes\" for next generations. If FALSE - not.\n",
    "8. Timed -> if TRUE, stop algo after 5 min(300 sec)."
   ]
  },
  {
   "cell_type": "code",
   "execution_count": null,
   "metadata": {},
   "outputs": [],
   "source": [
    "def GA_approach(graph, PopulationIntended=10000, GenerationIntended=25000, mutationRateIntended=0.05, tournamentSelectionSizeIntended=350,\n",
    "                selectionTypeParentIntended = 1, selectionTypePoolIntended = 1, elitismIntended=False, timed=False ):\n",
    "    \n",
    "    mutationRate = mutationRateIntended\n",
    "\n",
    "    tournamentSelectionSize = tournamentSelectionSizeIntended\n",
    "\n",
    "    elitism = elitismIntended\n",
    "\n",
    "    PopulationSize = PopulationIntended\n",
    "    GenerationSize = GenerationIntended\n",
    "    \n",
    "    selectionTypeParent=selectionTypeParentIntended\n",
    "    selectionTypePool = selectionTypePoolIntended\n",
    "\n",
    "    Cities = []\n",
    "\n",
    "    Matrix = graph\n",
    "\n",
    "    class City:\n",
    "        def __init__(self, id=0):\n",
    "            self.id = id\n",
    "\n",
    "        def distanceTo(self, city):\n",
    "            return Matrix[self.id][city.id]\n",
    "\n",
    "        def __repr__(self):\n",
    "            return str(\"( id = \" + str(self.id) + \")\")\n",
    "\n",
    "    class Route:\n",
    "        def __init__(self, route=None):\n",
    "            self.route = []\n",
    "            self.fitness = 0.0\n",
    "            self.distance = 0\n",
    "            if route is not None:\n",
    "                self.route = route\n",
    "            else:\n",
    "                for i in range(0, len(Cities)):\n",
    "                    self.route.append(None)\n",
    "\n",
    "        def __len__(self):\n",
    "            return len(self.route)\n",
    "\n",
    "        def __getitem__(self, index):\n",
    "            return self.route[index]\n",
    "\n",
    "        def __setitem__(self, key, value):\n",
    "            self.route[key] = value\n",
    "\n",
    "        def __repr__(self):\n",
    "            geneString = \"\"\n",
    "            for i in range(0, len(self.route)):\n",
    "                geneString += str(self[i]) + \"\\n \"\n",
    "            return geneString\n",
    "\n",
    "        def generateIndividual(self):\n",
    "            for cityIndex in range(0, len(Cities)):\n",
    "                self.addCity(cityIndex, Cities[cityIndex])\n",
    "            random.shuffle(self.route)\n",
    "\n",
    "        def addCity(self, id, city):\n",
    "            self.route[id] = city\n",
    "            self.fitness = 0.0\n",
    "            self.distance = 0\n",
    "\n",
    "        def getFitness(self):\n",
    "            if self.fitness == 0:\n",
    "                self.fitness = 1 / float(self.getDistance())\n",
    "            return self.fitness\n",
    "\n",
    "        def getDistance(self):\n",
    "            if self.distance == 0:\n",
    "                distance = 0\n",
    "                len_route = len(self.route)\n",
    "                B_final = self.route[len_route - 1]\n",
    "\n",
    "                for i in range(0, len_route - 1):\n",
    "                    A = self.route[i]\n",
    "                    B = self.route[i + 1]\n",
    "                    distance += A.distanceTo(B)\n",
    "\n",
    "                distance += B_final.distanceTo(self.route[0])  # From Last point(B) To First One\n",
    "                self.distance = distance\n",
    "            return self.distance\n",
    "\n",
    "    class Population:\n",
    "        def __init__(self, populationSize, initialise):\n",
    "            self.routes = []\n",
    "            for i in range(0, populationSize):\n",
    "                self.routes.append(None)\n",
    "\n",
    "            if initialise:\n",
    "                for i in range(0, populationSize):\n",
    "                    newTour = Route()\n",
    "                    newTour.generateIndividual()\n",
    "                    self.routes[i] = newTour\n",
    "\n",
    "        def __setitem__(self, key, value):\n",
    "            self.routes[key] = value\n",
    "\n",
    "        def __getitem__(self, index):\n",
    "            return self.routes[index]\n",
    "\n",
    "        def __len__(self):\n",
    "            return len(self.routes)\n",
    "\n",
    "        def getFittest(self):\n",
    "            fittest = self.routes[0]\n",
    "            for i in range(0, self.populationSize()):\n",
    "                if fittest.getFitness() <= self[i].getFitness():\n",
    "                    fittest = self[i]\n",
    "            return fittest\n",
    "\n",
    "        def populationSize(self):\n",
    "            return len(self.routes)\n",
    "\n",
    "        def getRouletteList(self): # here in the end of list - sum of all fitnesses (max value)\n",
    "            roiletlist = []\n",
    "            a = 0.0\n",
    "            roiletlist.append(a)\n",
    "            for i in range(0, self.populationSize()):\n",
    "                a += self[i].getFitness()\n",
    "                roiletlist.append(a)\n",
    "\n",
    "            return roiletlist\n",
    "\n",
    "    def evolvePopulation(population):\n",
    "        nextPopulation = Population(len(population), False)\n",
    "        elitismOffset = 0\n",
    "        if elitism:\n",
    "            nextPopulation[0] = population.getFittest()\n",
    "            elitismOffset = 1\n",
    "\n",
    "        mattingPopulation = mattingCreatorPool(population)\n",
    "        # Current work\n",
    "        for i in range(elitismOffset, nextPopulation.populationSize()):\n",
    "            if (selectionTypeParent== 1) :\n",
    "                parent1 = rouletteSelection(mattingPopulation)  \n",
    "                parent2 = rouletteSelection(mattingPopulation) \n",
    "            elif (selectionTypeParent== 2):\n",
    "                parent1 = tournamentSelection(mattingPopulation)  \n",
    "                parent2 = tournamentSelection(mattingPopulation)\n",
    "            child = crossover2(parent1, parent2)\n",
    "            nextPopulation[i] = child\n",
    "        nextPopulation = mutatePopulation(nextPopulation,\n",
    "                                          elitismOffset)  # If ElitismOffset is 0 we will mutate all population\n",
    "        return nextPopulation\n",
    "\n",
    "    def crossover2(parent_1, parent_2):\n",
    "\n",
    "        list_1 = []\n",
    "\n",
    "        geneA = int(random.random() * len(parent_1))\n",
    "        geneB = int(random.random() * len(parent_1))\n",
    "\n",
    "        startGene = min(geneA, geneB)\n",
    "        endGene = max(geneA, geneB)\n",
    "\n",
    "        for i in range(startGene, endGene):\n",
    "            list_1.append(parent_1[i])\n",
    "\n",
    "        list_2 = [item for item in parent_2 if item not in list_1]\n",
    "        list = []\n",
    "        i_1 = 0\n",
    "        i_2 = 0\n",
    "\n",
    "        for i in range(len(Cities)):\n",
    "            if (i in range(startGene, endGene)):\n",
    "                list.append(list_1[i_1])\n",
    "                i_1 += 1\n",
    "            else:\n",
    "                list.append(list_2[i_2])\n",
    "                i_2 += 1\n",
    "\n",
    "        return Route(list)\n",
    "\n",
    "    def mutatePopulation(population, offset):  # New Version\n",
    "        for i in range(offset, population.populationSize()):\n",
    "            mutateRoute(population[i])\n",
    "        return population\n",
    "\n",
    "    def mutateRoute(route):  \n",
    "        if random.random() < mutationRate:\n",
    "            id_1 = random.randint(0, len(route) - 1)\n",
    "            id_2 = random.randint(0, len(route) - 1)\n",
    "            # SWAP\n",
    "            tmpRoute = route[id_1]\n",
    "            route.addCity(id_1, route[id_2])\n",
    "            route.addCity(id_2, tmpRoute)\n",
    "\n",
    "    def tournamentSelection(population):  \n",
    "        tPopulation = Population(tournamentSelectionSize, False)\n",
    "        for i in range(0, tournamentSelectionSize):\n",
    "            id = random.randint(0, len(population) - 1)\n",
    "            tPopulation[i] = population[id]\n",
    "        return tPopulation.getFittest()\n",
    "\n",
    "    def rouletteSelection(population):\n",
    "        rouletteList = population.getRouletteList()\n",
    "        maxvalue = rouletteList[population.populationSize() - 1]\n",
    "        random_id = random.uniform(0.0, maxvalue)\n",
    "        for i in range(0, len(rouletteList) - 1):\n",
    "            if (rouletteList[i] <= random_id < rouletteList[i + 1]):\n",
    "                return population[i]\n",
    "        return population[len(rouletteList) - 1]\n",
    "\n",
    "    def mattingCreatorPool(population):\n",
    "        size = int(len(population) / 2)\n",
    "        mattingPopulation = Population(size, False)\n",
    "        for i in range(0, len(mattingPopulation)):\n",
    "            if (selectionTypePool== 1) :\n",
    "                mattingPopulation[i] = rouletteSelection(population)\n",
    "            elif(selectionTypePool== 2) :\n",
    "                mattingPopulation[i] = tournamentSelection(population)\n",
    "        return mattingPopulation\n",
    "\n",
    "\n",
    "    for id in range(0, len(Matrix)):\n",
    "        city = City(id)\n",
    "        Cities.append(city)\n",
    "\n",
    "    t1 = time.time()\n",
    "    # Initialize population\n",
    "    pop = Population(PopulationSize, True)\n",
    "    initial_distance = pop.getFittest().getDistance()\n",
    "\n",
    "    # Evolve population for N generations\n",
    "    pop = evolvePopulation(pop)\n",
    "    \n",
    "    for i in range(0, GenerationSize):\n",
    "        # YOU CAN CHANGE THE MAXIMUM TIME HERE\n",
    "        if timed:\n",
    "            if time.time() - t1 > 300:\n",
    "                return initial_distance, pop.getFittest().getDistance(), pop.getFittest(), time.time() - t1\n",
    "        pop = evolvePopulation(pop)\n",
    "\n",
    "    t2 = time.time()\n",
    "    final_time = t2 - t1\n",
    "    final_distance = pop.getFittest().getDistance()\n",
    "    final_path = pop.getFittest()\n",
    "\n",
    "    return initial_distance, final_distance, final_path, final_time"
   ]
  },
  {
   "cell_type": "markdown",
   "metadata": {},
   "source": [
    "## Sample matrix\n",
    "\n",
    "\n",
    "GA takes a long time to find a best distance when number of cities grows.<br><p>\n",
    "In order to make experements with parameters and to discover which parameters are the best it was decided to use a <br>simpler 10x10 adjacency matrix, because with the grows of number of \"cities\" execution time becomes very high.<br>\n",
    "<p>P.S: it is not correct to extrapolate the results of one datasets to all possible datasets, but because parameters tuning is quite a hard question for this type of algorithm (because of high dependencies between data and parameters), we'll still use best parameters from this solution for further evaluation, because the type of datasets in TSPLIB is simular.\n"
   ]
  },
  {
   "cell_type": "code",
   "execution_count": null,
   "metadata": {},
   "outputs": [],
   "source": [
    "X = [[25,50],\n",
    "     [15,40],\n",
    "     [33,65],\n",
    "     [24,19],\n",
    "     [7,26],\n",
    "     [0,37],\n",
    "     [47,5],\n",
    "     [56,23],\n",
    "     [39,18],\n",
    "     [14,31] ]\n",
    "data = euclidean_distances(X, X)\n",
    "data.tolist()"
   ]
  },
  {
   "cell_type": "markdown",
   "metadata": {},
   "source": [
    "## First experiment.\n",
    "\n",
    "Let set-up small mutation rate, elitism and roulette method for selecting matting pool and parents."
   ]
  },
  {
   "cell_type": "code",
   "execution_count": 173,
   "metadata": {},
   "outputs": [
    {
     "name": "stdout",
     "output_type": "stream",
     "text": [
      "Initial distance: 220.70995808174214 Obtained distance: 182.00794886736682  Time: 21.675868034362793\n",
      "Initial distance: 199.35266475257598 Obtained distance: 182.00794886736682  Time: 21.85685420036316\n",
      "Initial distance: 208.26229421955466 Obtained distance: 182.0079488673668  Time: 24.276663064956665\n",
      "Initial distance: 203.30901343604296 Obtained distance: 182.00794886736682  Time: 21.870076894760132\n",
      "Initial distance: 216.61069083994772 Obtained distance: 182.0079488673668  Time: 21.603106021881104\n",
      "Initial distance: 209.65794401484143 Obtained distance: 182.0079488673668  Time: 21.450886964797974\n",
      "Initial distance: 220.52070438769508 Obtained distance: 182.00794886736682  Time: 21.494857788085938\n",
      "Initial distance: 210.7886819400554 Obtained distance: 182.0079488673668  Time: 21.45267605781555\n",
      "Initial distance: 222.04226564209054 Obtained distance: 182.00794886736682  Time: 21.417556285858154\n",
      "Initial distance: 211.16872234593234 Obtained distance: 182.00794886736682  Time: 21.267776012420654\n",
      "\n",
      "Obtained mean distance results: 182.0079488673668\n",
      "Obtained mean time results: 21.836632132530212\n"
     ]
    }
   ],
   "source": [
    "gas = []\n",
    "res = []\n",
    "time_res = []\n",
    "\n",
    "for runs in range(10):\n",
    "    gas.append(GA_approach(data, PopulationIntended=1000, GenerationIntended=25, mutationRateIntended=0.05, tournamentSelectionSizeIntended=125,\n",
    "                selectionTypeParentIntended = 1, selectionTypePoolIntended = 1, elitismIntended=True, timed=False ))\n",
    "\n",
    "for i in range(10) :\n",
    "    print(\"Initial distance: \" + str(gas[i][0])+ \" Obtained distance: \" + str(gas[i][1])+ \"  Time: \" + str(gas[i][3]))\n",
    "print(\"\")\n",
    "res = [np.mean([idx[1] for idx in gas]), np.std([idx[1] for idx in gas])]\n",
    "print(\"Obtained mean distance results: \" + str(res[0]))\n",
    "time_res = [np.mean([idx[3] for idx in gas]), np.std([idx[3] for idx in gas])]\n",
    "print(\"Obtained mean time results: \" + str(time_res[0]))\n",
    "\n"
   ]
  },
  {
   "cell_type": "markdown",
   "metadata": {},
   "source": [
    "## Second experiment.\n",
    "\n",
    "Let set-up hight mutation rate, elitism and roulette method for selecting matting pool and parents."
   ]
  },
  {
   "cell_type": "code",
   "execution_count": 174,
   "metadata": {},
   "outputs": [
    {
     "name": "stdout",
     "output_type": "stream",
     "text": [
      "Initial distance: 205.64883009425162 Obtained distance: 182.00794886736682  Time: 21.867130756378174\n",
      "Initial distance: 205.48032911883624 Obtained distance: 185.159773368448  Time: 21.799912929534912\n",
      "Initial distance: 196.85340521243148 Obtained distance: 190.14577611291256  Time: 22.078543186187744\n",
      "Initial distance: 214.66960783313613 Obtained distance: 185.15977336844801  Time: 21.496378183364868\n",
      "Initial distance: 205.6467420198123 Obtained distance: 189.46462676787075  Time: 21.238338947296143\n",
      "Initial distance: 214.33913002270316 Obtained distance: 190.14577611291256  Time: 22.449644804000854\n",
      "Initial distance: 215.9624636831407 Obtained distance: 186.96536722772626  Time: 21.825464010238647\n",
      "Initial distance: 210.5455244591053 Obtained distance: 185.159773368448  Time: 21.657427072525024\n",
      "Initial distance: 208.05200637865977 Obtained distance: 186.96536722772626  Time: 22.144958972930908\n",
      "Initial distance: 211.42132857573782 Obtained distance: 185.159773368448  Time: 21.588551998138428\n",
      "\n",
      "Obtained mean distance results: 186.63339557903072\n",
      "Obtained mean time results: 21.81463508605957\n"
     ]
    }
   ],
   "source": [
    "gas = []\n",
    "res = []\n",
    "time_res = []\n",
    "\n",
    "for runs in range(10):\n",
    "    gas.append(GA_approach(data, PopulationIntended=1000, GenerationIntended=25, mutationRateIntended=0.75, tournamentSelectionSizeIntended=125,\n",
    "                selectionTypeParentIntended = 1, selectionTypePoolIntended = 1, elitismIntended=True, timed=False ))\n",
    "\n",
    "for i in range(10) :\n",
    "    print(\"Initial distance: \" + str(gas[i][0])+ \" Obtained distance: \" + str(gas[i][1])+ \"  Time: \" + str(gas[i][3]))\n",
    "print(\"\")\n",
    "res = [np.mean([idx[1] for idx in gas]), np.std([idx[1] for idx in gas])]\n",
    "print(\"Obtained mean distance results: \" + str(res[0]))\n",
    "time_res = [np.mean([idx[3] for idx in gas]), np.std([idx[3] for idx in gas])]\n",
    "print(\"Obtained mean time results: \" + str(time_res[0]))\n",
    "\n"
   ]
  },
  {
   "cell_type": "markdown",
   "metadata": {},
   "source": [
    "## Third experiment.\n",
    "\n",
    "Taking into account results obtained above, lets save the small mutation rate for all further experiments.\n",
    "Let set-up no elitism for this time and save roulette method for selecting matting pool and parents."
   ]
  },
  {
   "cell_type": "code",
   "execution_count": 176,
   "metadata": {},
   "outputs": [
    {
     "name": "stdout",
     "output_type": "stream",
     "text": [
      "Initial distance: 211.77168601944228 Obtained distance: 185.15977336844801  Time: 22.453171968460083\n",
      "Initial distance: 213.7982114332758 Obtained distance: 195.85233553553905  Time: 21.53212022781372\n",
      "Initial distance: 211.22199707527128 Obtained distance: 193.0376484738677  Time: 22.27268695831299\n",
      "Initial distance: 220.64488273970787 Obtained distance: 196.85340521243145  Time: 21.711368083953857\n",
      "Initial distance: 218.60851681351804 Obtained distance: 195.85233553553905  Time: 22.42076015472412\n",
      "Initial distance: 217.7502552260255 Obtained distance: 202.93061027785032  Time: 23.44774603843689\n",
      "Initial distance: 206.53509261598526 Obtained distance: 182.00794886736682  Time: 22.45192313194275\n",
      "Initial distance: 206.88203514203997 Obtained distance: 205.4801807514585  Time: 21.433953046798706\n",
      "Initial distance: 204.3130371440865 Obtained distance: 201.3418886203895  Time: 21.927569150924683\n",
      "Initial distance: 204.93510914001226 Obtained distance: 186.96536722772626  Time: 21.64775013923645\n",
      "\n",
      "Obtained mean distance results: 194.54814938706167\n",
      "Obtained mean time results: 22.129904890060423\n"
     ]
    }
   ],
   "source": [
    "gas = []\n",
    "res = []\n",
    "time_res = []\n",
    "\n",
    "for runs in range(10):\n",
    "    gas.append(GA_approach(data, PopulationIntended=1000, GenerationIntended=25, mutationRateIntended=0.05, tournamentSelectionSizeIntended=125,\n",
    "                selectionTypeParentIntended = 1, selectionTypePoolIntended = 1, elitismIntended=False, timed=False ))\n",
    "\n",
    "for i in range(10) :\n",
    "    print(\"Initial distance: \" + str(gas[i][0])+ \" Obtained distance: \" + str(gas[i][1])+ \"  Time: \" + str(gas[i][3]))\n",
    "print(\"\")\n",
    "res = [np.mean([idx[1] for idx in gas]), np.std([idx[1] for idx in gas])]\n",
    "print(\"Obtained mean distance results: \" + str(res[0]))\n",
    "time_res = [np.mean([idx[3] for idx in gas]), np.std([idx[3] for idx in gas])]\n",
    "print(\"Obtained mean time results: \" + str(time_res[0]))\n"
   ]
  },
  {
   "cell_type": "markdown",
   "metadata": {},
   "source": [
    "## Fourth experiment.\n",
    "\n",
    "Taking into account results of the first and third experiments, lets conclude that the best option <br> \n",
    "is to save small mutation rate and elitism constraint.\n",
    "<p>\n",
    "For the next experiment lets set-up tournament method for selecting matting pool and parents."
   ]
  },
  {
   "cell_type": "code",
   "execution_count": 180,
   "metadata": {},
   "outputs": [
    {
     "name": "stdout",
     "output_type": "stream",
     "text": [
      "Initial distance: 189.46462676787075 Obtained distance: 185.159773368448  Time: 22.51604390144348\n",
      "Initial distance: 210.57320081001006 Obtained distance: 182.00794886736682  Time: 23.28362274169922\n",
      "Initial distance: 213.09496434981463 Obtained distance: 185.159773368448  Time: 23.12364387512207\n",
      "Initial distance: 196.85340521243148 Obtained distance: 182.00794886736682  Time: 24.127399921417236\n",
      "Initial distance: 212.09641677674014 Obtained distance: 182.0079488673668  Time: 26.53110933303833\n",
      "Initial distance: 215.20061353915804 Obtained distance: 185.159773368448  Time: 24.421208143234253\n",
      "Initial distance: 207.2859229781145 Obtained distance: 182.00794886736682  Time: 22.518490076065063\n",
      "Initial distance: 200.06311094452425 Obtained distance: 182.0079488673668  Time: 24.11259889602661\n",
      "Initial distance: 213.252434540867 Obtained distance: 182.00794886736682  Time: 23.96954917907715\n",
      "Initial distance: 182.00794886736682 Obtained distance: 182.00794886736682  Time: 23.43302321434021\n",
      "\n",
      "Obtained mean distance results: 182.95349621769117\n",
      "Obtained mean time results: 23.80366892814636\n"
     ]
    }
   ],
   "source": [
    "gas = []\n",
    "res = []\n",
    "time_res = []\n",
    "\n",
    "for runs in range(10):\n",
    "    gas.append(GA_approach(data, PopulationIntended=1000, GenerationIntended=25, mutationRateIntended=0.05, tournamentSelectionSizeIntended=125,\n",
    "                selectionTypeParentIntended = 2, selectionTypePoolIntended = 2, elitismIntended=True, timed=False ))\n",
    "\n",
    "for i in range(10) :\n",
    "    print(\"Initial distance: \" + str(gas[i][0])+ \" Obtained distance: \" + str(gas[i][1])+ \"  Time: \" + str(gas[i][3]))\n",
    "print(\"\")\n",
    "res = [np.mean([idx[1] for idx in gas]), np.std([idx[1] for idx in gas])]\n",
    "print(\"Obtained mean distance results: \" + str(res[0]))\n",
    "time_res = [np.mean([idx[3] for idx in gas]), np.std([idx[3] for idx in gas])]\n",
    "print(\"Obtained mean time results: \" + str(time_res[0]))"
   ]
  },
  {
   "cell_type": "markdown",
   "metadata": {},
   "source": [
    "## Fifth experiment.\n",
    "\n",
    "From the experiment №1 and №4, we can observe that results for using same method for both selection <br> \n",
    "of matting pool and parents give quite simular results (indeed, experiment №4 takes 2 sec longer time <br> \n",
    "and produce not as good results as first experiment).\n",
    "<p>\n",
    "This time we'll keep small mutation rate and elitism constraint, but for matting pool selection we'll assign roulette method, for parents selection - tournament method."
   ]
  },
  {
   "cell_type": "code",
   "execution_count": 182,
   "metadata": {},
   "outputs": [
    {
     "name": "stdout",
     "output_type": "stream",
     "text": [
      "Initial distance: 215.11549882425166 Obtained distance: 182.0079488673668  Time: 25.95058298110962\n",
      "Initial distance: 209.7887282976291 Obtained distance: 185.159773368448  Time: 25.46117901802063\n",
      "Initial distance: 214.58558774158658 Obtained distance: 182.00794886736682  Time: 25.18635106086731\n",
      "Initial distance: 208.6694628057879 Obtained distance: 182.00794886736682  Time: 25.47010111808777\n",
      "Initial distance: 209.2197637258093 Obtained distance: 182.00794886736682  Time: 38.934325218200684\n",
      "Initial distance: 189.46462676787073 Obtained distance: 182.0079488673668  Time: 35.68397617340088\n",
      "Initial distance: 197.32433567776013 Obtained distance: 182.00794886736685  Time: 34.412516832351685\n",
      "Initial distance: 199.4080478726948 Obtained distance: 182.00794886736682  Time: 26.612240314483643\n",
      "Initial distance: 197.32433567776013 Obtained distance: 182.00794886736685  Time: 25.398775100708008\n",
      "Initial distance: 216.53847763016884 Obtained distance: 182.00794886736682  Time: 25.11417293548584\n",
      "\n",
      "Obtained mean distance results: 182.32313131747495\n",
      "Obtained mean time results: 28.822422075271607\n"
     ]
    }
   ],
   "source": [
    "gas = []\n",
    "res = []\n",
    "time_res = []\n",
    "\n",
    "for runs in range(10):\n",
    "    gas.append(GA_approach(data, PopulationIntended=1000, GenerationIntended=25, mutationRateIntended=0.05, tournamentSelectionSizeIntended=125,\n",
    "                selectionTypeParentIntended = 2, selectionTypePoolIntended = 1, elitismIntended=True, timed=False ))\n",
    "\n",
    "for i in range(10) :\n",
    "    print(\"Initial distance: \" + str(gas[i][0])+ \" Obtained distance: \" + str(gas[i][1])+ \"  Time: \" + str(gas[i][3]))\n",
    "print(\"\")\n",
    "res = [np.mean([idx[1] for idx in gas]), np.std([idx[1] for idx in gas])]\n",
    "print(\"Obtained mean distance results: \" + str(res[0]))\n",
    "time_res = [np.mean([idx[3] for idx in gas]), np.std([idx[3] for idx in gas])]\n",
    "print(\"Obtained mean time results: \" + str(time_res[0]))"
   ]
  },
  {
   "cell_type": "markdown",
   "metadata": {},
   "source": [
    "## Sixth experiment.\n",
    "To make the full observation, for this experiment \n",
    "we'll again keep small mutation rate and elitism constraint, but for matting pool selection we'll assign tournament method, for parents selection - roulette method."
   ]
  },
  {
   "cell_type": "code",
   "execution_count": 183,
   "metadata": {},
   "outputs": [
    {
     "name": "stdout",
     "output_type": "stream",
     "text": [
      "Initial distance: 194.82507613761564 Obtained distance: 182.0079488673668  Time: 19.067359924316406\n",
      "Initial distance: 207.88802863820976 Obtained distance: 182.00794886736685  Time: 19.25370192527771\n",
      "Initial distance: 201.87165936994631 Obtained distance: 182.0079488673668  Time: 19.263166904449463\n",
      "Initial distance: 220.97283945523438 Obtained distance: 182.0079488673668  Time: 19.465701818466187\n",
      "Initial distance: 208.6694628057879 Obtained distance: 182.0079488673668  Time: 21.011018991470337\n",
      "Initial distance: 216.8345749354819 Obtained distance: 182.00794886736682  Time: 19.559524059295654\n",
      "Initial distance: 195.85233553553905 Obtained distance: 182.0079488673668  Time: 18.312291860580444\n",
      "Initial distance: 213.81595418670386 Obtained distance: 182.0079488673668  Time: 18.28362202644348\n",
      "Initial distance: 210.5732008100101 Obtained distance: 182.0079488673668  Time: 18.206670999526978\n",
      "Initial distance: 185.159773368448 Obtained distance: 182.0079488673668  Time: 18.32015109062195\n",
      "\n",
      "Obtained mean distance results: 182.0079488673668\n",
      "Obtained mean time results: 19.07432096004486\n"
     ]
    }
   ],
   "source": [
    "gas = []\n",
    "res = []\n",
    "time_res = []\n",
    "\n",
    "for runs in range(10):\n",
    "    gas.append(GA_approach(data, PopulationIntended=1000, GenerationIntended=25, mutationRateIntended=0.05, tournamentSelectionSizeIntended=125,\n",
    "                selectionTypeParentIntended = 1, selectionTypePoolIntended = 2, elitismIntended=True, timed=False ))\n",
    "\n",
    "for i in range(10) :\n",
    "    print(\"Initial distance: \" + str(gas[i][0])+ \" Obtained distance: \" + str(gas[i][1])+ \"  Time: \" + str(gas[i][3]))\n",
    "print(\"\")\n",
    "res = [np.mean([idx[1] for idx in gas]), np.std([idx[1] for idx in gas])]\n",
    "print(\"Obtained mean distance results: \" + str(res[0]))\n",
    "time_res = [np.mean([idx[3] for idx in gas]), np.std([idx[3] for idx in gas])]\n",
    "print(\"Obtained mean time results: \" + str(time_res[0]))"
   ]
  },
  {
   "cell_type": "markdown",
   "metadata": {},
   "source": [
    "In the last experiment both distance and time results outperform.\n",
    "That is why after a series of 6 experiments we can conclude that the best parameters option for proposed datasets is:\n",
    "\n",
    "    *small mutation rate\n",
    "    *elitism\n",
    "    *roulette selection for parents\n",
    "    *tournament selection for mating pool\n",
    "    \n",
    "In the next series of experiments we'll try to find best combination between population, generation and tournament selection size.\n"
   ]
  },
  {
   "cell_type": "markdown",
   "metadata": {},
   "source": [
    "## Seventh experiment.\n",
    "The new goal of experiment is to find out the most appropriate combination of population, generation and tournament selection sizes.\n",
    "Let set up the proportion between Population, Generation and Tournament as -> 100%, 20%, 40%"
   ]
  },
  {
   "cell_type": "code",
   "execution_count": 188,
   "metadata": {},
   "outputs": [
    {
     "name": "stdout",
     "output_type": "stream",
     "text": [
      "Initial distance: 205.48018075145853 Final_distance: 182.0079488673668 Time: 301.24504804611206\n"
     ]
    }
   ],
   "source": [
    "route = GA_approach(data, PopulationIntended=2500, GenerationIntended=500, mutationRateIntended=0.05, tournamentSelectionSizeIntended=1000,selectionTypeParentIntended = 1, selectionTypePoolIntended = 2, elitismIntended=True, timed=True)\n",
    "\n",
    "print(\"Initial distance: \" + str(route[0]) \n",
    "          + \" Final_distance: \" + str(route[1]) \n",
    "          + \" Time: \" + str(route[3]))"
   ]
  },
  {
   "cell_type": "markdown",
   "metadata": {},
   "source": [
    "Experiment №7 shows that we've selected not correct population, cause it converge to optimal solution in a very long period of time."
   ]
  },
  {
   "cell_type": "markdown",
   "metadata": {},
   "source": [
    "## Eighth experiment.\n",
    "\n",
    "For this experiment we'll decrease population, but increase generation number and tournament selection size.\n",
    "Let set up the proportion between Population, Generation and Tournament as -> 20%, 100%, 17%"
   ]
  },
  {
   "cell_type": "code",
   "execution_count": 219,
   "metadata": {},
   "outputs": [
    {
     "name": "stdout",
     "output_type": "stream",
     "text": [
      "Initial distance: 233.9068421208144 Obtained distance: 182.0079488673668  Time: 9.785682201385498\n",
      "Initial distance: 252.2363296398811 Obtained distance: 185.159773368448  Time: 9.662638187408447\n",
      "Initial distance: 247.84053671019328 Obtained distance: 182.00794886736682  Time: 9.035399913787842\n",
      "Initial distance: 222.09563299118622 Obtained distance: 185.159773368448  Time: 9.16040301322937\n",
      "Initial distance: 247.8834688548872 Obtained distance: 182.00794886736685  Time: 9.02505612373352\n",
      "Initial distance: 248.5234789178982 Obtained distance: 182.00794886736682  Time: 9.30122184753418\n",
      "Initial distance: 236.1136283378824 Obtained distance: 185.159773368448  Time: 9.018712043762207\n",
      "Initial distance: 254.06370306044954 Obtained distance: 182.00794886736682  Time: 9.099674701690674\n",
      "Initial distance: 232.94333254593556 Obtained distance: 182.00794886736682  Time: 9.142814874649048\n",
      "Initial distance: 248.64613639908458 Obtained distance: 185.159773368448  Time: 9.03393816947937\n",
      "Initial distance: 248.8230216255072 Obtained distance: 182.00794886736685  Time: 9.065332889556885\n",
      "Initial distance: 243.765924241437 Obtained distance: 182.0079488673668  Time: 9.079507827758789\n",
      "Initial distance: 231.67331059079225 Obtained distance: 182.0079488673668  Time: 9.108693838119507\n",
      "Initial distance: 243.66898488840286 Obtained distance: 185.15977336844801  Time: 9.048524141311646\n",
      "Initial distance: 223.4458399845911 Obtained distance: 182.00794886736682  Time: 9.067699909210205\n",
      "Initial distance: 207.2857746107368 Obtained distance: 185.159773368448  Time: 9.084131002426147\n",
      "Initial distance: 239.87535046027426 Obtained distance: 182.0079488673668  Time: 9.543931007385254\n",
      "Initial distance: 234.11922549039505 Obtained distance: 182.00794886736682  Time: 9.206815004348755\n",
      "Initial distance: 251.29324530098836 Obtained distance: 182.00794886736682  Time: 9.739891052246094\n",
      "Initial distance: 246.21768089391935 Obtained distance: 182.00794886736682  Time: 9.425065994262695\n",
      "\n",
      "Obtained mean distance results: 182.9534962176912\n",
      "Obtained mean time results: 9.231756687164307\n"
     ]
    }
   ],
   "source": [
    "gas = []\n",
    "res = []\n",
    "time_res = []\n",
    "\n",
    "for runs in range(20):\n",
    "    gas.append(GA_approach(data, PopulationIntended=100, GenerationIntended=500, mutationRateIntended=0.05, tournamentSelectionSizeIntended=85,selectionTypeParentIntended = 1, selectionTypePoolIntended = 2, elitismIntended=True, timed=True))\n",
    "\n",
    "for i in range(20) :\n",
    "    print(\"Initial distance: \" + str(gas[i][0])+ \" Obtained distance: \" + str(gas[i][1])+ \"  Time: \" + str(gas[i][3]))\n",
    "print(\"\")\n",
    "res = [np.mean([idx[1] for idx in gas]), np.std([idx[1] for idx in gas])]\n",
    "print(\"Obtained mean distance results: \" + str(res[0]))\n",
    "time_res = [np.mean([idx[3] for idx in gas]), np.std([idx[3] for idx in gas])]\n",
    "print(\"Obtained mean time results: \" + str(time_res[0]))\n"
   ]
  },
  {
   "cell_type": "markdown",
   "metadata": {},
   "source": [
    "## Ninth experiment.\n",
    "\n",
    "Let's try to optimize time needed for convergency to optimal solution. We'll keep Generation number, but we'll decrease Population and Tournament sizes, as follow: Population -> 10%, Generation -> 100%, Tournament ->7%"
   ]
  },
  {
   "cell_type": "code",
   "execution_count": 220,
   "metadata": {},
   "outputs": [
    {
     "name": "stdout",
     "output_type": "stream",
     "text": [
      "Initial distance: 239.91567288866753 Obtained distance: 185.15977336844801  Time: 2.4685819149017334\n",
      "Initial distance: 255.00939770578924 Obtained distance: 209.88992092563305  Time: 2.3501288890838623\n",
      "Initial distance: 227.7358787650593 Obtained distance: 185.159773368448  Time: 2.3471930027008057\n",
      "Initial distance: 255.1305605031658 Obtained distance: 182.0079488673668  Time: 2.3375980854034424\n",
      "Initial distance: 226.7485957452526 Obtained distance: 182.00794886736682  Time: 2.363618850708008\n",
      "Initial distance: 240.5976101193845 Obtained distance: 185.159773368448  Time: 2.3789520263671875\n",
      "Initial distance: 252.7127347467086 Obtained distance: 182.0079488673668  Time: 2.333536148071289\n",
      "Initial distance: 238.27669934540364 Obtained distance: 185.15977336844801  Time: 2.3479690551757812\n",
      "Initial distance: 238.10542142090677 Obtained distance: 182.00794886736682  Time: 2.3423397541046143\n",
      "Initial distance: 228.78873833893277 Obtained distance: 182.0079488673668  Time: 2.3371307849884033\n",
      "Initial distance: 245.51955823392524 Obtained distance: 185.159773368448  Time: 2.3973886966705322\n",
      "Initial distance: 243.8521800171642 Obtained distance: 182.00794886736682  Time: 2.4849729537963867\n",
      "Initial distance: 249.52399987101785 Obtained distance: 185.159773368448  Time: 2.3972668647766113\n",
      "Initial distance: 260.90357331897724 Obtained distance: 182.0079488673668  Time: 2.509443759918213\n",
      "Initial distance: 219.14590502131227 Obtained distance: 185.159773368448  Time: 2.5289011001586914\n",
      "Initial distance: 246.16703963663755 Obtained distance: 185.159773368448  Time: 2.389190912246704\n",
      "Initial distance: 262.7714971899103 Obtained distance: 182.00794886736682  Time: 2.4385221004486084\n",
      "Initial distance: 242.8181192056241 Obtained distance: 185.159773368448  Time: 2.5391948223114014\n",
      "Initial distance: 233.11786945282594 Obtained distance: 185.159773368448  Time: 2.5031232833862305\n",
      "Initial distance: 258.21649464998336 Obtained distance: 185.159773368448  Time: 2.4902448654174805\n",
      "\n",
      "Obtained mean distance results: 185.13555094587477\n",
      "Obtained mean time results: 2.4142648935317994\n"
     ]
    }
   ],
   "source": [
    "gas = []\n",
    "res = []\n",
    "time_res = []\n",
    "\n",
    "for runs in range(20):\n",
    "    gas.append(GA_approach(data, PopulationIntended=50, GenerationIntended=500, mutationRateIntended=0.05, tournamentSelectionSizeIntended=35,selectionTypeParentIntended = 1, selectionTypePoolIntended = 2, elitismIntended=True, timed=True))\n",
    "\n",
    "for i in range(20) :\n",
    "    print(\"Initial distance: \" + str(gas[i][0])+ \" Obtained distance: \" + str(gas[i][1])+ \"  Time: \" + str(gas[i][3]))\n",
    "print(\"\")\n",
    "res = [np.mean([idx[1] for idx in gas]), np.std([idx[1] for idx in gas])]\n",
    "print(\"Obtained mean distance results: \" + str(res[0]))\n",
    "time_res = [np.mean([idx[3] for idx in gas]), np.std([idx[3] for idx in gas])]\n",
    "print(\"Obtained mean time results: \" + str(time_res[0]))\n"
   ]
  },
  {
   "cell_type": "markdown",
   "metadata": {},
   "source": [
    "So, the most appropriate solution will be selection of Population, Generation and Tournament as -> 20%, 100%, 17% approximately"
   ]
  },
  {
   "cell_type": "code",
   "execution_count": null,
   "metadata": {},
   "outputs": [],
   "source": [
    "## The final step is to test algorithm with one of the TSPLIB datasets.\n",
    "berlin52 dataset was selected because it has relatively small number of dots, so it would converge faster."
   ]
  },
  {
   "cell_type": "code",
   "execution_count": 224,
   "metadata": {},
   "outputs": [
    {
     "name": "stdout",
     "output_type": "stream",
     "text": [
      "[[  inf  649. 1047. ...  596. 1422. 1716.]\n",
      " [ 649.   inf  604. ...  463.  995. 1484.]\n",
      " [1047.  604.   inf ...  478.  397.  909.]\n",
      " ...\n",
      " [ 596.  463.  478. ...   inf  830. 1151.]\n",
      " [1422.  995.  397. ...  830.   inf  625.]\n",
      " [1716. 1484.  909. ... 1151.  625.   inf]]\n"
     ]
    }
   ],
   "source": [
    "with open(\"../../data/berlin52_array.txt\", 'r') as myfile:\n",
    "    data_2=myfile.read().replace('\\n', '')\n",
    "data_2= eval(data_2)\n",
    "graph = gc.fully_connected_graph_from_coordinate_list(data_2)\n",
    "data_2= graph.weighted_adjacency_matrix\n",
    "print(data_2)\n"
   ]
  },
  {
   "cell_type": "code",
   "execution_count": 230,
   "metadata": {},
   "outputs": [
    {
     "name": "stdout",
     "output_type": "stream",
     "text": [
      "Initial distance: 24562.0 Final_distance: 11208.0 Time: 594.6323108673096\n"
     ]
    }
   ],
   "source": [
    "route = GA_approach(data_2, PopulationIntended=400, GenerationIntended=2000, mutationRateIntended=0.05, tournamentSelectionSizeIntended=340,selectionTypeParentIntended = 1, selectionTypePoolIntended = 2, elitismIntended=True, timed=False)\n",
    "\n",
    "print(\"Initial distance: \" + str(route[0]) \n",
    "          + \" Final_distance: \" + str(route[1]) \n",
    "          + \" Time: \" + str(route[3]))"
   ]
  },
  {
   "cell_type": "markdown",
   "metadata": {},
   "source": [
    "In 10 min the best solution found is 11208 km, comparing to optimum route for dataset - 7542. \n",
    "It means that more time (generations) is needed to achive convergency.\n"
   ]
  },
  {
   "cell_type": "code",
   "execution_count": 229,
   "metadata": {},
   "outputs": [
    {
     "name": "stdout",
     "output_type": "stream",
     "text": [
      "Initial distance: 23121.0 Final_distance: 9575.0 Time: 6888.462126016617\n"
     ]
    }
   ],
   "source": [
    "route = GA_approach(data_2, PopulationIntended=800, GenerationIntended=6000, mutationRateIntended=0.05, tournamentSelectionSizeIntended=700,selectionTypeParentIntended = 1, selectionTypePoolIntended = 2, elitismIntended=True, timed=False)\n",
    "\n",
    "print(\"Initial distance: \" + str(route[0]) \n",
    "          + \" Final_distance: \" + str(route[1]) \n",
    "          + \" Time: \" + str(route[3]))"
   ]
  },
  {
   "cell_type": "markdown",
   "metadata": {},
   "source": [
    "In 100 min the best solution found is 9575 km, comparing to optimum route for dataset - 7542. \n"
   ]
  }
 ],
 "metadata": {
  "kernelspec": {
   "display_name": "Python 3",
   "language": "python",
   "name": "python3"
  },
  "language_info": {
   "codemirror_mode": {
    "name": "ipython",
    "version": 3
   },
   "file_extension": ".py",
   "mimetype": "text/x-python",
   "name": "python",
   "nbconvert_exporter": "python",
   "pygments_lexer": "ipython3",
   "version": "3.6.5"
  }
 },
 "nbformat": 4,
 "nbformat_minor": 2
}
