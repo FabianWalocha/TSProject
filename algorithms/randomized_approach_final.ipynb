{
 "cells": [
  {
   "cell_type": "code",
   "execution_count": 119,
   "metadata": {
    "collapsed": true
   },
   "outputs": [],
   "source": [
    "import time\n",
    "import numpy as np\n",
    "#import pandas as pd\n",
    "#import seaborn as sns\n",
    "#import matplotlib.pyplot as plt\n",
    "#%matplotlib inline"
   ]
  },
  {
   "cell_type": "code",
   "execution_count": 120,
   "metadata": {
    "scrolled": true
   },
   "outputs": [
    {
     "name": "stdout",
     "output_type": "stream",
     "text": [
      "Write the name of data like this type( eil51_json_array.txt ):  eil51_json_array.txt\n"
     ]
    },
    {
     "data": {
      "text/plain": [
       "array([[37, 52],\n",
       "       [49, 49],\n",
       "       [52, 64],\n",
       "       [20, 26],\n",
       "       [40, 30],\n",
       "       [21, 47],\n",
       "       [17, 63],\n",
       "       [31, 62],\n",
       "       [52, 33],\n",
       "       [51, 21],\n",
       "       [42, 41],\n",
       "       [31, 32],\n",
       "       [ 5, 25],\n",
       "       [12, 42],\n",
       "       [36, 16],\n",
       "       [52, 41],\n",
       "       [27, 23],\n",
       "       [17, 33],\n",
       "       [13, 13],\n",
       "       [57, 58],\n",
       "       [62, 42],\n",
       "       [42, 57],\n",
       "       [16, 57],\n",
       "       [ 8, 52],\n",
       "       [ 7, 38],\n",
       "       [27, 68],\n",
       "       [30, 48],\n",
       "       [43, 67],\n",
       "       [58, 48],\n",
       "       [58, 27],\n",
       "       [37, 69],\n",
       "       [38, 46],\n",
       "       [46, 10],\n",
       "       [61, 33],\n",
       "       [62, 63],\n",
       "       [63, 69],\n",
       "       [32, 22],\n",
       "       [45, 35],\n",
       "       [59, 15],\n",
       "       [ 5,  6],\n",
       "       [10, 17],\n",
       "       [21, 10],\n",
       "       [ 5, 64],\n",
       "       [30, 15],\n",
       "       [39, 10],\n",
       "       [32, 39],\n",
       "       [25, 32],\n",
       "       [25, 55],\n",
       "       [48, 28],\n",
       "       [56, 37],\n",
       "       [30, 40]])"
      ]
     },
     "execution_count": 120,
     "metadata": {},
     "output_type": "execute_result"
    }
   ],
   "source": [
    "filename = input(\"Write the name of data like this type( eil51_json_array.txt ):  \")\n",
    "with open(filename, 'r') as myfile:\n",
    "    data=myfile.read().replace('\\n', '')\n",
    "data = eval(data)\n",
    "data = np.array(data)\n",
    "data"
   ]
  },
  {
   "cell_type": "code",
   "execution_count": 121,
   "metadata": {},
   "outputs": [
    {
     "name": "stdout",
     "output_type": "stream",
     "text": [
      "Please enter the number of iterations to execute random approach:  20000\n",
      "[0, 1, 2, 3, 4]\n",
      "1345\n"
     ]
    }
   ],
   "source": [
    "iteration = int(input(\"Please enter the number of iterations to execute random approach:  \"))\n",
    "path_distance = lambda r, c: np.sum([int(np.linalg.norm(c[r[p]] - c[r[p - 1]])+1) for p in range(len(r))])\n",
    "route = np.arange(data.shape[0])\n",
    "best_distance = path_distance(route, data)\n",
    "last_route = list(route)\n",
    "first_route = list(route)\n",
    "print(first_route[:5])\n",
    "print(best_distance)\n",
    "\n",
    "#Starting route from 0 to N\n",
    "# 20000  iteration number."
   ]
  },
  {
   "cell_type": "code",
   "execution_count": 124,
   "metadata": {
    "collapsed": true
   },
   "outputs": [],
   "source": [
    "start_time = time.time()\n",
    "for i in range(iteration):\n",
    "    np.random.shuffle(route)\n",
    "    test_route = route\n",
    "    new_distance = path_distance(test_route, data)\n",
    "    if new_distance < best_distance:\n",
    "        last_route = list(test_route)\n",
    "        best_distance = new_distance\n",
    "finish_time = time.time()\n",
    "duration = finish_time-start_time\n",
    "last_route.append(last_route[0])"
   ]
  },
  {
   "cell_type": "code",
   "execution_count": 125,
   "metadata": {},
   "outputs": [
    {
     "name": "stdout",
     "output_type": "stream",
     "text": [
      "The route is : [11, 1, 19, 5, 13, 24, 41, 0, 46, 17, 18, 2, 28, 7, 47, 23, 42, 6, 39, 14, 44, 38, 45, 50, 8, 36, 16, 21, 10, 49, 31, 40, 25, 20, 9, 29, 32, 3, 48, 33, 30, 15, 4, 43, 12, 34, 35, 27, 26, 22, 37, 11]\n",
      "Number of iteration is:  20000\n",
      "Total execution time is:  9.706916093826294  seconds\n",
      "Total distance is: 1294\n"
     ]
    }
   ],
   "source": [
    "print(\"The route is :\", last_route)\n",
    "print(\"Number of iteration is: \",iteration)\n",
    "print(\"Total execution time is: \",duration,\" seconds\")\n",
    "print(\"Total distance is:\", best_distance)\n"
   ]
  },
  {
   "cell_type": "code",
   "execution_count": null,
   "metadata": {
    "collapsed": true
   },
   "outputs": [],
   "source": []
  }
 ],
 "metadata": {
  "kernelspec": {
   "display_name": "Python 3",
   "language": "python",
   "name": "python3"
  },
  "language_info": {
   "codemirror_mode": {
    "name": "ipython",
    "version": 3
   },
   "file_extension": ".py",
   "mimetype": "text/x-python",
   "name": "python",
   "nbconvert_exporter": "python",
   "pygments_lexer": "ipython3",
   "version": "3.6.2"
  }
 },
 "nbformat": 4,
 "nbformat_minor": 2
}
