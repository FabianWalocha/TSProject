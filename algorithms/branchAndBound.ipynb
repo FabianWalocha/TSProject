{
 "cells": [
  {
   "cell_type": "markdown",
   "metadata": {},
   "source": [
    "## 1. Library Import"
   ]
  },
  {
   "cell_type": "code",
   "execution_count": 1,
   "metadata": {
    "collapsed": true
   },
   "outputs": [],
   "source": [
    "import numpy as np\n",
    "import time\n",
    "import itertools\n",
    "\n",
    "__author__ = \"Marco Odehnal\"\n",
    "__copyright__ = \"Copyright 2018\"\n",
    "__status__ = \"Prototype\""
   ]
  },
  {
   "cell_type": "markdown",
   "metadata": {},
   "source": [
    "## 2. Problem formulation"
   ]
  },
  {
   "cell_type": "code",
   "execution_count": 183,
   "metadata": {
    "collapsed": false
   },
   "outputs": [],
   "source": [
    "# The cities for the problem, taken from att48\n",
    "cities = np.matrix([[1, 6734, 1453],\n",
    "                    [2, 2233, 10],\n",
    "                    [3, 5530, 1424],\n",
    "                    [4, 401, 841],\n",
    "                    [5, 3082, 1644],\n",
    "                    [6, 7608, 4458],\n",
    "                    [7, 7573, 3716],\n",
    "                   [8, 123, 8526],\n",
    "                   [9, 4356, 376],\n",
    "                   [10, 7456, 236],\n",
    "                    [11, 67534, 14553],\n",
    "                    [2, 22353, 150],\n",
    "                    [3, 55530, 14524],\n",
    "                    [4, 45501, 841],\n",
    "                    [5, 350852, 16544],\n",
    "                    [6, 76508, 4458],\n",
    "                    [7, 75573, 35716],\n",
    "                   [8, 1253, 85526],\n",
    "                   [9, 43556, 5376],\n",
    "                   [10, 57456, 2536]                   ])\n",
    "\n",
    "# The number of verteces \n",
    "n = np.size(cities,0)\n",
    "\n",
    "# Adjacency matrix\n",
    "# NOT OPTIMAL GENERATION, JUST FOR TESTING\n",
    "M = np.matrix([[np.linalg.norm(cities[i,1:3]-cities[j,1:3]) for j in range(n)] for i in range(n)])"
   ]
  },
  {
   "cell_type": "markdown",
   "metadata": {},
   "source": [
    "## 3. Classic approach"
   ]
  },
  {
   "cell_type": "code",
   "execution_count": 138,
   "metadata": {
    "collapsed": false
   },
   "outputs": [
    {
     "name": "stdout",
     "output_type": "stream",
     "text": [
      "Time: 0.0010008811950683594\n",
      "Minimum_cost: 10.0\n",
      "Best path: [1, 2, 4, 3, 1]\n"
     ]
    }
   ],
   "source": [
    "M = np.matrix([[np.inf,2,3,5],\n",
    "             [2,np.inf,6,1],\n",
    "             [3,6,np.inf,4],\n",
    "             [5,1,4,np.inf]])\n",
    "\n",
    "rem_nodes = list(range(2,4+1))\n",
    "cost = 0\n",
    "optimal_cost = np.inf\n",
    "v = [1]\n",
    "\n",
    "# Note: the third variable optimal cost is used to determine if we have reached the end of a branch\n",
    "\n",
    "def BnBClassic(A,v,rem_nodes, cost, optimal_cost):\n",
    "    \n",
    "    # End of the path\n",
    "    if len(rem_nodes)==1:\n",
    "        cost += A[v[-1]-1, rem_nodes[0]-1] + A[rem_nodes[0]-1,0]\n",
    "        v += rem_nodes + [1]\n",
    "        return cost, v, cost\n",
    "    \n",
    "    else:\n",
    "        \n",
    "        k = len(v)\n",
    "        n = np.size(A,0)\n",
    "\n",
    "        cost_branches = []\n",
    "        path_branches = []\n",
    "        f = []\n",
    "\n",
    "        # Calculating the costs, the f and the paths\n",
    "        for i in rem_nodes:\n",
    "            cost_branches.append(cost + A[v[-1]-1,i-1])\n",
    "            path_branches.append(v+[i])\n",
    "            f.append(cost_branches[-1] + (n-k)*\n",
    "                     np.min(A[path_branches[-1][-1]-1,[x-1 for x in rem_nodes if x!= k]]))\n",
    "\n",
    "        # Sorting the arrays\n",
    "        order = np.argsort(f)\n",
    "        cost_branches = [cost_branches[i] for i in order]\n",
    "        path_branches = [path_branches[i] for i in order]\n",
    "        f = [f[i] for i in order]      \n",
    "\n",
    "\n",
    "        # We explore recursively the branches and check if an optimal solution can be found\n",
    "        for i in range(len(f)):\n",
    "            # We discard all of the branches that cannot decrease the cost function\n",
    "            # As all of the branches are sorted by cost, the following branches after\n",
    "            # a discarded one will also be discarded\n",
    "            if f[i] >= optimal_cost:\n",
    "                break\n",
    "            else:\n",
    "                rem_nodes_sub = [x for x in rem_nodes if x not in path_branches[i]]\n",
    "                cost, v, optimal_cost = BnBClassic(A,path_branches[i],rem_nodes_sub, cost_branches[i], optimal_cost)\n",
    "            \n",
    "            return cost, v, optimal_cost\n",
    "\n",
    "t1 = time.time()     \n",
    "    \n",
    "cost, path, opt = BnBClassic(M,v,rem_nodes,cost,optimal_cost)\n",
    "\n",
    "t2= time.time()\n",
    "\n",
    "print('Time:', t2-t1)    \n",
    "print('Minimum_cost:',cost)\n",
    "print('Best path:',path)    "
   ]
  },
  {
   "cell_type": "markdown",
   "metadata": {
    "collapsed": false
   },
   "source": [
    "## 4. Adding and removing edges (binary tree)\n",
    "\n",
    "The following cell contains helper functions used in the main algorithm, the main function is defined after the following cell."
   ]
  },
  {
   "cell_type": "code",
   "execution_count": 2,
   "metadata": {
    "collapsed": true
   },
   "outputs": [],
   "source": [
    "# Helper functions used in the following algorithm\n",
    "\n",
    "# This function calculates the normaliced matrix with at least one zero in each row and column.\n",
    "# It also computes the cost of reduction.\n",
    "def mat_redux(M, cost):\n",
    "    \n",
    "    # Used to reshape the minimum value arrays into matrices\n",
    "    n = np.size(M,1)    \n",
    "    \n",
    "    # Reduction by rows\n",
    "    m1 = M.min(axis=1)\n",
    "    # to avoid inf-inf math error\n",
    "    m1[m1 == np.inf] = 0\n",
    "    Mrow = M - m1.reshape(n,1)\n",
    "    \n",
    "    # Reduction by columns\n",
    "    m2 = Mrow.min(axis=0)\n",
    "    m2[m2 == np.inf] = 0\n",
    "    Mcol = Mrow - np.matrix(m2).reshape(1,n)\n",
    "    \n",
    "    # Lower bound calculation\n",
    "    f = m1.sum() + m2.sum()\n",
    "    \n",
    "    return cost + f, Mcol\n",
    "\n",
    "# This function selects the zero corresponding to the edge with the greatest weight\n",
    "def select_edges(A, n):\n",
    "\n",
    "    # We wish to know where are the pivots\n",
    "    zeros_irow, zeros_icol = np.where(A==0)\n",
    "\n",
    "    # Variables initialization\n",
    "    max_edge_cost = 0\n",
    "    opt_edge = (np.inf,np.inf)\n",
    "\n",
    "    #  We traverse every zero such that it has the highest cost\n",
    "    for k in range(len(zeros_irow)):\n",
    "        \n",
    "        i = zeros_irow[k]\n",
    "        j = zeros_icol[k]\n",
    "        x = [x for x in range(0,n) if x != i]\n",
    "        y = [x for x in range(0,n) if x != j]\n",
    "\n",
    "        edge_cost = np.min(A[i,y]) + np.min(A[x,j])   \n",
    "        \n",
    "        if edge_cost > max_edge_cost:\n",
    "            \n",
    "            max_edge_cost = edge_cost\n",
    "            opt_edge = (i,j)\n",
    "\n",
    "    return opt_edge\n",
    "\n",
    "# This function created the children Left and Right subtree (with and without the edge)\n",
    "def children_subtrees(M, edge, f):\n",
    "    \n",
    "    # Left and Right matrices\n",
    "    L = np.copy(M)\n",
    "    R = np.copy(M)\n",
    "\n",
    "    # For the left child we add infinity to the column and row corresponding to the chosen edge\n",
    "    L[edge[0],:] = np.inf\n",
    "    L[:,edge[1]] = np.inf\n",
    "    L[edge[1],edge[0]] = np.inf\n",
    "    # After this the matrix should be reduced\n",
    "    f_L, L = mat_redux(L,f)\n",
    "\n",
    "    # For the right child we just add infinity to the location of the node, so that it's excluded\n",
    "    R[edge[0], edge[1]] = np.inf\n",
    "    f_R, R = mat_redux(R,f)\n",
    "\n",
    "    return f_L, L, f_R, R\n",
    "\n",
    "# Function used to reconstruct the path from the given edges \n",
    "# (the edge list is assumed to be same size of the number of cities)\n",
    "def create_path_from_edges(E):\n",
    "    \n",
    "    # Default first city\n",
    "    path = [1]\n",
    "    \n",
    "    while len(E) != 0:\n",
    "        \n",
    "        for i in range(0,len(E)):\n",
    "            if E[i][0] == path[-1]-1:\n",
    "                path.append(E[i][1]+1)\n",
    "                E = E[0:i] + E[i+1:]\n",
    "                break\n",
    "                \n",
    "    return path"
   ]
  },
  {
   "cell_type": "code",
   "execution_count": 21,
   "metadata": {
    "collapsed": false
   },
   "outputs": [],
   "source": [
    "M = np.matrix([[np.inf, 3, 93, 13, 33, 9, 57],\n",
    "               [4, np.inf, 77, 42, 21, 16, 34],\n",
    "               [45, 17, np.inf, 36, 16, 28, 25],\n",
    "               [39, 90, 80, np.inf, 56, 7, 91],\n",
    "               [28, 46, 88, 33, np.inf, 25, 57],\n",
    "               [3, 88, 18, 46, 92, np.inf, 7],\n",
    "               [44, 26, 33, 27, 84, 39, np.inf]])\n",
    "\n",
    "# M = np.matrix([[np.inf,2,3,5],\n",
    "#              [2,np.inf,6,1],\n",
    "#              [3,6,np.inf,4],\n",
    "#              [5,1,4,np.inf]])\n",
    "\n",
    "# The algorithm\n",
    "def BnBBinaryTree(M):\n",
    "    # Matrix reduction step\n",
    "    f,MR = mat_redux(M,0)\n",
    "    \n",
    "    n = np.size(M,1)\n",
    "\n",
    "    cost, edges_col, opt_edge_col = BnBBinaryTreeRecursive(MR,[],f,np.inf, [], n)\n",
    "    \n",
    "    \n",
    "    return cost, create_path_from_edges(opt_edge_col)\n",
    "\n",
    "# This is the recursive algorithm that is called after pre-processing the matrix    \n",
    "def BnBBinaryTreeRecursive(M, edges_collection, cost, opt_cost, opt_edge_col, n):\n",
    "    \n",
    "    print\n",
    "    \n",
    "    # If the optimum cost is less than the actual cost we are not supposed to do anything\n",
    "    if opt_cost <= cost:\n",
    "        return opt_cost, edges_collection, opt_edge_col\n",
    "    \n",
    "    # We know that we cannot find a solution if there are less nodes than cities to visit\n",
    "    if n-len(edges_collection) > np.sum(M.min(axis=1) == 0):\n",
    "        return np.inf, edges_collection, opt_edge_col\n",
    "    \n",
    "    # If the search is complete, a solution has been found\n",
    "    elif n-len(edges_collection) == np.sum(M.min(axis=1) == 0) == 0:\n",
    "        if cost < opt_cost:\n",
    "            return cost, edges_collection, edges_collection\n",
    "        else:\n",
    "            return opt_cost, edges_collection, opt_edge_col\n",
    "    \n",
    "    # Edge selection\n",
    "    edge = select_edges(M, n)\n",
    "\n",
    "    # Children trees creation\n",
    "    f_L, L, f_R, R = children_subtrees(M, edge, cost)\n",
    "    \n",
    "    # We search the trees\n",
    "    opt_cost, edges_col, opt_edge_col = BnBBinaryTreeRecursive(L, edges_collection + [edge], f_L, opt_cost, opt_edge_col, n)\n",
    "    if opt_cost > f_R:\n",
    "        opt_cost, edges_col, opt_edge_col = BnBBinaryTreeRecursive(R, edges_collection, f_R, opt_cost, opt_edge_col, n)\n",
    "    \n",
    "    return opt_cost, edges_col, opt_edge_col\n",
    "    "
   ]
  },
  {
   "cell_type": "code",
   "execution_count": 20,
   "metadata": {
    "collapsed": false
   },
   "outputs": [
    {
     "name": "stdout",
     "output_type": "stream",
     "text": [
      "Time: 0.00600433349609375\n",
      "Minimum_cost: 126.0\n",
      "Best path: [1, 4, 6, 7, 3, 5, 2, 1]\n"
     ]
    }
   ],
   "source": [
    "t1 = time.time()\n",
    "\n",
    "cost, path = BnBBinaryTree(M)\n",
    "    \n",
    "t2= time.time()\n",
    "print('Time:', t2-t1)    \n",
    "print('Minimum_cost:',cost)\n",
    "print('Best path:',path)"
   ]
  },
  {
   "cell_type": "code",
   "execution_count": null,
   "metadata": {
    "collapsed": true
   },
   "outputs": [],
   "source": []
  }
 ],
 "metadata": {
  "anaconda-cloud": {},
  "kernelspec": {
   "display_name": "Python [Anaconda3]",
   "language": "python",
   "name": "Python [Anaconda3]"
  },
  "language_info": {
   "codemirror_mode": {
    "name": "ipython",
    "version": 3
   },
   "file_extension": ".py",
   "mimetype": "text/x-python",
   "name": "python",
   "nbconvert_exporter": "python",
   "pygments_lexer": "ipython3",
   "version": "3.5.2"
  }
 },
 "nbformat": 4,
 "nbformat_minor": 0
}
