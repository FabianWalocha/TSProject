{
 "cells": [
  {
   "cell_type": "code",
   "execution_count": 1,
   "metadata": {
    "scrolled": true
   },
   "outputs": [],
   "source": [
    "import numpy as np\n",
    "import math as mt\n",
    "import random as rd\n",
    "import permute as pm"
   ]
  },
  {
   "cell_type": "code",
   "execution_count": 2,
   "metadata": {
    "scrolled": true
   },
   "outputs": [
    {
     "data": {
      "text/plain": [
       "[0, 1, 0, 1, 0, 1]"
      ]
     },
     "execution_count": 2,
     "metadata": {},
     "output_type": "execute_result"
    }
   ],
   "source": [
    "# Demonstration\n",
    "pm.permute(3)[1]\n",
    "#[pm.calculateFactoradic(idx,4) for idx in range(10)]"
   ]
  },
  {
   "cell_type": "code",
   "execution_count": 3,
   "metadata": {},
   "outputs": [
    {
     "name": "stdout",
     "output_type": "stream",
     "text": [
      "index        -5\n",
      "index        -2\n",
      "index        1\n",
      "index        4\n",
      "index        12\n",
      "index        14\n"
     ]
    }
   ],
   "source": [
    "# TODO: Find out pattern behind redundant paths\n",
    "#     UPDATE: On Hold, since getting permutations does not affect time of the algorithm\n",
    "\n",
    "perm = pm.permute(4)[0]\n",
    "for idx, p in enumerate(perm):\n",
    "    # Its a redundant path iff the last index is smaller than the first\n",
    "    if  p[-1]==2:\n",
    "        print(\"index       \", idx-mt.factorial(3))\n",
    "        #print(\"permutation \", p)\n",
    "        #print(\"factoradic  \", calculateFactoradic(idx,4))"
   ]
  },
  {
   "cell_type": "code",
   "execution_count": 13,
   "metadata": {},
   "outputs": [],
   "source": [
    "import bruteForce as bf\n",
    "\n",
    "# Generate adjacency matrix for testing purposes\n",
    "def genAdjMat(nNodes, symmetric = False): \n",
    "    if not symmetric:\n",
    "        adj_mat = np.array([[float(rd.randint(1,100)) for x in range(nNodes)] for x in range(nNodes)])\n",
    "        for idx in range(len(adj_mat)):\n",
    "            adj_mat[idx,idx] = np.inf\n",
    "    else:\n",
    "        adj_mat = np.zeros([nNodes,nNodes])\n",
    "        for idx1 in range(nNodes):\n",
    "            for idx2 in range(idx1+1,nNodes):\n",
    "                val = float(rd.randint(1,100))\n",
    "                adj_mat[idx1,idx2] = val\n",
    "                adj_mat[idx2,idx1] = val\n",
    "            adj_mat[idx1,idx1] = np.inf        \n",
    "    return adj_mat"
   ]
  },
  {
   "cell_type": "code",
   "execution_count": 14,
   "metadata": {},
   "outputs": [
    {
     "name": "stdout",
     "output_type": "stream",
     "text": [
      "Adjacency matrix:\n",
      "[[inf 65. 36. 17. 17.]\n",
      " [27. inf 58. 53. 74.]\n",
      " [ 5. 96. inf 55. 63.]\n",
      " [83. 82. 34. inf 50.]\n",
      " [52. 26. 16. 74. inf]]\n",
      "\n",
      "Lowest Cost:  [140.]\n",
      "With path:    [0 4 1 3 2 0]\n"
     ]
    }
   ],
   "source": [
    "mat = genAdjMat(5)\n",
    "\n",
    "print(\"Adjacency matrix:\")\n",
    "print(mat)  \n",
    "print()\n",
    "\n",
    "res = bf.bruteForce(mat)\n",
    "print(\"Lowest Cost: \",res[0])\n",
    "print(\"With path:   \",res[1])"
   ]
  },
  {
   "cell_type": "code",
   "execution_count": 18,
   "metadata": {},
   "outputs": [
    {
     "name": "stdout",
     "output_type": "stream",
     "text": [
      "Adjacency matrix:\n",
      "[[ inf  29.  37.   2.   7.  22.  64.]\n",
      " [ 29.  inf  51.  18.  83.  52.  72.]\n",
      " [ 37.  51.  inf  61.  53. 100.  22.]\n",
      " [  2.  18.  61.  inf 100.  83.  57.]\n",
      " [  7.  83.  53. 100.  inf  56.  28.]\n",
      " [ 22.  52. 100.  83.  56.  inf  31.]\n",
      " [ 64.  72.  22.  57.  28.  31.  inf]]\n",
      "\n",
      "Lowest Cost:  [205.]\n",
      "With path:    [0 3 5 1 6 2 4 0]\n"
     ]
    }
   ],
   "source": [
    "mat = genAdjMat(7,symmetric=True)\n",
    "\n",
    "print(\"Adjacency matrix:\")\n",
    "print(mat)  \n",
    "print()\n",
    "\n",
    "res = bf.bruteForce(mat,symmetric=True)\n",
    "print(\"Lowest Cost: \",res[0])\n",
    "print(\"With path:   \",res[1])"
   ]
  },
  {
   "cell_type": "code",
   "execution_count": 17,
   "metadata": {},
   "outputs": [
    {
     "name": "stdout",
     "output_type": "stream",
     "text": [
      "Adjacency matrix:\n",
      "[[inf 22. 98. 14. 50.  1. 54. 98.]\n",
      " [22. inf 49. 11. 53. 65. 51. 70.]\n",
      " [98. 49. inf 51. 83. 55. 94. 20.]\n",
      " [14. 11. 51. inf  8. 64. 34. 23.]\n",
      " [50. 53. 83.  8. inf 30. 84.  6.]\n",
      " [ 1. 65. 55. 64. 30. inf 45. 98.]\n",
      " [54. 51. 94. 34. 84. 45. inf 42.]\n",
      " [98. 70. 20. 23.  6. 98. 42. inf]]\n",
      "\n",
      "Time without symmetry : 0.036301295757293704\n",
      "Time with symmetry:  0.019155707359313965\n"
     ]
    }
   ],
   "source": [
    "mat = genAdjMat(8,symmetric=True)\n",
    "\n",
    "print(\"Adjacency matrix:\")\n",
    "print(mat)  \n",
    "print()\n",
    "\n",
    "print(\"Time without symmetry :\",np.mean([bf.bruteForce(mat,symmetric=False, timed = True)[2] for x in range(100)]))\n",
    "print(\"Time with symmetry: \",np.mean([bf.bruteForce(mat,symmetric=True,  timed = True)[2] for x in range(100)]))"
   ]
  }
 ],
 "metadata": {
  "kernelspec": {
   "display_name": "Python 3",
   "language": "python",
   "name": "python3"
  },
  "language_info": {
   "codemirror_mode": {
    "name": "ipython",
    "version": 3
   },
   "file_extension": ".py",
   "mimetype": "text/x-python",
   "name": "python",
   "nbconvert_exporter": "python",
   "pygments_lexer": "ipython3",
   "version": "3.6.5"
  }
 },
 "nbformat": 4,
 "nbformat_minor": 2
}
