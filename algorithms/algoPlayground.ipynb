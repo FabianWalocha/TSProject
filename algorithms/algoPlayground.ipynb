{
 "cells": [
  {
   "cell_type": "code",
   "execution_count": 1,
   "metadata": {
    "scrolled": true
   },
   "outputs": [],
   "source": [
    "import numpy as np\n",
    "import math as mt\n",
    "import random as rd\n",
    "import permute as pm"
   ]
  },
  {
   "cell_type": "code",
   "execution_count": 2,
   "metadata": {
    "scrolled": true
   },
   "outputs": [
    {
     "data": {
      "text/plain": [
       "[0, 1, 0, 1, 0, 1]"
      ]
     },
     "execution_count": 2,
     "metadata": {},
     "output_type": "execute_result"
    }
   ],
   "source": [
    "# Demonstration\n",
    "pm.permute(3)[1]\n",
    "#[pm.calculateFactoradic(idx,4) for idx in range(10)]"
   ]
  },
  {
   "cell_type": "code",
   "execution_count": 3,
   "metadata": {},
   "outputs": [
    {
     "name": "stdout",
     "output_type": "stream",
     "text": [
      "index        9\n",
      "index        11\n",
      "index        15\n",
      "index        17\n",
      "index        21\n",
      "index        23\n"
     ]
    }
   ],
   "source": [
    "# TODO: Find out pattern behind redundant paths\n",
    "\n",
    "perm = pm.permute(4)[0]\n",
    "for idx, p in enumerate(perm):\n",
    "    # Its a redundant path iff the last index is smaller than the first\n",
    "    if  p[-1]==0:\n",
    "        print(\"index       \", idx)\n",
    "        #print(\"permutation \", p)\n",
    "        #print(\"factoradic  \", calculateFactoradic(idx,4))"
   ]
  },
  {
   "cell_type": "code",
   "execution_count": 4,
   "metadata": {},
   "outputs": [
    {
     "name": "stdout",
     "output_type": "stream",
     "text": [
      "Adjacency matrix:\n",
      "[[inf 66. 53. 39.  2.]\n",
      " [96. inf 43.  9. 17.]\n",
      " [86. 24. inf 98. 41.]\n",
      " [58. 87. 61. inf 65.]\n",
      " [49. 41. 88. 12. inf]]\n",
      "Lowest Cost:  [134.]\n",
      "With path:    [0 4 2 1 3 0]\n"
     ]
    }
   ],
   "source": [
    "import bruteForce as bf\n",
    "\n",
    "def genAdjMat(nNodes): \n",
    "\n",
    "    adj_mat = np.array([[float(rd.randint(1,100)) for x in range(nNodes)] for x in range(nNodes)])\n",
    "    for idx in range(len(adj_mat)):\n",
    "        adj_mat[idx,idx] = np.inf\n",
    "        \n",
    "    print(\"Adjacency matrix:\")\n",
    "    print(adj_mat)  \n",
    "    \n",
    "    return adj_mat\n",
    "\n",
    "\n",
    "\n",
    "res = bf.bruteForce(genAdjMat(5))\n",
    "print(\"Lowest Cost: \",res[0])\n",
    "print(\"With path:   \",res[1])"
   ]
  },
  {
   "cell_type": "code",
   "execution_count": 5,
   "metadata": {},
   "outputs": [
    {
     "data": {
      "text/plain": [
       "(array([174.]), array([0, 4, 2, 6, 1, 3, 5, 0]))"
      ]
     },
     "execution_count": 5,
     "metadata": {},
     "output_type": "execute_result"
    }
   ],
   "source": [
    "bf.bruteForce(np.array([[np.inf,3,93,13,33,9,57],\n",
    "                    [4,np.inf,77,42,21,16,34],\n",
    "                    [45,17,np.inf,36,16,28,25],\n",
    "                    [39,90,80,np.inf,56,7,91],\n",
    "                    [28,46,88,33,np.inf,25,57],\n",
    "                    [3,88,18,46,92,np.inf,7],\n",
    "                    [44,26,33,27,84,39,np.inf]]))"
   ]
  },
  {
   "cell_type": "code",
   "execution_count": null,
   "metadata": {},
   "outputs": [],
   "source": []
  }
 ],
 "metadata": {
  "kernelspec": {
   "display_name": "Python 3",
   "language": "python",
   "name": "python3"
  },
  "language_info": {
   "codemirror_mode": {
    "name": "ipython",
    "version": 3
   },
   "file_extension": ".py",
   "mimetype": "text/x-python",
   "name": "python",
   "nbconvert_exporter": "python",
   "pygments_lexer": "ipython3",
   "version": "3.6.5"
  }
 },
 "nbformat": 4,
 "nbformat_minor": 2
}
