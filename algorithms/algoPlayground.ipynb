{
 "cells": [
  {
   "cell_type": "code",
   "execution_count": 3,
   "metadata": {
    "scrolled": true
   },
   "outputs": [],
   "source": [
    "import numpy as np\n",
    "import math as mt\n",
    "import random as rd\n",
    "import permute as pm"
   ]
  },
  {
   "cell_type": "code",
   "execution_count": 4,
   "metadata": {
    "scrolled": true
   },
   "outputs": [
    {
     "data": {
      "text/plain": [
       "[0, 1, 0, 1, 0, 1]"
      ]
     },
     "execution_count": 4,
     "metadata": {},
     "output_type": "execute_result"
    }
   ],
   "source": [
    "# Demonstration\n",
    "pm.permute(3)[1]\n",
    "#[pm.calculateFactoradic(idx,4) for idx in range(10)]"
   ]
  },
  {
   "cell_type": "code",
   "execution_count": 5,
   "metadata": {},
   "outputs": [
    {
     "name": "stdout",
     "output_type": "stream",
     "text": [
      "index        -5\n",
      "index        -2\n",
      "index        1\n",
      "index        4\n",
      "index        12\n",
      "index        14\n"
     ]
    }
   ],
   "source": [
    "# TODO: Find out pattern behind redundant paths\n",
    "#     UPDATE: On Hold, since getting permutations does not affect time of the algorithm\n",
    "\n",
    "perm = pm.permute(4)[0]\n",
    "for idx, p in enumerate(perm):\n",
    "    # Its a redundant path iff the last index is smaller than the first\n",
    "    if  p[-1]==2:\n",
    "        print(\"index       \", idx-mt.factorial(3))\n",
    "        #print(\"permutation \", p)\n",
    "        #print(\"factoradic  \", calculateFactoradic(idx,4))"
   ]
  },
  {
   "cell_type": "code",
   "execution_count": 16,
   "metadata": {},
   "outputs": [],
   "source": [
    "import bruteForce as bf\n",
    "\n",
    "# Generate adjacency matrix for testing purposes\n",
    "def genAdjMat(nNodes, symmetric = False): \n",
    "    print(nNodes)\n",
    "    if not symmetric:\n",
    "        adj_mat = np.array([[float(rd.randint(1,100)) for x in range(nNodes)] for x in range(nNodes)])\n",
    "        for idx in range(len(adj_mat)):\n",
    "            adj_mat[idx,idx] = np.inf\n",
    "    else:\n",
    "        adj_mat = np.zeros([nNodes,nNodes])\n",
    "        for idx1 in range(nNodes):\n",
    "            for idx2 in range(idx1+1,nNodes):\n",
    "                val = float(rd.randint(1,100))\n",
    "                adj_mat[idx1,idx2] = val\n",
    "                adj_mat[idx2,idx1] = val\n",
    "            adj_mat[idx1,idx1] = np.inf        \n",
    "    return adj_mat"
   ]
  },
  {
   "cell_type": "code",
   "execution_count": 7,
   "metadata": {},
   "outputs": [
    {
     "name": "stdout",
     "output_type": "stream",
     "text": [
      "Adjacency matrix:\n",
      "[[inf 34. 12. 70. 78.]\n",
      " [28. inf 70. 99. 15.]\n",
      " [99.  5. inf 69.  2.]\n",
      " [86. 34. 88. inf 98.]\n",
      " [19. 25. 20. 11. inf]]\n",
      "\n",
      "Lowest Cost:  [85.]\n",
      "With path:    [0 2 3 1 4 0]\n"
     ]
    }
   ],
   "source": [
    "mat = genAdjMat(5)\n",
    "\n",
    "print(\"Adjacency matrix:\")\n",
    "print(mat)  \n",
    "print()\n",
    "\n",
    "res = bf.bruteForce(mat)\n",
    "print(\"Lowest Cost: \",res[0])\n",
    "print(\"With path:   \",res[1])"
   ]
  },
  {
   "cell_type": "code",
   "execution_count": 8,
   "metadata": {},
   "outputs": [
    {
     "name": "stdout",
     "output_type": "stream",
     "text": [
      "Adjacency matrix:\n",
      "[[inf 34. 53. 22. 76. 45. 46.]\n",
      " [34. inf 91. 96.  6.  2. 80.]\n",
      " [53. 91. inf  4.  3. 48. 24.]\n",
      " [22. 96.  4. inf 13. 26. 69.]\n",
      " [76.  6.  3. 13. inf 44. 70.]\n",
      " [45.  2. 48. 26. 44. inf 84.]\n",
      " [46. 80. 24. 69. 70. 84. inf]]\n",
      "\n",
      "Lowest Cost:  [204.]\n",
      "With path:    [0 1 4 6 2 5 3 0]\n"
     ]
    }
   ],
   "source": [
    "mat = genAdjMat(7,symmetric=True)\n",
    "\n",
    "print(\"Adjacency matrix:\")\n",
    "print(mat)  \n",
    "print()\n",
    "\n",
    "res = bf.bruteForce(mat,symmetric=True)\n",
    "print(\"Lowest Cost: \",res[0])\n",
    "print(\"With path:   \",res[1])"
   ]
  },
  {
   "cell_type": "code",
   "execution_count": 19,
   "metadata": {},
   "outputs": [
    {
     "name": "stdout",
     "output_type": "stream",
     "text": [
      "3\n",
      "4\n",
      "5\n",
      "6\n",
      "7\n",
      "8\n",
      "9\n",
      "10\n",
      "11\n",
      "12\n"
     ]
    }
   ],
   "source": [
    "# mat = genAdjMat(8,symmetric=True)\n",
    "\n",
    "# print(\"Adjacency matrix:\")\n",
    "# print(mat)  \n",
    "# print()\n",
    "\n",
    "res = [[[np.median([bf.bruteForce(mat,symmetric=False, timed = True)[2] for q in np.arange(10-(idx-3))]), \n",
    "         np.median([bf.bruteForce(mat,symmetric=True,  timed = True)[2] for q in np.arange(10-(idx-3))])] \n",
    "        for mat in [genAdjMat(idx,symmetric=True)]][0] \n",
    "       for idx in (np.arange(10)+3)] \n"
   ]
  },
  {
   "cell_type": "code",
   "execution_count": 20,
   "metadata": {},
   "outputs": [
    {
     "data": {
      "text/plain": [
       "[[0.0, 0.0],\n",
       " [0.0, 0.0],\n",
       " [0.0, 0.0],\n",
       " [0.0009989738464355469, 0.0],\n",
       " [0.005988121032714844, 0.0],\n",
       " [0.031247854232788086, 0.015643596649169922],\n",
       " [0.306254506111145, 0.16406846046447754],\n",
       " [2.702930450439453, 1.468642234802246],\n",
       " [39.15956473350525, 20.522709846496582],\n",
       " [477.2006094455719, 203.60099124908447]]"
      ]
     },
     "execution_count": 20,
     "metadata": {},
     "output_type": "execute_result"
    }
   ],
   "source": [
    "res"
   ]
  },
  {
   "cell_type": "code",
   "execution_count": 33,
   "metadata": {},
   "outputs": [
    {
     "data": {
      "text/plain": [
       "Text(0,0.5,'Time (in seconds)')"
      ]
     },
     "execution_count": 33,
     "metadata": {},
     "output_type": "execute_result"
    },
    {
     "data": {
      "image/png": "[encoded data removed]",
      "text/plain": [
       "<Figure size 432x288 with 1 Axes>"
      ]
     },
     "metadata": {},
     "output_type": "display_data"
    }
   ],
   "source": [
    "from matplotlib import pyplot as plt\n",
    "plt.title(\"Time of randomly generated, symmetric graphs\")\n",
    "plt.plot(np.arange(len(res))+3,np.array(res),'--x')\n",
    "plt.legend(['Without symmetry exploit','With symmetry exploit'])\n",
    "plt.xlabel(\"Number of nodes\")\n",
    "plt.ylabel(\"Time (in seconds)\")"
   ]
  },
  {
   "cell_type": "code",
   "execution_count": null,
   "metadata": {},
   "outputs": [],
   "source": []
  }
 ],
 "metadata": {
  "kernelspec": {
   "display_name": "Python 3",
   "language": "python",
   "name": "python3"
  },
  "language_info": {
   "codemirror_mode": {
    "name": "ipython",
    "version": 3
   },
   "file_extension": ".py",
   "mimetype": "text/x-python",
   "name": "python",
   "nbconvert_exporter": "python",
   "pygments_lexer": "ipython3",
   "version": "3.6.5"
  }
 },
 "nbformat": 4,
 "nbformat_minor": 2
}
