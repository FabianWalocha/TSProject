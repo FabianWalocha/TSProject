{
 "cells": [
  {
   "cell_type": "code",
   "execution_count": 1,
   "metadata": {
    "scrolled": true
   },
   "outputs": [],
   "source": [
    "import numpy as np\n",
    "import math as mt\n",
    "import random as rd\n",
    "import permute as pm"
   ]
  },
  {
   "cell_type": "code",
   "execution_count": 2,
   "metadata": {},
   "outputs": [],
   "source": [
    "import fabian_bruteForce as bf\n",
    "\n",
    "# Generate adjacency matrix for testing purposes\n",
    "def genAdjMat(nNodes, symmetric = False): \n",
    "    print(nNodes)\n",
    "    if not symmetric:\n",
    "        adj_mat = np.array([[float(rd.randint(1,100)) for x in range(nNodes)] for x in range(nNodes)])\n",
    "        for idx in range(len(adj_mat)):\n",
    "            adj_mat[idx,idx] = np.inf\n",
    "    else:\n",
    "        adj_mat = np.zeros([nNodes,nNodes])\n",
    "        for idx1 in range(nNodes):\n",
    "            for idx2 in range(idx1+1,nNodes):\n",
    "                val = float(rd.randint(1,100))\n",
    "                adj_mat[idx1,idx2] = val\n",
    "                adj_mat[idx2,idx1] = val\n",
    "            adj_mat[idx1,idx1] = np.inf        \n",
    "    return adj_mat"
   ]
  },
  {
   "cell_type": "code",
   "execution_count": 7,
   "metadata": {},
   "outputs": [
    {
     "name": "stdout",
     "output_type": "stream",
     "text": [
      "9\n",
      "Adjacency matrix:\n",
      "[[inf 51. 36. 57. 84. 24. 27. 69. 16.]\n",
      " [51. inf 13. 65. 55. 80. 70. 25. 55.]\n",
      " [36. 13. inf 55. 60. 96.  4. 42. 48.]\n",
      " [57. 65. 55. inf 73. 53. 93. 66. 97.]\n",
      " [84. 55. 60. 73. inf 21. 32. 74. 74.]\n",
      " [24. 80. 96. 53. 21. inf 31. 90. 27.]\n",
      " [27. 70.  4. 93. 32. 31. inf 68. 92.]\n",
      " [69. 25. 42. 66. 74. 90. 68. inf 34.]\n",
      " [16. 55. 48. 97. 74. 27. 92. 34. inf]]\n",
      "\n",
      "Lowest Cost:  255.0\n",
      "With path:    [0 3 5 4 6 2 1 7 8 0]\n",
      "Lowest Cost:  255.0\n",
      "With path:    [0 3 5 4 6 2 1 7 8 0]\n"
     ]
    }
   ],
   "source": [
    "# mat = np.array([[np.inf, 63., 15., 95., 80.,  6.,  7.],\n",
    "#                [63., np.inf, 48., 76., 89., 93., 17.],\n",
    "#                [15., 48., np.inf,  2., 33., 65., 32.],\n",
    "#                [95., 76.,  2., np.inf, 45.,  9., 58.],\n",
    "#                [80., 89., 33., 45., np.inf, 99., 86.],\n",
    "#                [ 6., 93., 65.,  9., 99., np.inf,  2.],\n",
    "#                [ 7., 17., 32., 58., 86.,  2., np.inf]])\n",
    "\n",
    "\n",
    "mat = genAdjMat(9,symmetric=True)\n",
    "\n",
    "print(\"Adjacency matrix:\")\n",
    "print(mat)  \n",
    "print()\n",
    "\n",
    "a1,b1,c1 = bf.bruteForce(mat,symmetric=True,timed=True)\n",
    "print(\"Lowest Cost: \",a1)\n",
    "print(\"With path:   \",b1)\n",
    "\n",
    "\n",
    "a2,b2,c2 = bf.bruteForce(mat,timed=True)\n",
    "print(\"Lowest Cost: \",a2)\n",
    "print(\"With path:   \",b2)"
   ]
  },
  {
   "cell_type": "code",
   "execution_count": 12,
   "metadata": {},
   "outputs": [
    {
     "name": "stdout",
     "output_type": "stream",
     "text": [
      "3\n",
      "4\n",
      "5\n",
      "6\n",
      "7\n",
      "8\n",
      "9\n",
      "10\n"
     ]
    }
   ],
   "source": [
    "res = [[[bf.bruteForce(mat,symmetric=False, timed = True)[2], \n",
    "         bf.bruteForce(mat,symmetric=True,  timed = True)[2]] \n",
    "        for mat in [genAdjMat(idx,symmetric=True)]][0] \n",
    "       for idx in (np.arange(3,11))] \n"
   ]
  },
  {
   "cell_type": "code",
   "execution_count": 13,
   "metadata": {},
   "outputs": [
    {
     "data": {
      "text/plain": [
       "[[0.0004966259002685547, 0.0],\n",
       " [0.0009980201721191406, 0.0004987716674804688],\n",
       " [0.00099945068359375, 0.0009975433349609375],\n",
       " [0.005990505218505859, 0.005999565124511719],\n",
       " [0.007984399795532227, 0.0039920806884765625],\n",
       " [0.05639457702636719, 0.02694988250732422],\n",
       " [0.40123653411865234, 0.21060919761657715],\n",
       " [3.6442244052886963, 2.1445116996765137]]"
      ]
     },
     "execution_count": 13,
     "metadata": {},
     "output_type": "execute_result"
    }
   ],
   "source": [
    "res"
   ]
  },
  {
   "cell_type": "code",
   "execution_count": 14,
   "metadata": {
    "scrolled": true
   },
   "outputs": [
    {
     "data": {
      "image/png": "[encoded data removed]",
      "text/plain": [
       "<Figure size 432x288 with 1 Axes>"
      ]
     },
     "metadata": {},
     "output_type": "display_data"
    }
   ],
   "source": [
    "from matplotlib import pyplot as plt\n",
    "plt.title(\"Time of randomly generated, symmetric graphs\")\n",
    "plt.plot(np.arange(len(res))+3,np.array(res),'--x')\n",
    "plt.legend(['Without symmetry exploit','With symmetry exploit'])\n",
    "plt.xlabel(\"Number of nodes\")\n",
    "plt.ylabel(\"Time (in seconds)\")\n",
    "plt.show()"
   ]
  },
  {
   "cell_type": "code",
   "execution_count": 11,
   "metadata": {},
   "outputs": [
    {
     "data": {
      "text/plain": [
       "(0, 1, 2, 4, 3)"
      ]
     },
     "execution_count": 11,
     "metadata": {},
     "output_type": "execute_result"
    }
   ],
   "source": [
    "import itertools\n",
    "\n",
    "allpaths = iter((itertools.permutations(range(5))))\n",
    "next(allpaths)\n",
    "next(allpaths)"
   ]
  },
  {
   "cell_type": "code",
   "execution_count": 17,
   "metadata": {},
   "outputs": [
    {
     "data": {
      "text/plain": [
       "[0, 2, 1, 4, 3]"
      ]
     },
     "execution_count": 17,
     "metadata": {},
     "output_type": "execute_result"
    }
   ],
   "source": [
    "list(next(allpaths))"
   ]
  },
  {
   "cell_type": "code",
   "execution_count": null,
   "metadata": {},
   "outputs": [],
   "source": []
  }
 ],
 "metadata": {
  "kernelspec": {
   "display_name": "Python 3",
   "language": "python",
   "name": "python3"
  },
  "language_info": {
   "codemirror_mode": {
    "name": "ipython",
    "version": 3
   },
   "file_extension": ".py",
   "mimetype": "text/x-python",
   "name": "python",
   "nbconvert_exporter": "python",
   "pygments_lexer": "ipython3",
   "version": "3.6.5"
  }
 },
 "nbformat": 4,
 "nbformat_minor": 2
}
