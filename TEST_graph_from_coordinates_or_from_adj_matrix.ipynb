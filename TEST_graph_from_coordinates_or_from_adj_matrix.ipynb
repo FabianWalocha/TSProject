{
 "cells": [
  {
   "cell_type": "code",
   "execution_count": 1,
   "metadata": {},
   "outputs": [],
   "source": [
    "import graph_class as g\n",
    "import numpy as np"
   ]
  },
  {
   "cell_type": "code",
   "execution_count": 2,
   "metadata": {},
   "outputs": [
    {
     "data": {
      "text/plain": [
       "array([[0.14471128, 0.23324649, 0.32257301, 0.2191302 , 0.48292341],\n",
       "       [0.8832878 , 0.20993521, 0.53511595, 0.10538311, 0.11722284],\n",
       "       [0.97319619, 0.53653501, 0.34119439, 0.94582069, 0.03825419],\n",
       "       [0.76950959, 0.04472141, 0.17253595, 0.46790127, 0.11136645],\n",
       "       [0.28363622, 0.5801075 , 0.88025846, 0.86318465, 0.6646363 ]])"
      ]
     },
     "execution_count": 2,
     "metadata": {},
     "output_type": "execute_result"
    }
   ],
   "source": [
    "a = np.random.rand(5,5);a"
   ]
  },
  {
   "cell_type": "code",
   "execution_count": 3,
   "metadata": {},
   "outputs": [
    {
     "data": {
      "text/plain": [
       "array([[       inf, 0.23324649, 0.32257301, 0.2191302 , 0.48292341],\n",
       "       [0.23324649,        inf, 0.53511595, 0.10538311, 0.11722284],\n",
       "       [0.32257301, 0.53511595,        inf, 0.94582069, 0.03825419],\n",
       "       [0.2191302 , 0.10538311, 0.94582069,        inf, 0.11136645],\n",
       "       [0.48292341, 0.11722284, 0.03825419, 0.11136645,        inf]])"
      ]
     },
     "execution_count": 3,
     "metadata": {},
     "output_type": "execute_result"
    }
   ],
   "source": [
    "b = g.graph_from_adjacency_matrix(a);b.weighted_adjacency_matrix"
   ]
  },
  {
   "cell_type": "code",
   "execution_count": 4,
   "metadata": {},
   "outputs": [
    {
     "data": {
      "text/plain": [
       "array([[0.81246696, 0.85659766],\n",
       "       [0.58860195, 0.92125758],\n",
       "       [0.03345214, 0.88291256],\n",
       "       [0.89418764, 0.45627957],\n",
       "       [0.70307844, 0.69432786]])"
      ]
     },
     "execution_count": 4,
     "metadata": {},
     "output_type": "execute_result"
    }
   ],
   "source": [
    "c = np.random.rand(5,2);c"
   ]
  },
  {
   "cell_type": "code",
   "execution_count": 5,
   "metadata": {},
   "outputs": [
    {
     "data": {
      "text/plain": [
       "array([[inf,  0.,  1.,  0.,  0.],\n",
       "       [ 0., inf,  1.,  1.,  0.],\n",
       "       [ 1.,  1., inf,  1.,  1.],\n",
       "       [ 0.,  1.,  1., inf,  0.],\n",
       "       [ 0.,  0.,  1.,  0., inf]])"
      ]
     },
     "execution_count": 5,
     "metadata": {},
     "output_type": "execute_result"
    }
   ],
   "source": [
    "#default distance is nearest int euclidean 2D\n",
    "d =g.fully_connected_graph_from_coordinate_list(c);d.weighted_adjacency_matrix"
   ]
  },
  {
   "cell_type": "code",
   "execution_count": null,
   "metadata": {},
   "outputs": [],
   "source": []
  }
 ],
 "metadata": {
  "kernelspec": {
   "display_name": "Python 3",
   "language": "python",
   "name": "python3"
  },
  "language_info": {
   "codemirror_mode": {
    "name": "ipython",
    "version": 3
   },
   "file_extension": ".py",
   "mimetype": "text/x-python",
   "name": "python",
   "nbconvert_exporter": "python",
   "pygments_lexer": "ipython3",
   "version": "3.7.0"
  }
 },
 "nbformat": 4,
 "nbformat_minor": 2
}
