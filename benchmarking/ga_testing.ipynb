{
 "cells": [
  {
   "cell_type": "code",
   "execution_count": 1,
   "metadata": {},
   "outputs": [],
   "source": [
    "import sys\n",
    "sys.path.insert(0, '..')\n",
    "\n",
    "import random as rd\n",
    "import math as mt\n",
    "import numpy as np\n",
    "import pandas as pd\n",
    "from scipy.spatial.distance import pdist\n",
    "from matplotlib import pyplot as plt\n",
    "\n",
    "import dill as pickle\n",
    "from time import gmtime, strftime"
   ]
  },
  {
   "cell_type": "code",
   "execution_count": 2,
   "metadata": {},
   "outputs": [],
   "source": [
    "import graph_class as gc\n",
    "\n",
    "from algorithms import GA_Final_Kris as ga"
   ]
  },
  {
   "cell_type": "code",
   "execution_count": 4,
   "metadata": {},
   "outputs": [],
   "source": [
    "files = [['a280',2579],\n",
    "         ['berlin52',7542],['bier127',118282],\n",
    "         #['brd14051',np.inf]\n",
    "         ['ch130',6110],['ch150',6528],\n",
    "         ['d198',15780],\n",
    "         #['d493',35002],['d657',48912],\n",
    "         #['d1291',50801],['d1655',62128],['d18512',645238],\n",
    "         ['eil51',426],['eil76',538],['eil101',629],\n",
    "         #['fl417',11861],\n",
    "         #['fl1400',20127],['fl1577',22249],['fl3795',28772],['fnl4461',182566],\n",
    "         ['gil262',2378],['kroA150',26524],['kroA200',29368],['kroB100',22141],['kroB150',26130],['kroB200',29437],\n",
    "         ['kroC100',20749],['kroD100',21294],['kroE100',22068],\n",
    "         ['lin105',14379],\n",
    "         #['lin318',42029],\n",
    "         #['nrw1379',56638],\n",
    "         #['p654',34643],['pcb442',50778],\n",
    "         #['pcb1173',56892],\n",
    "         ['pr76',108159],['pr107',44303],['pr124',59030],['pr136',96772],['pr144',58537],\n",
    "         ['pr152',73682],\n",
    "         ['pr226',80369],['pr264',49135],['pr299',48191],\n",
    "         #['pr439',107217],\n",
    "         #['pr1002',259045],['pr2392',378032],\n",
    "         ['rat99',1211],['rat195',2323],\n",
    "         #['rat575',6773],['rat783',8806],\n",
    "         ['rd100',7910],\n",
    "         #['rd400',15281],\n",
    "         #['rl1304',252948],['rl1323',270199],['rl1889',316536],['rl5915',565530],['rl5934',556045],['rl11894',923288],\n",
    "         ['ts225',126643],['u159',42080]\n",
    "         #,['u574',36905],['u724',41910]#,\n",
    "         #['u1060',224094],['u1432',152970],['u1817',57201],\n",
    "         #['u2152',64253],['u2319',234256],['usa13509',19982859],['vm1084',239297],['vm1748',336556]\n",
    "        ]\n",
    "\n",
    "datasets = pd.ExcelFile(\"../data/Symmetrical TSP/all_data_euc2d.xlsx\",header=None)"
   ]
  },
  {
   "cell_type": "code",
   "execution_count": null,
   "metadata": {},
   "outputs": [],
   "source": [
    "for file in files:\n",
    "    print(file[0])\n",
    "    data = np.array(pd.read_excel(datasets,file[0],header=None).iloc[:,1:])\n",
    "    graph = gc.fully_connected_graph_from_coordinate_list(data)\n",
    "    for runs in range(5):\n",
    "        gas.append(ga.GA_approach(graph))\n",
    "    res = [np.mean([idx[1] for idx in sas]),np.std([idx[1] for idx in gas])]\n",
    "    time = [np.mean([idx[0] for idx in sas]),np.std([idx[0] for idx in gas])]       \n",
    "    print(res,time)"
   ]
  }
 ],
 "metadata": {
  "kernelspec": {
   "display_name": "Python 3",
   "language": "python",
   "name": "python3"
  },
  "language_info": {
   "codemirror_mode": {
    "name": "ipython",
    "version": 3
   },
   "file_extension": ".py",
   "mimetype": "text/x-python",
   "name": "python",
   "nbconvert_exporter": "python",
   "pygments_lexer": "ipython3",
   "version": "3.6.5"
  }
 },
 "nbformat": 4,
 "nbformat_minor": 2
}
