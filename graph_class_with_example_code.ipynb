{
 "cells": [
  {
   "cell_type": "code",
   "execution_count": 1,
   "metadata": {},
   "outputs": [],
   "source": [
    "import numpy as np"
   ]
  },
  {
   "cell_type": "code",
   "execution_count": 2,
   "metadata": {},
   "outputs": [],
   "source": [
    "class vertex:\n",
    "    def __init__(self, vertex_name):\n",
    "        self.neighbourhood = []\n",
    "        # ANY kind of ID. For Heidelberg, could be latitude, longitude, altitude...\n",
    "        self.name = vertex_name\n",
    "    def is_neighbour_of(self, vertex):\n",
    "        self.neighbourhood.append(vertex)\n",
    "    def print(self):\n",
    "        print(self.name)        \n",
    "        \n",
    "class edge:\n",
    "    def __init__(self, a, b, w):\n",
    "        self.v1 = a\n",
    "        self.v2 = b\n",
    "        self.weight = w      \n",
    "    def print(self):\n",
    "        print(self.v1.name, \"to\", self.v2.name, \"taking\", self.weight, \"km\")\n",
    "    \n",
    "class graph:  \n",
    "    def __init__(self,v1,v2,w):\n",
    "        self.vertices = []\n",
    "        self.dic_vertices = {}\n",
    "        self.edges = []\n",
    "        self.dic_edges = {}\n",
    "        #adjacency matrix is composed of np.infty and weights; \n",
    "        self.weighted_adjacency_matrix = np.ones((1))*np.infty \n",
    "        \n",
    "        #symmetric TSP        \n",
    "        v1.is_neighbour_of(v2)\n",
    "        v2.is_neighbour_of(v1)\n",
    "        \n",
    "        self.dic_edges[(v1.name,v2.name)]=len(self.edges)\n",
    "        self.edges.append(edge(v1,v2,w))\n",
    "                \n",
    "        self.dic_vertices[v1.name]=len(self.vertices)\n",
    "        self.vertices.append(v1)\n",
    "        self.dic_vertices[v2.name]=len(self.vertices)\n",
    "        self.vertices.append(v2)   \n",
    "                \n",
    "        a = (len(self.vertices), len(self.vertices))\n",
    "        \n",
    "        temp_matrix = np.ones(a)*np.infty\n",
    "        #symmetric TSP                      \n",
    "        temp_matrix[self.dic_vertices[v1.name], self.dic_vertices[v2.name]] = w\n",
    "        temp_matrix[self.dic_vertices[v2.name], self.dic_vertices[v1.name]] = w\n",
    "\n",
    "        temp_matrix[:-1,:-1] = self.weighted_adjacency_matrix\n",
    "        self.weighted_adjacency_matrix =np.copy(temp_matrix)\n",
    "        \n",
    "        \n",
    "    def attach_vertex(self, new_vertex, existing_vertex, weight):        \n",
    "\n",
    "        new_edge = edge(new_vertex, existing_vertex, weight)\n",
    "        \n",
    "        self.dic_edges[(new_edge.v1.name,new_edge.v2.name)] = len(self.edges) \n",
    "        self.edges.append(new_edge)\n",
    "        \n",
    "        self.dic_vertices[new_vertex.name]=len(self.vertices)\n",
    "        self.vertices.append(new_vertex)\n",
    "        \n",
    "        \n",
    "        #append a column and a row to the symmetric adjacency matrix, where the (new_vertex, existing_vertex) entries\n",
    "        #are updated with weight, everything else set to zero\n",
    "        \n",
    "        #dictionary of names to indices makes the substitution straightforward\n",
    "             \n",
    "        # new matrix with an extra row and column\n",
    "        a = (len(self.vertices), len(self.vertices))\n",
    "        temp_matrix = np.ones(a)*np.infty\n",
    "        # copy the weight to the appropriate place and vice versa (symmetric TSP)\n",
    "        temp_matrix[self.dic_vertices[new_vertex.name],self.dic_vertices[existing_vertex.name]] = weight\n",
    "        temp_matrix[self.dic_vertices[existing_vertex.name],self.dic_vertices[new_vertex.name]] = weight\n",
    "        #and copy the old matrix entries onto the new matriz entries\n",
    "        temp_matrix[:-1,:-1] = self.weighted_adjacency_matrix\n",
    "        self.weighted_adjacency_matrix =np.copy(temp_matrix)\n",
    "        \n",
    "        #symmetric TSP\n",
    "        self.vertices[self.dic_vertices[new_vertex.name]].is_neighbour_of(self.vertices[self.dic_vertices[existing_vertex.name]])\n",
    "        self.vertices[self.dic_vertices[existing_vertex.name]].is_neighbour_of(self.vertices[self.dic_vertices[new_vertex.name]])\n",
    "             \n",
    "    def attach_edge(self, v1, v2, weight):\n",
    "        \n",
    "        new_edge = edge(v1, v2, weight)\n",
    "        self.dic_edges[(new_edge.v1.name,new_edge.v2.name)] = len(self.edges) \n",
    "\n",
    "        self.edges.append(new_edge)\n",
    "        #symmetric TSP\n",
    "        self.weighted_adjacency_matrix[self.dic_vertices[v1.name],self.dic_vertices[v2.name]] = weight\n",
    "        self.weighted_adjacency_matrix[self.dic_vertices[v2.name],self.dic_vertices[v1.name]] = weight\n",
    "\n",
    "        self.vertices[self.dic_vertices[v1.name]].is_neighbour_of(self.vertices[self.dic_vertices[v2.name]])\n",
    "        self.vertices[self.dic_vertices[v2.name]].is_neighbour_of(self.vertices[self.dic_vertices[v1.name]])\n",
    "        \n",
    "    def remove_edge(self, v1, v2):\n",
    "        #symmetric TSP\n",
    "        # remove edge and dictionary reference from the graph\n",
    "        try:\n",
    "            index = self.dic_edges[(v1.name,v2.name)]\n",
    "        except:\n",
    "            index = self.dic_edges[(v2.name,v1.name)]\n",
    "        del self.edges[index]\n",
    "        \n",
    "        try:\n",
    "            del self.dic_edges[(v1.name,v2.name)]\n",
    "        except:\n",
    "            del self.dic_edges[(v2.name,v1.name)]\n",
    "            \n",
    "        # update adjacency matrix entries to infinity\n",
    "        self.weighted_adjacency_matrix[self.dic_vertices[v1.name],self.dic_vertices[v2.name]] = np.infty\n",
    "        self.weighted_adjacency_matrix[self.dic_vertices[v2.name],self.dic_vertices[v1.name]] = np.infty\n",
    "        # remove vertices from each other's neighbourhood\n",
    "        self.vertices[self.dic_vertices[v1.name]].neighbourhood.remove(self.vertices[self.dic_vertices[v2.name]])\n",
    "        self.vertices[self.dic_vertices[v2.name]].neighbourhood.remove(self.vertices[self.dic_vertices[v1.name]])\n",
    "\n",
    "        \n",
    "    def update_edge(self, v1, v2, new_weight):\n",
    "        #symmetric TSP\n",
    "        try:\n",
    "            index = self.dic_edges[(v1.name,v2.name)]\n",
    "        except:\n",
    "            index = self.dic_edges[(v2.name,v1.name)]\n",
    "            \n",
    "        self.edges[index].weight = new_weight   \n",
    "        self.weighted_adjacency_matrix[self.dic_vertices[v1.name],self.dic_vertices[v2.name]] = new_weight\n",
    "        self.weighted_adjacency_matrix[self.dic_vertices[v2.name],self.dic_vertices[v1.name]] = new_weight\n",
    "        \n",
    "    def get_edge(self,v1,v2):\n",
    "        \"\"\"returns a list with the index and weight of the edge between v1 and v2 (symmetric)\"\"\"\n",
    "        try:\n",
    "            index = self.dic_edges[(v1.name,v2.name)]\n",
    "        except:\n",
    "            index = self.dic_edges[(v2.name,v1.name)]\n",
    "        return [index, self.edges[index].weight]\n",
    "                    \n",
    "    def attach_vertex_fully_connected(self, new_vertex, weight_function):\n",
    "        \"\"\"used to build fully connected graphs (Heidelberg)\"\"\"\n",
    "        vertex_list = self.vertices.copy()\n",
    "        self.attach_vertex(new_vertex, vertex_list[0], weight_function(new_vertex, vertex_list[0]))\n",
    "        \n",
    "        for existing_vertex in vertex_list[1:]:\n",
    "            self.attach_edge(new_vertex, existing_vertex, weight_function(new_vertex, existing_vertex))\n",
    "            \n",
    "    def print(self):\n",
    "        \"\"\"prints general info\"\"\"\n",
    "        names = [a.name for a in self.vertices]\n",
    "        print(len(self.vertices), \"VERTICES:\",', '.join(names),\"\\n\")\n",
    "        weights = [str(a.weight)+\" km\" for a in self.edges]\n",
    "        print(len(self.edges), \"EDGES:\",', '.join(weights))\n",
    "        print(\"\\nADJACENCY MATRIX:\\n\",self.weighted_adjacency_matrix)"
   ]
  },
  {
   "cell_type": "code",
   "execution_count": 3,
   "metadata": {},
   "outputs": [],
   "source": [
    "def get_node_coordinates_2D(filename):\n",
    "    \"\"\"gets node coordinates in 2D. Should work with any distance\"\"\"\n",
    "    node_coordinates = []\n",
    "\n",
    "    with open(filename) as input_data:\n",
    "        interesting_lines = []\n",
    "    \n",
    "        for line in input_data:\n",
    "            if line.strip() == 'NODE_COORD_SECTION':  #read from this point\n",
    "                break\n",
    "            \n",
    "        for line in input_data:\n",
    "            if line.strip() == 'EOF': #until this point\n",
    "                break\n",
    "            else:\n",
    "                interesting_lines.append(list(map(float,line.split()))) #some files have ints in floating point notation\n",
    "\n",
    "    input_data.close()\n",
    "    node_coordinates = np.array(interesting_lines)[:,[1,2]]\n",
    "    return node_coordinates"
   ]
  },
  {
   "cell_type": "code",
   "execution_count": 4,
   "metadata": {},
   "outputs": [],
   "source": [
    "def nearest_int(x):\n",
    "    if x-int(x)<int(x+1)-x:\n",
    "        return int(x)\n",
    "    else:\n",
    "        return int(x+1)"
   ]
  },
  {
   "cell_type": "code",
   "execution_count": 5,
   "metadata": {},
   "outputs": [],
   "source": [
    "def nearest_int_euclidean_distance_2D(v1,v2):\n",
    "    \"\"\"between vertices, rounded to the nearest integer,\n",
    "    as required in the TSPLIB docs\"\"\"\n",
    "    xd = v1.name[0] - v2.name[0]\n",
    "    yd = v1.name[1] - v2.name[1]\n",
    "    return nearest_int(np.sqrt(xd*xd + yd*yd))"
   ]
  },
  {
   "cell_type": "code",
   "execution_count": 6,
   "metadata": {},
   "outputs": [],
   "source": [
    "def heidelberg_2D(filename):\n",
    "    \"\"\"parses 2D distance TSP type .tsp file from Heidelberg and returns the graph\"\"\"\n",
    "    nodes = get_node_coordinates_2D(filename)\n",
    "    v1 = vertex(tuple(nodes[0]))\n",
    "    v2 = vertex(tuple(nodes[1]))\n",
    "    heidelberg_graph = graph(v1,v2, nearest_int_euclidean_distance_2D(v1,v2))\n",
    "    for node in nodes[2:]:\n",
    "        heidelberg_graph.attach_vertex_fully_connected(vertex(tuple(node)), nearest_int_euclidean_distance_2D)\n",
    "    return heidelberg_graph"
   ]
  },
  {
   "cell_type": "markdown",
   "metadata": {},
   "source": [
    "#### Creating a graph with two vertices named \"Cairo\" and \"Paris\", at a distance of 5000km:"
   ]
  },
  {
   "cell_type": "code",
   "execution_count": 7,
   "metadata": {},
   "outputs": [
    {
     "name": "stdout",
     "output_type": "stream",
     "text": [
      "2 VERTICES: Cairo, Paris \n",
      "\n",
      "1 EDGES: 5000 km\n",
      "\n",
      "ADJACENCY MATRIX:\n",
      " [[  inf 5000.]\n",
      " [5000.   inf]]\n"
     ]
    }
   ],
   "source": [
    "first_graph = graph(vertex(\"Cairo\"),vertex(\"Paris\"), 5000)\n",
    "first_graph.print()"
   ]
  },
  {
   "cell_type": "markdown",
   "metadata": {},
   "source": [
    "#### The distance between Paris and Cairo is actually 5418.9 km. Note that the ``update_edge()`` method is symmetric as a function of the vertices."
   ]
  },
  {
   "cell_type": "code",
   "execution_count": 8,
   "metadata": {},
   "outputs": [
    {
     "name": "stdout",
     "output_type": "stream",
     "text": [
      "2 VERTICES: Cairo, Paris \n",
      "\n",
      "1 EDGES: 5418.9 km\n",
      "\n",
      "ADJACENCY MATRIX:\n",
      " [[   inf 5418.9]\n",
      " [5418.9    inf]]\n"
     ]
    }
   ],
   "source": [
    "first_graph.update_edge(vertex(\"Paris\"), vertex(\"Cairo\"),5418.9)\n",
    "first_graph.print()"
   ]
  },
  {
   "cell_type": "markdown",
   "metadata": {},
   "source": [
    "#### We can remove the edge between the two cities:"
   ]
  },
  {
   "cell_type": "code",
   "execution_count": 9,
   "metadata": {},
   "outputs": [
    {
     "name": "stdout",
     "output_type": "stream",
     "text": [
      "2 VERTICES: Cairo, Paris \n",
      "\n",
      "0 EDGES: \n",
      "\n",
      "ADJACENCY MATRIX:\n",
      " [[inf inf]\n",
      " [inf inf]]\n"
     ]
    }
   ],
   "source": [
    "first_graph.remove_edge(vertex(\"Cairo\"),vertex(\"Paris\"))\n",
    "first_graph.print()"
   ]
  },
  {
   "cell_type": "markdown",
   "metadata": {},
   "source": [
    "#### Note that the neighbourhood of the two vertices is now empty:"
   ]
  },
  {
   "cell_type": "code",
   "execution_count": 10,
   "metadata": {},
   "outputs": [
    {
     "data": {
      "text/plain": [
       "([], [])"
      ]
     },
     "execution_count": 10,
     "metadata": {},
     "output_type": "execute_result"
    }
   ],
   "source": [
    "first_graph.vertices[0].neighbourhood, first_graph.vertices[1].neighbourhood"
   ]
  },
  {
   "cell_type": "markdown",
   "metadata": {},
   "source": [
    "#### We can attach the edge back in place:"
   ]
  },
  {
   "cell_type": "code",
   "execution_count": 11,
   "metadata": {},
   "outputs": [
    {
     "name": "stdout",
     "output_type": "stream",
     "text": [
      "2 VERTICES: Cairo, Paris \n",
      "\n",
      "1 EDGES: 5418.9 km\n",
      "\n",
      "ADJACENCY MATRIX:\n",
      " [[   inf 5418.9]\n",
      " [5418.9    inf]]\n"
     ]
    }
   ],
   "source": [
    "first_graph.attach_edge(vertex(\"Cairo\"), vertex(\"Paris\"), 5418.9)\n",
    "first_graph.print()"
   ]
  },
  {
   "cell_type": "markdown",
   "metadata": {},
   "source": [
    "#### And the neighbourhoods are updated as well"
   ]
  },
  {
   "cell_type": "code",
   "execution_count": 12,
   "metadata": {},
   "outputs": [
    {
     "data": {
      "text/plain": [
       "([<__main__.vertex at 0x7fa94a44b7b8>], [<__main__.vertex at 0x7fa94a44bac8>])"
      ]
     },
     "execution_count": 12,
     "metadata": {},
     "output_type": "execute_result"
    }
   ],
   "source": [
    "first_graph.vertices[0].neighbourhood, first_graph.vertices[1].neighbourhood"
   ]
  },
  {
   "cell_type": "markdown",
   "metadata": {},
   "source": [
    "#### Attach a new city to a city in the graph updates the adjacency matrix as well:"
   ]
  },
  {
   "cell_type": "code",
   "execution_count": 13,
   "metadata": {},
   "outputs": [
    {
     "name": "stdout",
     "output_type": "stream",
     "text": [
      "3 VERTICES: Cairo, Paris, Saint Etienne \n",
      "\n",
      "2 EDGES: 5418.9 km, 6000 km\n",
      "\n",
      "ADJACENCY MATRIX:\n",
      " [[   inf 5418.9 6000. ]\n",
      " [5418.9    inf    inf]\n",
      " [6000.     inf    inf]]\n"
     ]
    }
   ],
   "source": [
    "first_graph.attach_vertex(vertex(\"Saint Etienne\"), vertex(\"Cairo\"),6000)\n",
    "first_graph.print()"
   ]
  },
  {
   "cell_type": "markdown",
   "metadata": {},
   "source": [
    "#### Note that it also updates the neighbourhood of all vertices"
   ]
  },
  {
   "cell_type": "code",
   "execution_count": 14,
   "metadata": {},
   "outputs": [
    {
     "data": {
      "text/plain": [
       "([<__main__.vertex at 0x7fa94a44b7b8>, <__main__.vertex at 0x7fa94a3ff550>],\n",
       " [<__main__.vertex at 0x7fa94a44bac8>],\n",
       " [<__main__.vertex at 0x7fa94a44bac8>])"
      ]
     },
     "execution_count": 14,
     "metadata": {},
     "output_type": "execute_result"
    }
   ],
   "source": [
    "first_graph.vertices[0].neighbourhood, first_graph.vertices[1].neighbourhood, first_graph.vertices[2].neighbourhood"
   ]
  },
  {
   "cell_type": "markdown",
   "metadata": {},
   "source": [
    "#### Parse the file by passing the file name to the ``heidelberg_2D`` function"
   ]
  },
  {
   "cell_type": "code",
   "execution_count": 15,
   "metadata": {},
   "outputs": [],
   "source": [
    "file = './data/a280.tsp'\n",
    "heidelberg_graph = heidelberg_2D(file)"
   ]
  },
  {
   "cell_type": "markdown",
   "metadata": {},
   "source": [
    "#### ``heidelberg_graph.weighted_adjacency_matrix`` stores the graph's adjacency matrix as a numpy array:"
   ]
  },
  {
   "cell_type": "code",
   "execution_count": 16,
   "metadata": {},
   "outputs": [
    {
     "data": {
      "text/plain": [
       "array([[inf, 20., 24., ..., 43., 34., 18.],\n",
       "       [20., inf, 18., ..., 36., 28.,  9.],\n",
       "       [24., 18., inf, ..., 20., 11., 10.],\n",
       "       ...,\n",
       "       [43., 36., 20., ..., inf,  9., 29.],\n",
       "       [34., 28., 11., ...,  9., inf, 20.],\n",
       "       [18.,  9., 10., ..., 29., 20., inf]])"
      ]
     },
     "execution_count": 16,
     "metadata": {},
     "output_type": "execute_result"
    }
   ],
   "source": [
    "heidelberg_graph.weighted_adjacency_matrix"
   ]
  },
  {
   "cell_type": "markdown",
   "metadata": {},
   "source": [
    "#### ``heidelberg_graph.vertices`` stores all the vertices and ``heidelberg_graph.edges`` all the edges:"
   ]
  },
  {
   "cell_type": "code",
   "execution_count": 17,
   "metadata": {},
   "outputs": [
    {
     "data": {
      "text/plain": [
       "([<__main__.vertex at 0x7fa960082550>,\n",
       "  <__main__.vertex at 0x7fa960082748>,\n",
       "  <__main__.vertex at 0x7fa94a3ff208>,\n",
       "  <__main__.vertex at 0x7fa94a3ff0b8>,\n",
       "  <__main__.vertex at 0x7fa94a3ff3c8>],\n",
       " [<__main__.edge at 0x7fa94a3ff4e0>,\n",
       "  <__main__.edge at 0x7fa94a3ff518>,\n",
       "  <__main__.edge at 0x7fa94a3ff198>,\n",
       "  <__main__.edge at 0x7fa94a3ff080>,\n",
       "  <__main__.edge at 0x7fa94a3ff128>])"
      ]
     },
     "execution_count": 17,
     "metadata": {},
     "output_type": "execute_result"
    }
   ],
   "source": [
    "heidelberg_graph.vertices[:5], heidelberg_graph.edges[:5]"
   ]
  },
  {
   "cell_type": "markdown",
   "metadata": {},
   "source": [
    "#### Use the ``graph.get_edge()`` method to get the index and weight of the edge between two vertices. Note that it matches the entry in the adjacency matrix!"
   ]
  },
  {
   "cell_type": "code",
   "execution_count": 18,
   "metadata": {},
   "outputs": [
    {
     "data": {
      "text/plain": [
       "([210, 141], 141.0)"
      ]
     },
     "execution_count": 18,
     "metadata": {},
     "output_type": "execute_result"
    }
   ],
   "source": [
    "a = heidelberg_graph.vertices[0]\n",
    "b = heidelberg_graph.vertices[21]\n",
    "heidelberg_graph.get_edge(a,b), heidelberg_graph.weighted_adjacency_matrix[0,21]"
   ]
  }
 ],
 "metadata": {
  "kernelspec": {
   "display_name": "Python 3",
   "language": "python",
   "name": "python3"
  },
  "language_info": {
   "codemirror_mode": {
    "name": "ipython",
    "version": 3
   },
   "file_extension": ".py",
   "mimetype": "text/x-python",
   "name": "python",
   "nbconvert_exporter": "python",
   "pygments_lexer": "ipython3",
   "version": "3.7.0"
  }
 },
 "nbformat": 4,
 "nbformat_minor": 2
}
